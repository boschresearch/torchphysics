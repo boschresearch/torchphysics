{
 "cells": [
  {
   "cell_type": "markdown",
   "metadata": {},
   "source": [
    "### Periodic Boundary Problem\n",
    "Here we want to solve a problem with a periodic boundary condition. We consider:\n",
    "\\begin{align*}\n",
    "    - \\Delta u(x, y) &= f(x, y), \\text{ for } (x, y) \\in [0, 1] \\times  [0, 1]\\\\\n",
    "    u(0, y) &= u(1, y)  , \\text{ for } y \\in [0, 1] \\\\\n",
    "    u(x, y) &= 0 , \\text{ for } x \\in [0, 1], y \\in \\{0, 1\\} \\\\\n",
    "\\end{align*}"
   ]
  },
  {
   "cell_type": "code",
   "execution_count": 1,
   "metadata": {},
   "outputs": [],
   "source": [
    "import torch\n",
    "import os\n",
    "import pytorch_lightning as pl\n",
    "import torchphysics as tp\n",
    "import numpy as np"
   ]
  },
  {
   "cell_type": "code",
   "execution_count": 2,
   "metadata": {},
   "outputs": [],
   "source": [
    "# For the periodich condition we need to split up the domain in each direction:\n",
    "X = tp.spaces.R1('x')\n",
    "Y = tp.spaces.R1('y')\n",
    "P = tp.spaces.R1('u')\n",
    "\n",
    "# Therefore we create here the interval and a square.\n",
    "# Mathematically: square = X_domain * Y_domain \n",
    "# The square can be used inside the pde-condition and for plotting, to make \n",
    "# the sampling a little bit faster.\n",
    "L = 1.0\n",
    "X_domain = tp.domains.Interval(X, 0, L)\n",
    "Y_domain = tp.domains.Interval(Y, 0, L)\n",
    "square = tp.domains.Parallelogram(X*Y, [0, 0], [L, 0], [0, L])"
   ]
  },
  {
   "cell_type": "code",
   "execution_count": 3,
   "metadata": {},
   "outputs": [],
   "source": [
    "model = tp.models.FCN(input_space=X*Y, output_space=P, hidden=(50, 50))"
   ]
  },
  {
   "cell_type": "markdown",
   "metadata": {},
   "source": [
    "For a periodic boundary condition, there exists a special class: `tp.conditions.PeriodicCondition`."
   ]
  },
  {
   "cell_type": "code",
   "execution_count": 4,
   "metadata": {},
   "outputs": [],
   "source": [
    "# We only need to create a sampler for the y-variable, the condition will create the points\n",
    "# in the x domain internally.\n",
    "boundary_sampler = tp.samplers.RandomUniformSampler(Y_domain, n_points=3000)\n",
    "# The condition will evaluate the model on the left and right boundary, for each input\n",
    "# that is created with the `boundary_sampler`. The outputs can be used with \n",
    "# \"'model_name'_left\" and \"'model_name'_right\", here 'model_name' = u.\n",
    "def bc_fun(u_left, u_right):\n",
    "    return u_left - u_right\n",
    "\n",
    "bound_cond = tp.conditions.PeriodicCondition(module=model,\n",
    "                                             periodic_interval=X_domain,\n",
    "                                             non_periodic_sampler=boundary_sampler,\n",
    "                                             residual_fn=bc_fun, \n",
    "                                             weight=50.0)"
   ]
  },
  {
   "cell_type": "markdown",
   "metadata": {},
   "source": [
    "The PDE and Dirchlet-Condition are like always:"
   ]
  },
  {
   "cell_type": "code",
   "execution_count": 5,
   "metadata": {},
   "outputs": [],
   "source": [
    "dirichlet_sampler = tp.samplers.RandomUniformSampler(X_domain*Y_domain.boundary, n_points=3000)\n",
    "\n",
    "def dirichlet_fun(u):\n",
    "    return u\n",
    "\n",
    "dirichlet_cond = tp.conditions.PINNCondition(model, dirichlet_sampler, dirichlet_fun)"
   ]
  },
  {
   "cell_type": "code",
   "execution_count": 6,
   "metadata": {},
   "outputs": [],
   "source": [
    "def pde(u, x, y):\n",
    "    u_xx = tp.utils.laplacian(u, x, y)\n",
    "    f = 3*x*torch.sin(2*np.pi*y) + torch.exp(-((x-0.5)**2 + (y-0.5)**2)/0.05)\n",
    "    return u_xx + f\n",
    "\n",
    "pde_sampler = tp.samplers.RandomUniformSampler(square, n_points=8000)\n",
    "\n",
    "pde_cond = tp.conditions.PINNCondition(module=model,\n",
    "                                       sampler=pde_sampler, \n",
    "                                       residual_fn=pde)"
   ]
  },
  {
   "cell_type": "code",
   "execution_count": 7,
   "metadata": {},
   "outputs": [
    {
     "name": "stderr",
     "output_type": "stream",
     "text": [
      "GPU available: True, used: True\n",
      "TPU available: False, using: 0 TPU cores\n",
      "LOCAL_RANK: 0 - CUDA_VISIBLE_DEVICES: [2]\n",
      "\n",
      "  | Name             | Type       | Params\n",
      "------------------------------------------------\n",
      "0 | train_conditions | ModuleList | 2.8 K \n",
      "1 | val_conditions   | ModuleList | 0     \n",
      "------------------------------------------------\n",
      "2.8 K     Trainable params\n",
      "0         Non-trainable params\n",
      "2.8 K     Total params\n",
      "0.011     Total estimated model params size (MB)\n"
     ]
    },
    {
     "data": {
      "application/vnd.jupyter.widget-view+json": {
       "model_id": "e816c5d27a134e538837548e5553a1d4",
       "version_major": 2,
       "version_minor": 0
      },
      "text/plain": [
       "Validation sanity check: 0it [00:00, ?it/s]"
      ]
     },
     "metadata": {},
     "output_type": "display_data"
    },
    {
     "name": "stderr",
     "output_type": "stream",
     "text": [
      "/home/tomfre/miniconda3/envs/bosch/lib/python3.9/site-packages/pytorch_lightning/utilities/distributed.py:69: UserWarning: The dataloader, val dataloader 0, does not have many workers which may be a bottleneck. Consider increasing the value of the `num_workers` argument` (try 20 which is the number of cpus on this machine) in the `DataLoader` init to improve performance.\n",
      "  warnings.warn(*args, **kwargs)\n",
      "/home/tomfre/miniconda3/envs/bosch/lib/python3.9/site-packages/pytorch_lightning/utilities/distributed.py:69: UserWarning: The dataloader, train dataloader, does not have many workers which may be a bottleneck. Consider increasing the value of the `num_workers` argument` (try 20 which is the number of cpus on this machine) in the `DataLoader` init to improve performance.\n",
      "  warnings.warn(*args, **kwargs)\n"
     ]
    },
    {
     "data": {
      "application/vnd.jupyter.widget-view+json": {
       "model_id": "4038cbd387eb4c92ba798a6fbfda39a2",
       "version_major": 2,
       "version_minor": 0
      },
      "text/plain": [
       "Training: 0it [00:00, ?it/s]"
      ]
     },
     "metadata": {},
     "output_type": "display_data"
    },
    {
     "data": {
      "application/vnd.jupyter.widget-view+json": {
       "model_id": "a1867bc14c4d40a4b1b8d8819c3e4b95",
       "version_major": 2,
       "version_minor": 0
      },
      "text/plain": [
       "Validating: 0it [00:00, ?it/s]"
      ]
     },
     "metadata": {},
     "output_type": "display_data"
    }
   ],
   "source": [
    "optim = tp.OptimizerSetting(optimizer_class=torch.optim.Adam, lr=0.001)\n",
    "\n",
    "solver = tp.solver.Solver([pde_cond, bound_cond, dirichlet_cond], optimizer_setting=optim)\n",
    "\n",
    "trainer = pl.Trainer(devices=1, accelerator=\"gpu\",\n",
    "                     num_sanity_val_steps=0,\n",
    "                     benchmark=True,\n",
    "                     max_steps=5000, \n",
    "                     logger=False, \n",
    "                     enable_checkpointing=False)\n",
    "trainer.fit(solver)"
   ]
  },
  {
   "cell_type": "code",
   "execution_count": 8,
   "metadata": {},
   "outputs": [
    {
     "name": "stderr",
     "output_type": "stream",
     "text": [
      "GPU available: True, used: True\n",
      "TPU available: False, using: 0 TPU cores\n",
      "LOCAL_RANK: 0 - CUDA_VISIBLE_DEVICES: [2]\n",
      "\n",
      "  | Name             | Type       | Params\n",
      "------------------------------------------------\n",
      "0 | train_conditions | ModuleList | 2.8 K \n",
      "1 | val_conditions   | ModuleList | 0     \n",
      "------------------------------------------------\n",
      "2.8 K     Trainable params\n",
      "0         Non-trainable params\n",
      "2.8 K     Total params\n",
      "0.011     Total estimated model params size (MB)\n"
     ]
    },
    {
     "data": {
      "application/vnd.jupyter.widget-view+json": {
       "model_id": "09390c7d2a8c42129ba4d797b4c42174",
       "version_major": 2,
       "version_minor": 0
      },
      "text/plain": [
       "Validation sanity check: 0it [00:00, ?it/s]"
      ]
     },
     "metadata": {},
     "output_type": "display_data"
    },
    {
     "data": {
      "application/vnd.jupyter.widget-view+json": {
       "model_id": "f310e7907d1b4c4088f87a175ebd89f3",
       "version_major": 2,
       "version_minor": 0
      },
      "text/plain": [
       "Training: 0it [00:00, ?it/s]"
      ]
     },
     "metadata": {},
     "output_type": "display_data"
    },
    {
     "data": {
      "application/vnd.jupyter.widget-view+json": {
       "model_id": "72a2ab9778b6410fbdd11082fab7ac35",
       "version_major": 2,
       "version_minor": 0
      },
      "text/plain": [
       "Validating: 0it [00:00, ?it/s]"
      ]
     },
     "metadata": {},
     "output_type": "display_data"
    }
   ],
   "source": [
    "optim = tp.OptimizerSetting(optimizer_class=torch.optim.LBFGS, lr=0.05, \n",
    "                            optimizer_args={'max_iter': 10, 'history_size': 100})\n",
    "\n",
    "solver = tp.solver.Solver([pde_cond, bound_cond, dirichlet_cond], optimizer_setting=optim)\n",
    "bound_cond.non_periodic_sampler = bound_cond.non_periodic_sampler.make_static()\n",
    "pde_cond.sampler = pde_cond.sampler.make_static()\n",
    "dirichlet_cond.sampler = dirichlet_cond.sampler.make_static()\n",
    "\n",
    "trainer = pl.Trainer(gpus=1,\n",
    "                     max_steps=1000,\n",
    "                     logger=False,\n",
    "                     benchmark=True,\n",
    "                     checkpoint_callback=False)\n",
    "trainer.fit(solver)"
   ]
  },
  {
   "cell_type": "code",
   "execution_count": 11,
   "metadata": {},
   "outputs": [
    {
     "data": {
      "image/png": "[encoded data removed]",
      "text/plain": [
       "<Figure size 432x288 with 2 Axes>"
      ]
     },
     "metadata": {
      "needs_background": "light"
     },
     "output_type": "display_data"
    }
   ],
   "source": [
    "plot_sampler = tp.samplers.PlotSampler(plot_domain=square, n_points=1000, device='cuda')\n",
    "fig = tp.utils.plot(model, lambda u : u, plot_sampler, plot_type='contour_surface')"
   ]
  }
 ],
 "metadata": {
  "interpreter": {
   "hash": "5471d372aecbf763f050aece93ed861d8318175083d9494b12a3b32f7831ffe8"
  },
  "kernelspec": {
   "display_name": "Python 3",
   "language": "python",
   "name": "python3"
  },
  "language_info": {
   "codemirror_mode": {
    "name": "ipython",
    "version": 3
   },
   "file_extension": ".py",
   "mimetype": "text/x-python",
   "name": "python",
   "nbconvert_exporter": "python",
   "pygments_lexer": "ipython3",
   "version": "3.9.15"
  }
 },
 "nbformat": 4,
 "nbformat_minor": 2
}
