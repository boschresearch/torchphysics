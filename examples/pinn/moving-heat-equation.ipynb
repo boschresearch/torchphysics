{
 "cells": [
  {
   "cell_type": "markdown",
   "metadata": {},
   "source": [
    "### Heat equation on moving Domain\n",
    "In this example we show how to solve a PDE on a changing domain. We consider a simple heat equation of the form\n",
    "\\begin{align*}\n",
    "    \\partial_t u - D\\Delta u &= 0  \\text{ in } \\Omega \\times [0, T] \\\\\n",
    "    u(\\cdot, 0) &= 0 \\text{ in }\\Omega \\\\\n",
    "    u &= 0 \\text{ on } \\Gamma_\\text{out}  \\times [0, T] \\\\\n",
    "    \\vec{n} \\nabla u &= q_\\text{in} \\text{ on } \\Gamma_\\text{in}(t)  \\times [0, T]\n",
    "\\end{align*} \n",
    "Where $\\Omega$ will be a circle, $ \\Gamma_\\text{out}$ the outer boundary of the circle and $\\Gamma_\\text{in}$ a inner boundary that will move in time. The moving boundary will be a hole, that rotates around the center of the circle $\\Omega$."
   ]
  },
  {
   "cell_type": "code",
   "execution_count": 1,
   "metadata": {},
   "outputs": [],
   "source": [
    "import torchphysics as tp\n",
    "import torch"
   ]
  },
  {
   "cell_type": "markdown",
   "metadata": {},
   "source": [
    "First we define some parameters of the problem:"
   ]
  },
  {
   "cell_type": "code",
   "execution_count": 2,
   "metadata": {},
   "outputs": [],
   "source": [
    "rot_speed = 2.0\n",
    "rot_radius = 6.0\n",
    "domain_radius = 12.0\n",
    "hole_radius = 4.0\n",
    "q_in = 10.0"
   ]
  },
  {
   "cell_type": "code",
   "execution_count": 3,
   "metadata": {},
   "outputs": [],
   "source": [
    "X = tp.spaces.R2('x')\n",
    "T = tp.spaces.R1('t')\n",
    "U = tp.spaces.R1('u')"
   ]
  },
  {
   "cell_type": "markdown",
   "metadata": {},
   "source": [
    "First the domain $\\Omega$ will be created like always. For the moving hole, we can use a function that can depend on variables of the other spaces. Here the time variable ``t``.\n",
    "This function can then be passed in as an input in the domain creation. Instead of setting an explicit value for the center, to a given point ``t`` the output of the function will be used.\n",
    "\n",
    "Internally (e.g. all samplers) it is known, that first some time points have to be created to be able to sample points in the domain with the moving hole. \n",
    "\n",
    "One can also call the domain itself, to fix the domain at some desired point. Here for example: ``hole(t=1)`` will be a circle with radius=``hole_radius`` and center=``cos(rot_speed), sin(rot_speed)]``.\n",
    "\n",
    "For now, we do **not** construct the cut of the domain and the hole, since for the boundary conditions it is more efficient to apply them part wise. See the explanations later on."
   ]
  },
  {
   "cell_type": "code",
   "execution_count": 4,
   "metadata": {},
   "outputs": [],
   "source": [
    "circle = tp.domains.Circle(X, [0, 0], domain_radius)\n",
    "\n",
    "def center(t):\n",
    "    # here we have to use column_stack to get a column vector, so the center is of the \n",
    "    # correct space dimension\n",
    "    return rot_radius * torch.column_stack((torch.cos(rot_speed * t), torch.sin(rot_speed * t)))\n",
    "\n",
    "hole = tp.domains.Circle(X, center, hole_radius)\n",
    "t_int = tp.domains.Interval(T, 0, 2)"
   ]
  },
  {
   "cell_type": "markdown",
   "metadata": {},
   "source": [
    "The model like always:"
   ]
  },
  {
   "cell_type": "code",
   "execution_count": 5,
   "metadata": {},
   "outputs": [],
   "source": [
    "model = tp.models.Sequential(\n",
    "    tp.models.NormalizationLayer(circle*t_int),\n",
    "    tp.models.FCN(input_space=X*T, output_space=U, hidden=(50,50,50,50,50,50))\n",
    ")"
   ]
  },
  {
   "cell_type": "markdown",
   "metadata": {},
   "source": [
    "Now we can start to define the conditions.\n",
    "\n",
    "We start with the differential condition. This condition should at any time point be fulfilled inside the domain, \n",
    "therefore, we have to sample points in ``circle - hole``.\n",
    "For this condition we use grid points, you could also change the sampler if you want. Everything else will be like always. Like mentioned before the ``Sampler`` will first create the points of the time interval and then pass them to the ``Sampler`` of the domain. So that to for any time point only domain points that lay not in the hole are used. "
   ]
  },
  {
   "cell_type": "code",
   "execution_count": 6,
   "metadata": {},
   "outputs": [],
   "source": [
    "circle_with_hole = circle - hole\n",
    "inner_sampler = tp.samplers.GridSampler(circle_with_hole, n_points=2000) *  tp.samplers.GridSampler(t_int, n_points=50)\n",
    "inner_sampler = inner_sampler.make_static()\n",
    "\n",
    "def pde_residual(u, x, t):\n",
    "    return 3.0 * tp.utils.laplacian(u, x) - tp.utils.grad(u, t)\n",
    "\n",
    "pde_condition = tp.conditions.PINNCondition(module=model,\n",
    "                                            sampler=inner_sampler,\n",
    "                                            residual_fn=pde_residual,\n",
    "                                            name='pde_condition')"
   ]
  },
  {
   "cell_type": "markdown",
   "metadata": {},
   "source": [
    "The Dirichlet-Condition should only be applied at the outer boundary. Therefore, it is smarter to just use the boundary of ``circle`` and not of ``circle - hole``. If we used ``circle - hole``, points at the inner boundary would be created too, and we have to use a filter to get the correct ones."
   ]
  },
  {
   "cell_type": "code",
   "execution_count": 7,
   "metadata": {},
   "outputs": [],
   "source": [
    "dirichlet_sampler = tp.samplers.RandomUniformSampler(circle.boundary*t_int, n_points=3000)\n",
    "\n",
    "def dirichlet_residual(u):\n",
    "    return u\n",
    "\n",
    "dirichlet_condition = tp.conditions.PINNCondition(module=model,\n",
    "                                                  sampler=dirichlet_sampler,\n",
    "                                                  residual_fn=dirichlet_residual,\n",
    "                                                  name='dirichlet_condition')"
   ]
  },
  {
   "cell_type": "markdown",
   "metadata": {},
   "source": [
    "The same applies to the source condition at the hole boundary:"
   ]
  },
  {
   "cell_type": "code",
   "execution_count": 8,
   "metadata": {},
   "outputs": [],
   "source": [
    "source_sampler = tp.samplers.RandomUniformSampler(hole.boundary*t_int, n_points=15000)\n",
    "\n",
    "def source_residual(u, t, x):\n",
    "    normals = hole.boundary.normal(x, tp.spaces.Points(t, T))\n",
    "    heat_source = q_in * (1 - torch.exp(-t))\n",
    "    # here we multiply by some term to get a continuous heat source in time\n",
    "    normal_deriv = tp.utils.normal_derivative(u, normals, x)\n",
    "    return normal_deriv + heat_source\n",
    "\n",
    "source_condition = tp.conditions.PINNCondition(module=model,\n",
    "                                               sampler=source_sampler,\n",
    "                                               residual_fn=source_residual,\n",
    "                                               name='source_condition')"
   ]
  },
  {
   "cell_type": "code",
   "execution_count": 9,
   "metadata": {},
   "outputs": [],
   "source": [
    "initial_sampler = tp.samplers.RandomUniformSampler(circle_with_hole*t_int.boundary_left, n_points=5000).make_static()\n",
    "\n",
    "def initial_residual(u):\n",
    "    return u\n",
    "\n",
    "initial_condition = tp.conditions.PINNCondition(module=model, \n",
    "                                                sampler=initial_sampler, \n",
    "                                                residual_fn=initial_residual)"
   ]
  },
  {
   "cell_type": "markdown",
   "metadata": {},
   "source": [
    "This is everthing you have to pay attention to, if a moving domain is used. Now we can start the training like always: "
   ]
  },
  {
   "cell_type": "code",
   "execution_count": 10,
   "metadata": {},
   "outputs": [
    {
     "name": "stderr",
     "output_type": "stream",
     "text": [
      "GPU available: True, used: True\n",
      "TPU available: False, using: 0 TPU cores\n",
      "LOCAL_RANK: 0 - CUDA_VISIBLE_DEVICES: [2]\n",
      "\n",
      "  | Name             | Type       | Params\n",
      "------------------------------------------------\n",
      "0 | train_conditions | ModuleList | 13.0 K\n",
      "1 | val_conditions   | ModuleList | 0     \n",
      "------------------------------------------------\n",
      "13.0 K    Trainable params\n",
      "0         Non-trainable params\n",
      "13.0 K    Total params\n",
      "0.052     Total estimated model params size (MB)\n"
     ]
    },
    {
     "data": {
      "application/vnd.jupyter.widget-view+json": {
       "model_id": "5db96f1fedc845958afec2704ef3df74",
       "version_major": 2,
       "version_minor": 0
      },
      "text/plain": [
       "Validation sanity check: 0it [00:00, ?it/s]"
      ]
     },
     "metadata": {},
     "output_type": "display_data"
    },
    {
     "name": "stderr",
     "output_type": "stream",
     "text": [
      "/home/tomfre/miniconda3/envs/bosch/lib/python3.9/site-packages/pytorch_lightning/utilities/distributed.py:69: UserWarning: The dataloader, val dataloader 0, does not have many workers which may be a bottleneck. Consider increasing the value of the `num_workers` argument` (try 8 which is the number of cpus on this machine) in the `DataLoader` init to improve performance.\n",
      "  warnings.warn(*args, **kwargs)\n",
      "/home/tomfre/miniconda3/envs/bosch/lib/python3.9/site-packages/pytorch_lightning/utilities/distributed.py:69: UserWarning: The dataloader, train dataloader, does not have many workers which may be a bottleneck. Consider increasing the value of the `num_workers` argument` (try 8 which is the number of cpus on this machine) in the `DataLoader` init to improve performance.\n",
      "  warnings.warn(*args, **kwargs)\n"
     ]
    },
    {
     "data": {
      "application/vnd.jupyter.widget-view+json": {
       "model_id": "e0307750f9884e2391016966e90ea60d",
       "version_major": 2,
       "version_minor": 0
      },
      "text/plain": [
       "Training: 0it [00:00, ?it/s]"
      ]
     },
     "metadata": {},
     "output_type": "display_data"
    },
    {
     "name": "stderr",
     "output_type": "stream",
     "text": [
      "/home/tomfre/Desktop/torchphysics/src/torchphysics/problem/domains/domainoperations/sampler_helper.py:49: UserWarning: Will sample random points in the created domain operation, with\n",
      "                     a for loop over all input parameters, in total: 1\n",
      "                     This may slow down the training.\n",
      "  warnings.warn(f\"\"\"Will sample random points in the created domain operation, with\n",
      "/home/tomfre/Desktop/torchphysics/src/torchphysics/problem/domains/domainoperations/cut.py:41: UserWarning: Exact volume of this cut is not known, will use the\n",
      "                             estimate: volume = domain_a.volume.\n",
      "                             If you need the exact volume for sampling,\n",
      "                             use domain.set_volume()\n",
      "  warnings.warn(\"\"\"Exact volume of this cut is not known, will use the\n"
     ]
    },
    {
     "data": {
      "application/vnd.jupyter.widget-view+json": {
       "model_id": "b97cca91b7ac4e5aa43f1e2900cb632a",
       "version_major": 2,
       "version_minor": 0
      },
      "text/plain": [
       "Validating: 0it [00:00, ?it/s]"
      ]
     },
     "metadata": {},
     "output_type": "display_data"
    }
   ],
   "source": [
    "optim = tp.OptimizerSetting(optimizer_class=torch.optim.Adam, lr=0.001)\n",
    "solver = tp.solver.Solver([source_condition, pde_condition, initial_condition, dirichlet_condition],\n",
    "                          optimizer_setting=optim)\n",
    "\n",
    "import pytorch_lightning as pl\n",
    "import os\n",
    "os.environ[\"CUDA_VISIBLE_DEVICES\"] = \"0\"\n",
    "\n",
    "trainer = pl.Trainer(devices=1, accelerator=\"gpu\",\n",
    "                     num_sanity_val_steps=0,\n",
    "                     benchmark=True,\n",
    "                     max_steps=5000, \n",
    "                     logger=False, \n",
    "                     enable_checkpointing=False)\n",
    "trainer.fit(solver)"
   ]
  },
  {
   "cell_type": "code",
   "execution_count": 14,
   "metadata": {},
   "outputs": [
    {
     "name": "stderr",
     "output_type": "stream",
     "text": [
      "GPU available: True, used: True\n",
      "TPU available: False, using: 0 TPU cores\n",
      "LOCAL_RANK: 0 - CUDA_VISIBLE_DEVICES: [2]\n",
      "\n",
      "  | Name             | Type       | Params\n",
      "------------------------------------------------\n",
      "0 | train_conditions | ModuleList | 13.0 K\n",
      "1 | val_conditions   | ModuleList | 0     \n",
      "------------------------------------------------\n",
      "13.0 K    Trainable params\n",
      "0         Non-trainable params\n",
      "13.0 K    Total params\n",
      "0.052     Total estimated model params size (MB)\n"
     ]
    },
    {
     "data": {
      "application/vnd.jupyter.widget-view+json": {
       "model_id": "5cbcc8dc266a499ead89cf4035fb49ba",
       "version_major": 2,
       "version_minor": 0
      },
      "text/plain": [
       "Validation sanity check: 0it [00:00, ?it/s]"
      ]
     },
     "metadata": {},
     "output_type": "display_data"
    },
    {
     "name": "stderr",
     "output_type": "stream",
     "text": [
      "/home/tomfre/miniconda3/envs/bosch/lib/python3.9/site-packages/pytorch_lightning/utilities/distributed.py:69: UserWarning: The dataloader, val dataloader 0, does not have many workers which may be a bottleneck. Consider increasing the value of the `num_workers` argument` (try 8 which is the number of cpus on this machine) in the `DataLoader` init to improve performance.\n",
      "  warnings.warn(*args, **kwargs)\n",
      "/home/tomfre/miniconda3/envs/bosch/lib/python3.9/site-packages/pytorch_lightning/utilities/distributed.py:69: UserWarning: The dataloader, train dataloader, does not have many workers which may be a bottleneck. Consider increasing the value of the `num_workers` argument` (try 8 which is the number of cpus on this machine) in the `DataLoader` init to improve performance.\n",
      "  warnings.warn(*args, **kwargs)\n"
     ]
    },
    {
     "data": {
      "application/vnd.jupyter.widget-view+json": {
       "model_id": "406e6d0262894b7589d4fb41226181d8",
       "version_major": 2,
       "version_minor": 0
      },
      "text/plain": [
       "Training: 0it [00:00, ?it/s]"
      ]
     },
     "metadata": {},
     "output_type": "display_data"
    }
   ],
   "source": [
    "optim = tp.OptimizerSetting(optimizer_class=torch.optim.LBFGS, lr=0.05, \n",
    "                            optimizer_args={'max_iter': 2, 'history_size': 100})\n",
    "\n",
    "# make sampler static:\n",
    "pde_condition.sampler = pde_condition.sampler.make_static()\n",
    "dirichlet_condition.sampler = dirichlet_condition.sampler.make_static()\n",
    "source_condition.sampler = source_condition.sampler.make_static()\n",
    "initial_condition.sampler = initial_condition.sampler.make_static()\n",
    "\n",
    "solver = tp.solver.Solver([source_condition, pde_condition, initial_condition, dirichlet_condition],\n",
    "                          optimizer_setting=optim)\n",
    "\n",
    "trainer = pl.Trainer(devices=1, accelerator=\"gpu\",\n",
    "                     num_sanity_val_steps=0,\n",
    "                     benchmark=True,\n",
    "                     max_steps=3000, \n",
    "                     logger=False, \n",
    "                     enable_checkpointing=False)\n",
    "                     \n",
    "trainer.fit(solver)"
   ]
  },
  {
   "cell_type": "markdown",
   "metadata": {},
   "source": [
    "Lastly we can plot the solution or even create an animation.\n",
    "The gif can be found under moving-heat-eq.gif."
   ]
  },
  {
   "cell_type": "code",
   "execution_count": 12,
   "metadata": {},
   "outputs": [
    {
     "data": {
      "image/png": "[encoded data removed]",
      "text/plain": [
       "<Figure size 432x288 with 2 Axes>"
      ]
     },
     "metadata": {
      "needs_background": "light"
     },
     "output_type": "display_data"
    }
   ],
   "source": [
    "plot_sampler = tp.samplers.PlotSampler(circle_with_hole, n_points=2500, data_for_other_variables={'t':0})\n",
    "\n",
    "fig = tp.utils.plot(model, lambda u: u, plot_sampler, plot_type='contour_surface')"
   ]
  },
  {
   "cell_type": "code",
   "execution_count": 13,
   "metadata": {},
   "outputs": [
    {
     "name": "stderr",
     "output_type": "stream",
     "text": [
      "MovieWriter ffmpeg unavailable; using Pillow instead.\n"
     ]
    },
    {
     "data": {
      "image/png": "[encoded data removed]",
      "text/plain": [
       "<Figure size 432x288 with 2 Axes>"
      ]
     },
     "metadata": {
      "needs_background": "light"
     },
     "output_type": "display_data"
    }
   ],
   "source": [
    "#anim_sampler = tp.samplers.AnimationSampler(circle_with_hole, t_int, 100, n_points=900)\n",
    "#fig, anim = tp.utils.animate(model, lambda u: u[:, 0], anim_sampler, ani_speed=10, ani_type='contour_surface')\n",
    "#anim.save('moving-heat-eq.gif')"
   ]
  }
 ],
 "metadata": {
  "interpreter": {
   "hash": "fb770cb910411e790a99fd848f827dc995ac53be5098d939fbaa56bcec3c9277"
  },
  "kernelspec": {
   "display_name": "Python 3.9.4 64-bit ('bosch': conda)",
   "language": "python",
   "name": "python3"
  },
  "language_info": {
   "codemirror_mode": {
    "name": "ipython",
    "version": 3
   },
   "file_extension": ".py",
   "mimetype": "text/x-python",
   "name": "python",
   "nbconvert_exporter": "python",
   "pygments_lexer": "ipython3",
   "version": "3.9.15"
  },
  "orig_nbformat": 4
 },
 "nbformat": 4,
 "nbformat_minor": 2
}
