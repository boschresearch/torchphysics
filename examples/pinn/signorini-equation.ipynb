{
 "cells": [
  {
   "cell_type": "markdown",
   "metadata": {},
   "source": [
    "### Simple Signorini problem with variable forces\n",
    "In this example we a solve a obstacle PDE. The special point in this example are the inequalyties in the corresponding differentialequation. On the unit square $\\Omega = (0, 1) \\times (0, 1)$, we consider the problem:\n",
    "\\begin{align*}\n",
    "    -\\Delta u &= f \\text{ in } \\Omega \\\\\n",
    "    u &= 0 \\text{ on } \\Gamma_D \\\\\n",
    "    \\vec{n} \\nabla u &= 0 \\text{ on } \\Gamma_N \\\\\n",
    "    u -g &\\geq 0 \\text{ on } \\Gamma_C \\\\\n",
    "    -\\vec{n} \\nabla u &\\leq 0 \\text{ on } \\Gamma_C \\\\\n",
    "    \\vec{n} \\nabla u (u-g) &= 0 \\text{ on } \\Gamma_C\n",
    "\\end{align*}\n",
    "Where $\\Gamma_D = \\{0\\} \\times [0, 1]$, $\\Gamma_D = (0, 1) \\times \\{0, 1\\}$ and $\\Gamma_C = \\{0\\} \\times [0, 1]$.\n",
    "$g$ is the obstacle at the contact boundary $\\Gamma_C$, this will be a simple parabola.  The condition $u -g \\geq 0$ sets the contact, $-\\vec{n} \\nabla u \\leq 0$ implies that the solution can extract a force on the obstacle not the other way around. The last complementary condition ensures, that we can only apply a force when there is a contact, otherwise the normal derivative has to be zero.\n",
    "\n",
    "The other boundary conditions only exist to make the problem easier and to have a unique solution.\n",
    "\n",
    "In the following we want to learn $u$ for different forces f."
   ]
  },
  {
   "cell_type": "code",
   "execution_count": 1,
   "metadata": {},
   "outputs": [],
   "source": [
    "import torchphysics as tp\n",
    "import torch"
   ]
  },
  {
   "cell_type": "markdown",
   "metadata": {},
   "source": [
    "We start like always. Define Spaces, Domains and Models:"
   ]
  },
  {
   "cell_type": "code",
   "execution_count": 2,
   "metadata": {},
   "outputs": [],
   "source": [
    "X = tp.spaces.R2('x')\n",
    "F = tp.spaces.R1('f')\n",
    "U = tp.spaces.R1('u')"
   ]
  },
  {
   "cell_type": "code",
   "execution_count": 3,
   "metadata": {},
   "outputs": [],
   "source": [
    "w, h = 10.0, 10.0\n",
    "square = tp.domains.Parallelogram(X, [0, 0], [w, 0], [0, h])\n",
    "f_interval = tp.domains.Interval(F, 0.9, 2)"
   ]
  },
  {
   "cell_type": "code",
   "execution_count": 4,
   "metadata": {},
   "outputs": [],
   "source": [
    "model = tp.models.Sequential(\n",
    "    tp.models.NormalizationLayer(square*f_interval),\n",
    "    tp.models.FCN(input_space=X*F, output_space=U, hidden=(50,50,50,50,50))\n",
    ")"
   ]
  },
  {
   "cell_type": "markdown",
   "metadata": {},
   "source": [
    "Next up the PDE, Dirichlet and Neumann conditions, here we use a filter function tp get the correct boundary parts."
   ]
  },
  {
   "cell_type": "code",
   "execution_count": 5,
   "metadata": {},
   "outputs": [],
   "source": [
    "inner_sampler = tp.samplers.RandomUniformSampler(square*f_interval, n_points=6500)\n",
    "\n",
    "\n",
    "# here we divide the forces by a constant, to make them smaller. We could also have defined \n",
    "# a corresponding interval. But then we could get problems when we use the density for the samplers\n",
    "# and have to be carefull that the density is big enough to sample points in the domain.\n",
    "def pde_residual(u, x, f):\n",
    "    return tp.utils.laplacian(u, x) - f/100.0\n",
    "\n",
    "pde_condition = tp.conditions.PINNCondition(module=model,\n",
    "                                            sampler=inner_sampler,\n",
    "                                            residual_fn=pde_residual,\n",
    "                                            name='pde_condition')"
   ]
  },
  {
   "cell_type": "code",
   "execution_count": 6,
   "metadata": {},
   "outputs": [],
   "source": [
    "def filter_dirichlet(x):\n",
    "    return torch.isclose(x[:, :1], torch.tensor(0.0))\n",
    "\n",
    "dirichlet_sampler = tp.samplers.RandomUniformSampler(square.boundary*f_interval, density=50, \n",
    "                                                     filter_fn=filter_dirichlet)\n",
    "\n",
    "def dirichlet_residual(u):\n",
    "    return u\n",
    "\n",
    "dirichlet_condition = tp.conditions.PINNCondition(module=model,\n",
    "                                                  sampler=dirichlet_sampler,\n",
    "                                                  residual_fn=dirichlet_residual,\n",
    "                                                  name='dirichlet_condition')"
   ]
  },
  {
   "cell_type": "code",
   "execution_count": 7,
   "metadata": {},
   "outputs": [],
   "source": [
    "def filter_neumann(x):\n",
    "    return torch.logical_or(torch.isclose(x[:, 1:], torch.tensor(0.0)),\n",
    "                            torch.isclose(x[:, 1:], torch.tensor(h)))\n",
    "\n",
    "neumann_sampler = tp.samplers.RandomUniformSampler(square.boundary*f_interval, density=70,\n",
    "                                                   filter_fn=filter_neumann)\n",
    "\n",
    "def neumann_residual(u, x):\n",
    "    normals = square.boundary.normal(x)\n",
    "    return tp.utils.normal_derivative(u, normals, x)\n",
    "\n",
    "neumann_condition = tp.conditions.PINNCondition(module=model, sampler=neumann_sampler, \n",
    "                                                residual_fn=neumann_residual)"
   ]
  },
  {
   "cell_type": "markdown",
   "metadata": {},
   "source": [
    "Intresseting are the obstacle conditions. Here we have to use a inequaltiy for the trainig. For this\n",
    "we use ``torch.clamp`` to set the residual to zero if the desiered condition is fulfilled."
   ]
  },
  {
   "cell_type": "code",
   "execution_count": 8,
   "metadata": {},
   "outputs": [],
   "source": [
    "def filter_obstacle(x):\n",
    "    return torch.isclose(x[:, :1], torch.tensor(w))\n",
    "\n",
    "obstacle_sampler = tp.samplers.RandomUniformSampler(square.boundary*f_interval, density=500, \n",
    "                                                    filter_fn=filter_obstacle)\n",
    "\n",
    "def obstacle_residual(u, g):\n",
    "    return torch.clamp(u-g, max=0)\n",
    "\n",
    "def obstacle_fn(x):\n",
    "    return -0.1 - ((x[:, 1:] - h/2.0) / 5.0)**2\n",
    "\n",
    "obstacle_condition = tp.conditions.PINNCondition(module=model,\n",
    "                                                  sampler=obstacle_sampler,\n",
    "                                                  residual_fn=obstacle_residual,\n",
    "                                                  name='obstacle_condition', \n",
    "                                                  data_functions={'g': obstacle_fn}, \n",
    "                                                  weight=10.0)"
   ]
  },
  {
   "cell_type": "code",
   "execution_count": 9,
   "metadata": {},
   "outputs": [],
   "source": [
    "def sign_residual(u, x):\n",
    "    grad = tp.utils.grad(u, x)\n",
    "    return torch.clamp(grad[:, :1], max=0)\n",
    "\n",
    "sign_condition = tp.conditions.PINNCondition(module=model, sampler=obstacle_sampler, \n",
    "                                             residual_fn=sign_residual)"
   ]
  },
  {
   "cell_type": "code",
   "execution_count": 10,
   "metadata": {},
   "outputs": [],
   "source": [
    "def complementary_residual(u, g, x):\n",
    "    grad = tp.utils.grad(u, x)\n",
    "    return grad[:, :1]*(u-g)\n",
    "\n",
    "complementary_condition = tp.conditions.PINNCondition(module=model,\n",
    "                                                      sampler=obstacle_sampler,\n",
    "                                                      residual_fn=complementary_residual,\n",
    "                                                      data_functions={'g': obstacle_fn}, \n",
    "                                                      weight=10)"
   ]
  },
  {
   "cell_type": "markdown",
   "metadata": {},
   "source": [
    "Start training:"
   ]
  },
  {
   "cell_type": "code",
   "execution_count": 11,
   "metadata": {},
   "outputs": [
    {
     "name": "stderr",
     "output_type": "stream",
     "text": [
      "GPU available: True, used: True\n",
      "TPU available: False, using: 0 TPU cores\n",
      "LOCAL_RANK: 0 - CUDA_VISIBLE_DEVICES: [2]\n",
      "\n",
      "  | Name             | Type       | Params\n",
      "------------------------------------------------\n",
      "0 | train_conditions | ModuleList | 10.5 K\n",
      "1 | val_conditions   | ModuleList | 0     \n",
      "------------------------------------------------\n",
      "10.5 K    Trainable params\n",
      "0         Non-trainable params\n",
      "10.5 K    Total params\n",
      "0.042     Total estimated model params size (MB)\n"
     ]
    },
    {
     "data": {
      "application/vnd.jupyter.widget-view+json": {
       "model_id": "d44d6b32f3d84e35820268667c85140a",
       "version_major": 2,
       "version_minor": 0
      },
      "text/plain": [
       "Validation sanity check: 0it [00:00, ?it/s]"
      ]
     },
     "metadata": {},
     "output_type": "display_data"
    },
    {
     "name": "stderr",
     "output_type": "stream",
     "text": [
      "/home/tomfre/miniconda3/envs/bosch/lib/python3.9/site-packages/pytorch_lightning/utilities/distributed.py:69: UserWarning: The dataloader, val dataloader 0, does not have many workers which may be a bottleneck. Consider increasing the value of the `num_workers` argument` (try 20 which is the number of cpus on this machine) in the `DataLoader` init to improve performance.\n",
      "  warnings.warn(*args, **kwargs)\n",
      "/home/tomfre/miniconda3/envs/bosch/lib/python3.9/site-packages/pytorch_lightning/utilities/distributed.py:69: UserWarning: The dataloader, train dataloader, does not have many workers which may be a bottleneck. Consider increasing the value of the `num_workers` argument` (try 20 which is the number of cpus on this machine) in the `DataLoader` init to improve performance.\n",
      "  warnings.warn(*args, **kwargs)\n"
     ]
    },
    {
     "data": {
      "application/vnd.jupyter.widget-view+json": {
       "model_id": "ca50cf641be047a0a254fc5743d84be5",
       "version_major": 2,
       "version_minor": 0
      },
      "text/plain": [
       "Training: 0it [00:00, ?it/s]"
      ]
     },
     "metadata": {},
     "output_type": "display_data"
    },
    {
     "data": {
      "application/vnd.jupyter.widget-view+json": {
       "model_id": "f36dd1edb1754989a90f78ec58ab4099",
       "version_major": 2,
       "version_minor": 0
      },
      "text/plain": [
       "Validating: 0it [00:00, ?it/s]"
      ]
     },
     "metadata": {},
     "output_type": "display_data"
    }
   ],
   "source": [
    "optim = tp.OptimizerSetting(optimizer_class=torch.optim.Adam, lr=0.0005)\n",
    "solver = tp.solver.Solver([pde_condition, dirichlet_condition, obstacle_condition,\n",
    "                           neumann_condition, complementary_condition, sign_condition],\n",
    "                          optimizer_setting=optim)\n",
    "\n",
    "import pytorch_lightning as pl\n",
    "\n",
    "import os\n",
    "os.environ[\"CUDA_VISIBLE_DEVICES\"] = \"2\"\n",
    "\n",
    "trainer = pl.Trainer(devices=1, accelerator=\"gpu\",\n",
    "                     num_sanity_val_steps=0,\n",
    "                     benchmark=True,\n",
    "                     max_steps=2500, \n",
    "                     logger=False, \n",
    "                     enable_checkpointing=False)\n",
    "trainer.fit(solver)"
   ]
  },
  {
   "cell_type": "code",
   "execution_count": 12,
   "metadata": {},
   "outputs": [
    {
     "name": "stderr",
     "output_type": "stream",
     "text": [
      "GPU available: True, used: True\n",
      "TPU available: False, using: 0 TPU cores\n",
      "LOCAL_RANK: 0 - CUDA_VISIBLE_DEVICES: [2]\n",
      "\n",
      "  | Name             | Type       | Params\n",
      "------------------------------------------------\n",
      "0 | train_conditions | ModuleList | 10.5 K\n",
      "1 | val_conditions   | ModuleList | 0     \n",
      "------------------------------------------------\n",
      "10.5 K    Trainable params\n",
      "0         Non-trainable params\n",
      "10.5 K    Total params\n",
      "0.042     Total estimated model params size (MB)\n"
     ]
    },
    {
     "data": {
      "application/vnd.jupyter.widget-view+json": {
       "model_id": "08d4de230b504a2382025c710e22e34d",
       "version_major": 2,
       "version_minor": 0
      },
      "text/plain": [
       "Validation sanity check: 0it [00:00, ?it/s]"
      ]
     },
     "metadata": {},
     "output_type": "display_data"
    },
    {
     "data": {
      "application/vnd.jupyter.widget-view+json": {
       "model_id": "d01bb56ffc8b4c9b9f04892193fdedcf",
       "version_major": 2,
       "version_minor": 0
      },
      "text/plain": [
       "Training: 0it [00:00, ?it/s]"
      ]
     },
     "metadata": {},
     "output_type": "display_data"
    },
    {
     "data": {
      "application/vnd.jupyter.widget-view+json": {
       "model_id": "b5fd33a787554fda88b2772ec4b6dc79",
       "version_major": 2,
       "version_minor": 0
      },
      "text/plain": [
       "Validating: 0it [00:00, ?it/s]"
      ]
     },
     "metadata": {},
     "output_type": "display_data"
    }
   ],
   "source": [
    "optim = tp.OptimizerSetting(optimizer_class=torch.optim.LBFGS, lr=0.05, \n",
    "                            optimizer_args={'max_iter': 2, 'history_size': 100})\n",
    "\n",
    "# make sampler static:\n",
    "pde_condition.sampler = pde_condition.sampler.make_static()\n",
    "dirichlet_condition.sampler = dirichlet_condition.sampler.make_static()\n",
    "obstacle_condition.sampler = obstacle_condition.sampler.make_static()\n",
    "neumann_condition.sampler = neumann_condition.sampler.make_static()\n",
    "complementary_condition.sampler = obstacle_condition.sampler\n",
    "sign_condition.sampler = obstacle_condition.sampler\n",
    "\n",
    "solver = tp.solver.Solver([pde_condition, dirichlet_condition, obstacle_condition,\n",
    "                           neumann_condition, complementary_condition, sign_condition],\n",
    "                          optimizer_setting=optim)\n",
    "\n",
    "trainer = pl.Trainer(devices=1, accelerator=\"gpu\",\n",
    "                     num_sanity_val_steps=0,\n",
    "                     benchmark=True,\n",
    "                     max_steps=2500, \n",
    "                     logger=False, \n",
    "                     enable_checkpointing=False)\n",
    "                     \n",
    "trainer.fit(solver)"
   ]
  },
  {
   "cell_type": "markdown",
   "metadata": {},
   "source": [
    "Now we learned the solution for different forces and can plot the solution"
   ]
  },
  {
   "cell_type": "code",
   "execution_count": 23,
   "metadata": {},
   "outputs": [
    {
     "data": {
      "image/png": "[encoded data removed]",
      "text/plain": [
       "<Figure size 432x288 with 2 Axes>"
      ]
     },
     "metadata": {
      "needs_background": "light"
     },
     "output_type": "display_data"
    }
   ],
   "source": [
    "plot_sampler = tp.samplers.PlotSampler(square, n_points=2500, data_for_other_variables={'f':1})\n",
    "\n",
    "fig = tp.utils.plot(model, lambda u: u[:, 0], plot_sampler, angle=[30, 100])\n",
    "fig.axes[0].set_box_aspect(aspect = (2.5,2.5,1.5))"
   ]
  }
 ],
 "metadata": {
  "interpreter": {
   "hash": "fb770cb910411e790a99fd848f827dc995ac53be5098d939fbaa56bcec3c9277"
  },
  "kernelspec": {
   "display_name": "Python 3.9.4 64-bit ('bosch': conda)",
   "language": "python",
   "name": "python3"
  },
  "language_info": {
   "codemirror_mode": {
    "name": "ipython",
    "version": 3
   },
   "file_extension": ".py",
   "mimetype": "text/x-python",
   "name": "python",
   "nbconvert_exporter": "python",
   "pygments_lexer": "ipython3",
   "version": "3.9.15"
  },
  "orig_nbformat": 4
 },
 "nbformat": 4,
 "nbformat_minor": 2
}
