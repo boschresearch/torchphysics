{
 "cells": [
  {
   "cell_type": "markdown",
   "metadata": {},
   "source": [
    "### Complexer Poisson Example\n",
    "In this example a poisson equation, with local forces on a complex domain will be solved.\n",
    "The equation is:\n",
    "\\begin{align*}\n",
    "    - D \\Delta u &= g(x, F), \\text{ for } x \\in \\Omega \\\\\n",
    "    u &= 0 , \\text{ for } x \\in \\partial\\Omega\n",
    "\\end{align*}\n",
    "Where $g(x, F)$ will be zero, except on a small part on the domain.\n",
    "\n",
    "The parameter $D \\in [D_{low}, D_{up}]$ and the forces $F \\in [F_{low}, F_{up}]$ will be used as input parameters for the model."
   ]
  },
  {
   "cell_type": "code",
   "execution_count": 1,
   "metadata": {},
   "outputs": [],
   "source": [
    "import torchphysics as tp\n",
    "import numpy as np\n",
    "import torch"
   ]
  },
  {
   "cell_type": "markdown",
   "metadata": {},
   "source": [
    "First the basic parameters for the problem:"
   ]
  },
  {
   "cell_type": "code",
   "execution_count": 2,
   "metadata": {},
   "outputs": [],
   "source": [
    "w, h = 1., 1. # 'Size' of the domain\n",
    "D_low, D_up = 0.1, 1.  # interval boundary for D\n",
    "F_low, F_up = 1., 5.    # lower and upper bound for maximal force"
   ]
  },
  {
   "cell_type": "markdown",
   "metadata": {},
   "source": [
    "Next we define the spaces:"
   ]
  },
  {
   "cell_type": "code",
   "execution_count": 3,
   "metadata": {},
   "outputs": [],
   "source": [
    "X = tp.spaces.R2('x')\n",
    "D = tp.spaces.R1('D')\n",
    "F = tp.spaces.R1('F')\n",
    "\n",
    "U = tp.spaces.R1('u') # output"
   ]
  },
  {
   "cell_type": "markdown",
   "metadata": {},
   "source": [
    "Next is the domain, where we use a rectangle with some parts cut out. There we can just use '-' to create the desired domain."
   ]
  },
  {
   "cell_type": "code",
   "execution_count": 4,
   "metadata": {},
   "outputs": [],
   "source": [
    "R1 = tp.domains.Parallelogram(X, origin=[0., 0.], corner_1=[w, 0], corner_2=[0, h]) \n",
    "R2 = tp.domains.Parallelogram(X, origin=[0.7, 0], corner_1=[1.1, 0.0], corner_2=[0.7, 0.4])\n",
    "R3 = tp.domains.Parallelogram(X, origin=[0, 0.4], corner_1=[0.4, 0.4], corner_2=[0.0, 0.5])\n",
    "\n",
    "space_domain = R1 - R2- R3\n",
    "\n",
    "# intervals for the other inputs:\n",
    "interval_D = tp.domains.Interval(D, D_low, D_up)\n",
    "interval_F = tp.domains.Interval(F, F_low, F_up)"
   ]
  },
  {
   "cell_type": "markdown",
   "metadata": {},
   "source": [
    "Next up we define our neural network. The input have to be values from the product space of X, D and F. "
   ]
  },
  {
   "cell_type": "code",
   "execution_count": 5,
   "metadata": {},
   "outputs": [],
   "source": [
    "model = tp.models.FCN(input_space=X*D*F, output_space=U, hidden=(50,50,50,50,50))"
   ]
  },
  {
   "cell_type": "markdown",
   "metadata": {},
   "source": [
    "First we create the Dirichlet-Condition. Since the solution at the boundary should be 0, we have as an resiudal the expression: $\\| u - 0 \\|$, so our residual function has to return u - 0. But logically, we dont have to substract the zero. The points for now will be grid points around the boundary."
   ]
  },
  {
   "cell_type": "code",
   "execution_count": 6,
   "metadata": {},
   "outputs": [],
   "source": [
    "dirich_sampler = tp.samplers.GridSampler(space_domain.boundary, density=30) * \\\n",
    "                 (tp.samplers.GridSampler(domain=interval_D, n_points=8) * \\\n",
    "                  tp.samplers.GridSampler(domain=interval_F, n_points=8))\n",
    "# since we use a grid sampler, in every iteration the same number of points will be used.\n",
    "# To only create the grid once and not compute the grid points new, in each step, we make the sampler static:\n",
    "dirich_sampler = dirich_sampler.make_static()\n",
    "\n",
    "def dirich_residual(u):\n",
    "    return u \n",
    "\n",
    "dirich_cond = tp.conditions.PINNCondition(module=model, sampler=dirich_sampler,\n",
    "                                              residual_fn=dirich_residual)"
   ]
  },
  {
   "cell_type": "markdown",
   "metadata": {},
   "source": [
    "Next up is the differential equation itself. There we want that the right hand side is zero, except on one small rectangle. Therefore we split this up in two different conditions. One where we want that $\\Delta u=0$ and the other one for $-D\\Delta u= g$. \n",
    "\n",
    "We start with the second one. A define a new small rectangle, where the condition should be fulfilled:"
   ]
  },
  {
   "cell_type": "code",
   "execution_count": 7,
   "metadata": {},
   "outputs": [],
   "source": [
    "small_Rect = tp.domains.Parallelogram(X, origin=[0.6, 0.6], corner_1=[0.8, 0.6], corner_2=[0.6, 0.8])\n",
    "\n",
    "pde_sampler_1 = tp.samplers.GridSampler(domain=small_Rect, n_points=400) * \\\n",
    "                (tp.samplers.GridSampler(domain=interval_D, n_points=8) * \\\n",
    "                 tp.samplers.GridSampler(domain=interval_F, n_points=8))\n",
    "\n",
    "# again make the sampler static\n",
    "pde_sampler_1 = pde_sampler_1.make_static()\n",
    "\n",
    "# the function g will be defined as a additional data function\n",
    "center = (0.7,0.7)\n",
    "size = 0.1 \n",
    "k = np.pi/(2*size)\n",
    "\n",
    "def g(x, F):\n",
    "    out = F * torch.cos(k*(x[:, :1]-center[0])) * torch.cos(k*(x[:, 1:]-center[1])) \n",
    "    return out\n",
    "\n",
    "# now define the pde condition, remeber that we have bring the rhs to the left side:\n",
    "def pde_residual_1(u, D, x, F):\n",
    "    return - D * tp.utils.laplacian(u, x) - g(x, F)\n",
    "\n",
    "pde_cond_1 = tp.conditions.PINNCondition(module=model, sampler=pde_sampler_1, \n",
    "                                             residual_fn=pde_residual_1,\n",
    "                                             data_functions={'g': g})"
   ]
  },
  {
   "cell_type": "markdown",
   "metadata": {},
   "source": [
    "On the rest of the domain, we want that $\\Delta u = 0$. So we will create points in the whole domain and filter out the points that lay in the rectangle defined above. "
   ]
  },
  {
   "cell_type": "code",
   "execution_count": 8,
   "metadata": {},
   "outputs": [],
   "source": [
    "def filter_fn(x):\n",
    "    # the x input will be a tensor -> cast to Point to check inside\n",
    "    inside_rect = small_Rect._contains(tp.spaces.Points(x, X))\n",
    "    return torch.logical_not(inside_rect)\n",
    "\n",
    "pde_sampler_2 = tp.samplers.GridSampler(domain=space_domain, density=900, filter_fn=filter_fn) * \\\n",
    "                (tp.samplers.GridSampler(domain=interval_D, n_points=8) * \\\n",
    "                 tp.samplers.GridSampler(domain=interval_F, n_points=8))\n",
    "\n",
    "pde_sampler_2 = pde_sampler_2.make_static()\n",
    "\n",
    "# now define the pde condition:\n",
    "def pde_residual_2(D, u, x):\n",
    "    return -D * tp.utils.laplacian(u, x)\n",
    "\n",
    "pde_cond_2 = tp.conditions.PINNCondition(module=model, sampler=pde_sampler_2, \n",
    "                                             residual_fn=pde_residual_2)"
   ]
  },
  {
   "cell_type": "markdown",
   "metadata": {},
   "source": [
    "Now we can check that the points are distributed correctly, by showing a scatter plot. \n",
    "Right now the boundary points are blue, the inner rectangle orange and where we have the condition $\\Delta u = 0$ the points are green:"
   ]
  },
  {
   "cell_type": "code",
   "execution_count": 9,
   "metadata": {},
   "outputs": [
    {
     "data": {
      "image/png": "[encoded data removed]",
      "text/plain": [
       "<Figure size 432x288 with 1 Axes>"
      ]
     },
     "execution_count": 9,
     "metadata": {},
     "output_type": "execute_result"
    },
    {
     "data": {
      "image/png": "[encoded data removed]",
      "text/plain": [
       "<Figure size 432x288 with 1 Axes>"
      ]
     },
     "metadata": {
      "needs_background": "light"
     },
     "output_type": "display_data"
    }
   ],
   "source": [
    "tp.utils.scatter(X, dirich_sampler, pde_sampler_1, pde_sampler_2)"
   ]
  },
  {
   "cell_type": "markdown",
   "metadata": {},
   "source": [
    "Now we can start the training:"
   ]
  },
  {
   "cell_type": "code",
   "execution_count": 10,
   "metadata": {},
   "outputs": [
    {
     "name": "stderr",
     "output_type": "stream",
     "text": [
      "GPU available: True, used: True\n",
      "TPU available: False, using: 0 TPU cores\n",
      "/home/tomfre/miniconda3/envs/bosch/lib/python3.9/site-packages/pytorch_lightning/utilities/distributed.py:69: UserWarning: you defined a validation_step but have no val_dataloader. Skipping val loop\n",
      "  warnings.warn(*args, **kwargs)\n",
      "LOCAL_RANK: 0 - CUDA_VISIBLE_DEVICES: [2]\n",
      "\n",
      "  | Name             | Type       | Params\n",
      "------------------------------------------------\n",
      "0 | train_conditions | ModuleList | 10.5 K\n",
      "1 | val_conditions   | ModuleList | 0     \n",
      "------------------------------------------------\n",
      "10.5 K    Trainable params\n",
      "0         Non-trainable params\n",
      "10.5 K    Total params\n",
      "0.042     Total estimated model params size (MB)\n"
     ]
    },
    {
     "data": {
      "application/vnd.jupyter.widget-view+json": {
       "model_id": "c640b467f5bc40a691b2809a47bec6fd",
       "version_major": 2,
       "version_minor": 0
      },
      "text/plain": [
       "Validation sanity check: 0it [00:00, ?it/s]"
      ]
     },
     "metadata": {},
     "output_type": "display_data"
    },
    {
     "name": "stderr",
     "output_type": "stream",
     "text": [
      "/home/tomfre/miniconda3/envs/bosch/lib/python3.9/site-packages/pytorch_lightning/utilities/distributed.py:69: UserWarning: The dataloader, train dataloader, does not have many workers which may be a bottleneck. Consider increasing the value of the `num_workers` argument` (try 8 which is the number of cpus on this machine) in the `DataLoader` init to improve performance.\n",
      "  warnings.warn(*args, **kwargs)\n"
     ]
    },
    {
     "data": {
      "application/vnd.jupyter.widget-view+json": {
       "model_id": "6cbd13edfbc24fefb2525bb5ce2d44ab",
       "version_major": 2,
       "version_minor": 0
      },
      "text/plain": [
       "Training: 0it [00:00, ?it/s]"
      ]
     },
     "metadata": {},
     "output_type": "display_data"
    }
   ],
   "source": [
    "optim = tp.OptimizerSetting(optimizer_class=torch.optim.Adam, lr=0.0001)\n",
    "\n",
    "solver = tp.solver.Solver([dirich_cond, pde_cond_1, pde_cond_2], optimizer_setting=optim)\n",
    "\n",
    "import pytorch_lightning as pl\n",
    "\n",
    "trainer = pl.Trainer(devices=1, accelerator=\"gpu\",\n",
    "                     num_sanity_val_steps=0,\n",
    "                     benchmark=True,\n",
    "                     max_steps=5000, \n",
    "                     logger=False, \n",
    "                     enable_checkpointing=False)\n",
    "trainer.fit(solver)"
   ]
  },
  {
   "cell_type": "markdown",
   "metadata": {},
   "source": [
    "Plot the solution:"
   ]
  },
  {
   "cell_type": "code",
   "execution_count": null,
   "metadata": {},
   "outputs": [
    {
     "name": "stdout",
     "output_type": "stream",
     "text": [
      "D, F in range\n"
     ]
    },
    {
     "data": {
      "image/png": "[encoded data removed]",
      "text/plain": [
       "<Figure size 432x288 with 2 Axes>"
      ]
     },
     "metadata": {
      "needs_background": "light"
     },
     "output_type": "display_data"
    }
   ],
   "source": [
    "plot_D = 0.6\n",
    "plot_F = 4.5\n",
    "\n",
    "if D_low < plot_D < D_up and F_low < plot_F< F_up:\n",
    "    print('D, F in range')\n",
    "\n",
    "plot_sampler = tp.samplers.PlotSampler(plot_domain=space_domain, density=500, device='cuda',\n",
    "                                       data_for_other_variables={'D': plot_D, 'F': plot_F})\n",
    "fig = tp.utils.plot(model, lambda u : u, plot_sampler, plot_type='contour_surface')"
   ]
  },
  {
   "cell_type": "markdown",
   "metadata": {},
   "source": [
    "To compute the maximum and minimum value of the model over the domain, we can call: tp.utils.compute_min_and_max(...).\n",
    "The points where the model should be evaluated can be specified with the given PointSampler. Here we just use the sampler of the plot: "
   ]
  },
  {
   "cell_type": "code",
   "execution_count": null,
   "metadata": {},
   "outputs": [
    {
     "name": "stdout",
     "output_type": "stream",
     "text": [
      "-- Start evaluation of minimum and maximum --\n",
      "Time to evaluate model: 0.0469205379486084\n",
      "Time to evaluate User-Function: 1.2874603271484375e-05\n",
      "Found the values\n",
      "Min: tensor(-0.0120, grad_fn=<MinBackward1>)\n",
      "Max: tensor(0.0365, grad_fn=<MaxBackward1>)\n"
     ]
    }
   ],
   "source": [
    "from torchphysics.utils import compute_min_and_max\n",
    "\n",
    "min_value, max_value = compute_min_and_max(model=model, sampler=plot_sampler)"
   ]
  }
 ],
 "metadata": {
  "interpreter": {
   "hash": "fb770cb910411e790a99fd848f827dc995ac53be5098d939fbaa56bcec3c9277"
  },
  "kernelspec": {
   "display_name": "Python 3.9.4 64-bit ('bosch': conda)",
   "language": "python",
   "name": "python3"
  },
  "language_info": {
   "codemirror_mode": {
    "name": "ipython",
    "version": 3
   },
   "file_extension": ".py",
   "mimetype": "text/x-python",
   "name": "python",
   "nbconvert_exporter": "python",
   "pygments_lexer": "ipython3",
   "version": "3.9.4"
  },
  "orig_nbformat": 4
 },
 "nbformat": 4,
 "nbformat_minor": 2
}
