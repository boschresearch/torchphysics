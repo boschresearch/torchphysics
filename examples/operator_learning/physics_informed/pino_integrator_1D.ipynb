{
 "cells": [
  {
   "cell_type": "markdown",
   "metadata": {},
   "source": [
    "### Physics Informed Neural Operator (PINO): Solving a ODE for different right hand sides\n",
    "In this notebook, we present an introduction to the PINO [(paper)](https://arxiv.org/abs/2111.03794) concept in TorchPhysics. \n",
    "As an example, we try to learn the integral operator of the ODE:\n",
    "\\begin{align*}\n",
    "    \\partial_t u(t) &= f(t), \\text{ in } (0, 1) \\\\\n",
    "    u(0) &= 0\n",
    "\\end{align*}\n",
    "for different functions $f$. Since this a physics informed approach no data is requiered."
   ]
  },
  {
   "cell_type": "code",
   "execution_count": 2,
   "metadata": {},
   "outputs": [],
   "source": [
    "import torch \n",
    "import torchphysics as tp\n",
    "import pytorch_lightning as pl"
   ]
  },
  {
   "cell_type": "markdown",
   "metadata": {},
   "source": [
    "Define the spaces that appear:"
   ]
  },
  {
   "cell_type": "code",
   "execution_count": 3,
   "metadata": {},
   "outputs": [],
   "source": [
    "T = tp.spaces.R1(\"t\")\n",
    "F = tp.spaces.R1(\"f\")\n",
    "U = tp.spaces.R1(\"u\")\n",
    "\n",
    "input_fn_space = tp.spaces.FunctionSpace(T, F)"
   ]
  },
  {
   "cell_type": "markdown",
   "metadata": {},
   "source": [
    "Create the FNO we want to use to learn the solution:"
   ]
  },
  {
   "cell_type": "code",
   "execution_count": 4,
   "metadata": {},
   "outputs": [],
   "source": [
    "hidden_channels = 16\n",
    "\n",
    "model = tp.models.FNO(F, U, \n",
    "                      fourier_layers=5, \n",
    "                      hidden_channels=hidden_channels, \n",
    "                      fourier_modes=8, \n",
    "                      skip_connections=True, \n",
    "                      channel_up_sample_network=torch.nn.Sequential(\n",
    "                          torch.nn.Linear(F.dim, hidden_channels),\n",
    "                          torch.nn.Tanh(),\n",
    "                          torch.nn.Linear(hidden_channels, hidden_channels),\n",
    "                          torch.nn.Tanh(),\n",
    "                          torch.nn.Linear(hidden_channels, hidden_channels)\n",
    "                      ),\n",
    "                      channel_down_sample_network=torch.nn.Sequential(\n",
    "                          torch.nn.Linear(hidden_channels, hidden_channels),\n",
    "                          torch.nn.Tanh(),\n",
    "                          torch.nn.Linear(hidden_channels, hidden_channels),\n",
    "                          torch.nn.Tanh(),\n",
    "                          torch.nn.Linear(hidden_channels, U.dim)\n",
    "                      ),\n",
    "                      space_resolution=100)"
   ]
  },
  {
   "cell_type": "markdown",
   "metadata": {},
   "source": [
    "We need to implement the differential equation via loss terms. Since the FNO acts by default on a discrete grid, we need to define this\n",
    "grid here:"
   ]
  },
  {
   "cell_type": "code",
   "execution_count": 5,
   "metadata": {},
   "outputs": [],
   "source": [
    "N_time = 100 # number of grid points\n",
    "time_grid = torch.linspace(0, 1, N_time).reshape(-1, 1)\n",
    "step_size = time_grid[1, 0] - time_grid[0, 0]\n",
    "time_grid_points = tp.spaces.Points(time_grid.unsqueeze(0), T)"
   ]
  },
  {
   "cell_type": "markdown",
   "metadata": {},
   "source": [
    "Next, we need to choose what functions we want to consider for the right-hand side. Here, we use a fourier basis given by the\n",
    "class **HarmonicFunctionSet1D**."
   ]
  },
  {
   "cell_type": "code",
   "execution_count": 6,
   "metadata": {},
   "outputs": [],
   "source": [
    "harmonic_fn_set = tp.domains.HarmonicFunctionSet1D(\n",
    "    input_fn_space, \n",
    "    function_set_size=50000, \n",
    "    period=1.0, \n",
    "    max_frequence=4\n",
    ")\n",
    "\n",
    "# The functions are only needed at the discrete grid points\n",
    "# so we can discretize the function set:\n",
    "discrete_harmonic_fn_set = harmonic_fn_set.discretize(time_grid_points)\n",
    "\n",
    "# Create a sampler for the function set, that will pass 10000 functions\n",
    "# in each trainig step to the model and after 100 steps will create new functions from\n",
    "# the function set.\n",
    "fn_sampler = tp.samplers.FunctionSamplerRandomUniform(10000, discrete_harmonic_fn_set, 100)"
   ]
  },
  {
   "cell_type": "markdown",
   "metadata": {},
   "source": [
    "To implement the ODE we have to compute the time derivative $\\partial_t$ of the model output. Since FNOs are working on the\n",
    "discrete grid, we can not directly use autograd to compute the derivative. Instead we utilize a finite difference scheme to approximate the derivative on the grid.\n",
    "For this different methods are implemented in the **utils** section. This is the reason we needed to fix a grid above, such that we now know the grid size."
   ]
  },
  {
   "cell_type": "code",
   "execution_count": 7,
   "metadata": {},
   "outputs": [],
   "source": [
    "def ode_residual(u, f):\n",
    "    u_t = tp.utils.discrete_grad_on_grid(u, grid_size=step_size)\n",
    "    return u_t - f\n",
    "\n",
    "ode_condition = tp.conditions.PIOperatorCondition(module=model, \n",
    "                                                  input_function_sampler=fn_sampler, \n",
    "                                                  residual_fn=ode_residual, \n",
    "                                                  weight=0.1)"
   ]
  },
  {
   "cell_type": "markdown",
   "metadata": {},
   "source": [
    "Also we need to enforce the initial condition:"
   ]
  },
  {
   "cell_type": "code",
   "execution_count": 8,
   "metadata": {},
   "outputs": [],
   "source": [
    "def initial_residual(u):\n",
    "    return u[:, 0]\n",
    "\n",
    "initial_condition = tp.conditions.PIOperatorCondition(module=model, \n",
    "                                                      input_function_sampler=fn_sampler, \n",
    "                                                      residual_fn=initial_residual, \n",
    "                                                      weight=100.0)"
   ]
  },
  {
   "cell_type": "markdown",
   "metadata": {},
   "source": [
    "Now start training:"
   ]
  },
  {
   "cell_type": "code",
   "execution_count": null,
   "metadata": {},
   "outputs": [
    {
     "name": "stderr",
     "output_type": "stream",
     "text": [
      "GPU available: True (cuda), used: True\n",
      "TPU available: False, using: 0 TPU cores\n",
      "IPU available: False, using: 0 IPUs\n",
      "HPU available: False, using: 0 HPUs\n",
      "You are using a CUDA device ('GeForce RTX 3090') that has Tensor Cores. To properly utilize them, you should set `torch.set_float32_matmul_precision('medium' | 'high')` which will trade-off precision for performance. For more details, read https://pytorch.org/docs/stable/generated/torch.set_float32_matmul_precision.html#torch.set_float32_matmul_precision\n",
      "LOCAL_RANK: 0 - CUDA_VISIBLE_DEVICES: [0,1,2,3,4,5,6,7]\n",
      "\n",
      "  | Name             | Type       | Params\n",
      "------------------------------------------------\n",
      "0 | train_conditions | ModuleList | 4.1 K \n",
      "1 | val_conditions   | ModuleList | 0     \n",
      "------------------------------------------------\n",
      "4.1 K     Trainable params\n",
      "0         Non-trainable params\n",
      "4.1 K     Total params\n",
      "0.017     Total estimated model params size (MB)\n",
      "/home/tomfre/miniconda3/envs/tp_version2/lib/python3.11/site-packages/pytorch_lightning/trainer/connectors/data_connector.py:441: The 'train_dataloader' does not have many workers which may be a bottleneck. Consider increasing the value of the `num_workers` argument` to `num_workers=254` in the `DataLoader` to improve performance.\n",
      "/home/tomfre/miniconda3/envs/tp_version2/lib/python3.11/site-packages/pytorch_lightning/trainer/connectors/data_connector.py:441: The 'val_dataloader' does not have many workers which may be a bottleneck. Consider increasing the value of the `num_workers` argument` to `num_workers=254` in the `DataLoader` to improve performance.\n"
     ]
    },
    {
     "name": "stdout",
     "output_type": "stream",
     "text": [
      "Epoch 0:   1%|          | 19/2000 [00:03<05:51,  5.64it/s, train/loss=38.20]"
     ]
    }
   ],
   "source": [
    "lr_list = [0.001, 0.0001, 0.00005]\n",
    "step_list = [2000, 2500, 2500]\n",
    "\n",
    "for i in range(len(lr_list)):\n",
    "    optim = tp.OptimizerSetting(optimizer_class=torch.optim.Adam, lr=lr_list[i])\n",
    "    solver = tp.solver.Solver([ode_condition, initial_condition], optimizer_setting=optim)\n",
    "\n",
    "    trainer = pl.Trainer(devices=1, accelerator=\"gpu\",\n",
    "                        num_sanity_val_steps=0,\n",
    "                        benchmark=True,\n",
    "                        max_steps=step_list[i], \n",
    "                        logger=False, \n",
    "                        enable_checkpointing=False)\n",
    "\n",
    "    trainer.fit(solver)"
   ]
  },
  {
   "cell_type": "markdown",
   "metadata": {},
   "source": [
    "Finally check the learned model on unseen data:"
   ]
  },
  {
   "cell_type": "code",
   "execution_count": null,
   "metadata": {},
   "outputs": [
    {
     "name": "stdout",
     "output_type": "stream",
     "text": [
      "Max error: 0.22796916961669922\n",
      "Rel. error: 7.81789493560791 %\n"
     ]
    }
   ],
   "source": [
    "N_test = 1000\n",
    "discrete_harmonic_fn_set.create_functions()\n",
    "test_fns = discrete_harmonic_fn_set.get_function(torch.arange(N_test))\n",
    "\n",
    "model_out = model(test_fns).as_tensor\n",
    "\n",
    "output_data_test = torch.zeros((N_test, N_time, 1))\n",
    "test_fns = test_fns.as_tensor\n",
    "for i in range(1, N_time):\n",
    "    output_data_test[:, i, 0] = output_data_test[:, i-1, 0] + step_size * test_fns[:, i, 0]\n",
    "\n",
    "print(\"Max error:\", torch.max(torch.abs(output_data_test - model_out)).detach().item())\n",
    "rel_error = 100.0 * torch.max(torch.abs(output_data_test - model_out))/torch.max(torch.abs(output_data_test))\n",
    "print(\"Rel. error:\", rel_error.detach().item(), \"%\")"
   ]
  },
  {
   "cell_type": "code",
   "execution_count": null,
   "metadata": {},
   "outputs": [
    {
     "data": {
      "image/png": "[encoded data removed]",
      "text/plain": [
       "<Figure size 640x480 with 1 Axes>"
      ]
     },
     "metadata": {},
     "output_type": "display_data"
    }
   ],
   "source": [
    "import matplotlib.pyplot as plt\n",
    "\n",
    "example_plot = 142\n",
    "t = torch.linspace(0, 1, N_time)\n",
    "plt.plot(time_grid[0], model_out[example_plot].detach().cpu())\n",
    "plt.plot(time_grid[0], output_data_test[example_plot].detach().cpu())\n",
    "plt.legend([\"FNO Solution\", \"Ref. Solution\"])\n",
    "plt.grid()"
   ]
  }
 ],
 "metadata": {
  "kernelspec": {
   "display_name": "tp_version2",
   "language": "python",
   "name": "python3"
  },
  "language_info": {
   "codemirror_mode": {
    "name": "ipython",
    "version": 3
   },
   "file_extension": ".py",
   "mimetype": "text/x-python",
   "name": "python",
   "nbconvert_exporter": "python",
   "pygments_lexer": "ipython3",
   "version": "3.11.7"
  }
 },
 "nbformat": 4,
 "nbformat_minor": 2
}
