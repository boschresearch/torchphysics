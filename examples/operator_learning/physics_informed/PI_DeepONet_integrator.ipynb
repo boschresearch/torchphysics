{
 "cells": [
  {
   "cell_type": "markdown",
   "metadata": {},
   "source": [
    "### Physics Informed DeepONet: Solving a ODE for different right hand sides\n",
    "In this notebook, we present an introduction to the PI-DeepONet concept in TorchPhysics. \n",
    "As an example, we try to learn the integral operator of the ODE:\n",
    "\\begin{align*}\n",
    "    \\partial_t u(t) &= f(t), \\text{ in } (0, 1) \\\\\n",
    "    u(0) &= 0\n",
    "\\end{align*}\n",
    "for different functions $f$. Since this a physics informed approach no data is requiered."
   ]
  },
  {
   "cell_type": "code",
   "execution_count": 1,
   "metadata": {},
   "outputs": [],
   "source": [
    "import torchphysics as tp \n",
    "import torch\n",
    "import pytorch_lightning as pl\n",
    "\n",
    "T = tp.spaces.R1(\"t\") # trunk input\n",
    "U = tp.spaces.R1(\"u\") # solution\n",
    "F = tp.spaces.R1(\"f\") # branch input\n",
    "\n",
    "branch_space = tp.spaces.FunctionSpace(T, F)\n",
    "\n",
    "# Given that DeepONet are models that both get a functional and variable\n",
    "# input, we also need to define an interval from which we will sample time points.\n",
    "domain = tp.domains.Interval(T, 0, 1)\n",
    "# We will sample 10 points in the interval [0, 1] and use them as the discretization\n",
    "# points for the branch input.\n",
    "time_grid = tp.samplers.GridSampler(domain, 10).sample_points()"
   ]
  },
  {
   "cell_type": "markdown",
   "metadata": {},
   "source": [
    "Next, we need to choose what functions we wnat to consider for the right-hand side. Here we combine different type of functions with the **CustomFunctionSet**:"
   ]
  },
  {
   "cell_type": "code",
   "execution_count": 2,
   "metadata": {},
   "outputs": [],
   "source": [
    "def custom_fn(t, k):\n",
    "    return k*t\n",
    "\n",
    "def custom_fn_2(t, k):\n",
    "    return k*t**2\n",
    "\n",
    "def custom_fn_3(t, k):\n",
    "    return k*torch.cos(t)\n",
    "\n",
    "K = tp.spaces.R1(\"k\") # parameter to sample for function set\n",
    "param_sampler = tp.samplers.RandomUniformSampler(\n",
    "    tp.domains.Interval(K, -1, 1), 10000\n",
    ")\n",
    "\n",
    "# The appending of functionsets lets us create a functionset with multiple functions\n",
    "# that all are combined into one set.\n",
    "custom_functionset = tp.domains.CustomFunctionSet(branch_space, param_sampler, custom_fn)\n",
    "custom_functionset_2 = tp.domains.CustomFunctionSet(branch_space, param_sampler, custom_fn_2)\n",
    "custom_functionset_3 = tp.domains.CustomFunctionSet(branch_space, param_sampler, custom_fn_3)\n",
    "custom_functionset = custom_functionset.append(custom_functionset_2)\n",
    "custom_functionset = custom_functionset.append(custom_functionset_3)\n",
    "\n",
    "functionsampler = tp.samplers.FunctionSamplerRandomUniform(\n",
    "        5000, custom_functionset, function_creation_interval=100\n",
    "    )"
   ]
  },
  {
   "cell_type": "code",
   "execution_count": 3,
   "metadata": {},
   "outputs": [],
   "source": [
    "# The model:\n",
    "trunk_net = tp.models.FCTrunkNet(T, hidden=(10, 10), default_trunk_input=time_grid)\n",
    "branch_net = tp.models.FCBranchNet(branch_space, hidden=(20, 20), grid=time_grid)\n",
    "model = tp.models.DeepONet(trunk_net, branch_net, U, output_neurons=20)"
   ]
  },
  {
   "cell_type": "markdown",
   "metadata": {},
   "source": [
    "As in the PINN-approach we now define the residuals the DeepONet needs to fulfill. The only thing special is, that we\n",
    "have to use the **PIDeepONetCondition**, since we also need to pass in a function sampler, that prepares the inputs of the branch net."
   ]
  },
  {
   "cell_type": "code",
   "execution_count": 4,
   "metadata": {},
   "outputs": [],
   "source": [
    "def ode_residual(u, t, f):\n",
    "    return tp.utils.grad(u, t) - f\n",
    "\n",
    "ode_sampler = tp.samplers.RandomUniformSampler(domain, 1000)\n",
    "\n",
    "ode_cond = tp.conditions.PIDeepONetCondition(deeponet_model=model, \n",
    "                                             branch_function_sampler=functionsampler, \n",
    "                                             trunk_points_sampler=ode_sampler, \n",
    "                                             residual_fn=ode_residual)"
   ]
  },
  {
   "cell_type": "code",
   "execution_count": 5,
   "metadata": {},
   "outputs": [],
   "source": [
    "boundary_sampler = tp.samplers.RandomUniformSampler(domain.boundary_left, 10)\n",
    "\n",
    "def initial_residual(u):\n",
    "    return u\n",
    "\n",
    "initial_cond = tp.conditions.PIDeepONetCondition(deeponet_model=model, \n",
    "                                              branch_function_sampler=functionsampler, \n",
    "                                              trunk_points_sampler=boundary_sampler, \n",
    "                                              residual_fn=initial_residual)"
   ]
  },
  {
   "cell_type": "code",
   "execution_count": 6,
   "metadata": {},
   "outputs": [
    {
     "name": "stderr",
     "output_type": "stream",
     "text": [
      "GPU available: True (cuda), used: True\n",
      "TPU available: False, using: 0 TPU cores\n",
      "IPU available: False, using: 0 IPUs\n",
      "HPU available: False, using: 0 HPUs\n",
      "You are using a CUDA device ('GeForce RTX 3090') that has Tensor Cores. To properly utilize them, you should set `torch.set_float32_matmul_precision('medium' | 'high')` which will trade-off precision for performance. For more details, read https://pytorch.org/docs/stable/generated/torch.set_float32_matmul_precision.html#torch.set_float32_matmul_precision\n",
      "LOCAL_RANK: 0 - CUDA_VISIBLE_DEVICES: [0,1,2,3,4,5,6,7]\n",
      "\n",
      "  | Name             | Type       | Params\n",
      "------------------------------------------------\n",
      "0 | train_conditions | ModuleList | 1.4 K \n",
      "1 | val_conditions   | ModuleList | 0     \n",
      "------------------------------------------------\n",
      "1.4 K     Trainable params\n",
      "0         Non-trainable params\n",
      "1.4 K     Total params\n",
      "0.006     Total estimated model params size (MB)\n",
      "/home/tomfre/miniconda3/envs/tp_version2/lib/python3.11/site-packages/pytorch_lightning/trainer/connectors/data_connector.py:441: The 'train_dataloader' does not have many workers which may be a bottleneck. Consider increasing the value of the `num_workers` argument` to `num_workers=254` in the `DataLoader` to improve performance.\n",
      "/home/tomfre/miniconda3/envs/tp_version2/lib/python3.11/site-packages/pytorch_lightning/trainer/connectors/data_connector.py:441: The 'val_dataloader' does not have many workers which may be a bottleneck. Consider increasing the value of the `num_workers` argument` to `num_workers=254` in the `DataLoader` to improve performance.\n"
     ]
    },
    {
     "name": "stdout",
     "output_type": "stream",
     "text": [
      "Epoch 0:   0%|          | 0/5000 [00:00<?, ?it/s] "
     ]
    },
    {
     "name": "stderr",
     "output_type": "stream",
     "text": [
      "/home/tomfre/Desktop/torchphysics/src/torchphysics/problem/domains/functionsets/functionset_operations.py:129: UserWarning: To copy construct from a tensor, it is recommended to use sourceTensor.clone().detach() or sourceTensor.clone().detach().requires_grad_(True), rather than torch.tensor(sourceTensor).\n",
      "  self.current_idx = torch.tensor(idx, dtype=torch.long, device=self.device)\n"
     ]
    },
    {
     "name": "stdout",
     "output_type": "stream",
     "text": [
      "Epoch 0: 100%|██████████| 5000/5000 [03:16<00:00, 25.40it/s, train/loss=0.229] "
     ]
    },
    {
     "name": "stderr",
     "output_type": "stream",
     "text": [
      "`Trainer.fit` stopped: `max_steps=5000` reached.\n"
     ]
    },
    {
     "name": "stdout",
     "output_type": "stream",
     "text": [
      "Epoch 0: 100%|██████████| 5000/5000 [03:16<00:00, 25.40it/s, train/loss=0.229]\n"
     ]
    }
   ],
   "source": [
    "optim = tp.OptimizerSetting(optimizer_class=torch.optim.Adam, lr=0.0005)\n",
    "\n",
    "solver = tp.solver.Solver([ode_cond, initial_cond], optimizer_setting=optim)\n",
    "\n",
    "trainer = pl.Trainer(devices=1, accelerator=\"gpu\",\n",
    "                     num_sanity_val_steps=0,\n",
    "                     benchmark=True,\n",
    "                     max_steps=5000, \n",
    "                     logger=False)\n",
    "\n",
    "trainer.fit(solver)"
   ]
  },
  {
   "cell_type": "code",
   "execution_count": 7,
   "metadata": {},
   "outputs": [
    {
     "name": "stdout",
     "output_type": "stream",
     "text": [
      "torch.Size([10, 1]) torch.Size([1, 1000, 1])\n"
     ]
    },
    {
     "data": {
      "image/png": "[encoded data removed]",
      "text/plain": [
       "<Figure size 640x480 with 1 Axes>"
      ]
     },
     "metadata": {},
     "output_type": "display_data"
    }
   ],
   "source": [
    "scale = 0.7\n",
    "test_branch_input = (scale * time_grid.as_tensor)\n",
    "test_trunk_input = tp.samplers.GridSampler(domain, 1000).sample_points().unsqueeze(0)\n",
    "print(test_branch_input.shape, test_trunk_input.as_tensor.shape)\n",
    "model_out = model(test_trunk_input, test_branch_input).as_tensor\n",
    "\n",
    "import matplotlib.pyplot as plt\n",
    "plt.plot(test_trunk_input.as_tensor[0], model_out.detach()[0])\n",
    "plt.plot(test_trunk_input.as_tensor[0], scale/2.0*test_trunk_input.as_tensor[0]**2)\n",
    "plt.legend([\"True solution\", \"Predicted solution\"])\n",
    "plt.grid()"
   ]
  }
 ],
 "metadata": {
  "kernelspec": {
   "display_name": "tp_version2",
   "language": "python",
   "name": "python3"
  },
  "language_info": {
   "codemirror_mode": {
    "name": "ipython",
    "version": 3
   },
   "file_extension": ".py",
   "mimetype": "text/x-python",
   "name": "python",
   "nbconvert_exporter": "python",
   "pygments_lexer": "ipython3",
   "version": "3.11.7"
  }
 },
 "nbformat": 4,
 "nbformat_minor": 2
}
