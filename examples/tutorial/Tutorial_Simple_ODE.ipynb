{
  "cells": [
    {
      "cell_type": "code",
      "execution_count": 2,
      "id": "1ef6d147-2dd4-4547-9fb6-79b3758d7350",
      "metadata": {
        "id": "1ef6d147-2dd4-4547-9fb6-79b3758d7350"
      },
      "outputs": [],
      "source": [
        "import torchphysics as tp\n",
        "import numpy as np\n",
        "import torch\n",
        "from matplotlib import pyplot as plt"
      ]
    },
    {
      "cell_type": "markdown",
      "id": "bTGz6NV4_Jzb",
      "metadata": {
        "id": "bTGz6NV4_Jzb"
      },
      "source": [
        "# Physics Informed Neural Networks (PINNs) in TorchPhysics\n",
        "In this tutorial we present a first basic example of solving a simple ODE with an initial condition in TorchPhysics using a PINN approach.\n",
        "You will also learn about the different components of this library and main steps for finding a neural network that approximates the solution of a PDE.\n",
        "\n",
        "We consider the simple ODE:\n",
        "$$\n",
        "\\begin{cases}\n",
        "\\frac{\\partial}{\\partial t} u(t) &= u(t) &&\\text{ on the interval } (0, 2), \\\\\n",
        "u(t) &= u_0 &&\\text{ for } t\\in \\{ 0\\}.\n",
        "\\end{cases}\n",
        "$$\n",
        "In the following we want to learn the solution function $u(t) = u_0 e^t$, where we set the initial value to $u_0=2$."
      ]
    },
    {
      "cell_type": "code",
      "execution_count": 3,
      "id": "d6b5fdd2-67c1-4f7e-a185-9d515fb9f3f8",
      "metadata": {
        "id": "d6b5fdd2-67c1-4f7e-a185-9d515fb9f3f8"
      },
      "outputs": [],
      "source": [
        "u_0 = 2 # initial value"
      ]
    },
    {
      "cell_type": "markdown",
      "id": "8da6279e-83c2-41ed-a56b-453b21f05d11",
      "metadata": {
        "id": "8da6279e-83c2-41ed-a56b-453b21f05d11"
      },
      "source": [
        "## Recall PINNs\n",
        "The goal is to find a neural network $u_\\theta:[0, 2]\\to \\mathbb{R}$, which approximately satisfies the two conditions of the ODE problem above, where $\\theta$ are the trainable parameters of the neural network.\n",
        "Let us shortly recall the main idea behind PINNs.\n",
        "\n",
        "The residuals are denoted by\n",
        "$$\n",
        "\\begin{align}\n",
        "&\\text{1) Residual of the ODE condition: }      &&R_1(u, t) := \\frac{\\partial^2}{\\partial t^2} u(t) - u(t) &&&\\text{ for } t\\in (0,2),\\\\\n",
        "&\\text{2) Residual of the initial condition: }  &&R_2(u, t) := u(t) - u_0 &&& \\text{ for } t\\in \\{0\\}.\n",
        "\\end{align}\n",
        "$$\n",
        "Continuing with the PINN approach, points are sampled in the domains corresponding to each condition. In our example:\n",
        "$$\n",
        "\\begin{align}\n",
        "&\\text{1) } &&\\big(t_i^{(1)} \\big)_i &&&\\in (0, 2),\\\\\n",
        "&\\text{2) } &&\\big(t_j^{(2)} \\big)_j        &&&\\in \\{0\\}.\n",
        "\\end{align}\n",
        "$$\n",
        "Then, the network $u_\\theta$ is trained by solving the following minimization problem\n",
        "$$\n",
        "\\begin{align}\n",
        "\\min_\\theta \\sum_{i} \\big\\vert R_1(u_\\theta, t_i^{(1)}) \\big \\vert^2 + \\sum_j \\big\\vert R_2(u_\\theta, t_j^{(2)}) \\big \\vert^2,\n",
        "\\end{align}\n",
        "$$\n",
        "that is, the residuals are minimized with respect to the $l_2$-norm."
      ]
    },
    {
      "cell_type": "markdown",
      "id": "8f0db4a0-cace-4d21-845f-f34680880d7d",
      "metadata": {
        "id": "8f0db4a0-cace-4d21-845f-f34680880d7d"
      },
      "source": [
        "## Translating the PDE Problem into the Language of TorchPhysics\n",
        "Translating the PDE problem into the framework of TorchPhysics works in a convenient and intuitive way, as the notation is close to the mathematical formulation. The general procedure can be devided into five steps. Also when solving other problems with TorchPhysics, such as parameter identification or variational problems, the same steps can be applied, see also the further [tutorials](https://boschresearch.github.io/torchphysics/tutorial/tutorial_start.html) or [examples](https://boschresearch.github.io/torchphysics/examples.html)."
      ]
    },
    {
      "cell_type": "markdown",
      "id": "e8fe0433-82b7-4093-8f6f-8adf7e46ff5b",
      "metadata": {
        "id": "e8fe0433-82b7-4093-8f6f-8adf7e46ff5b"
      },
      "source": [
        "### Step 1: Specify spaces and domains\n",
        "The domain $I=(0, 2)$ is a subset of the space $\\mathbb{R}$, whereas the range space of the solution function $u$ is $\\mathbb{R}$. First, we need to let TorchPhysics know which spaces and domains we are dealing with and how variables/elements within these spaces are denoted by.\n",
        "This is realized by generating objects of TorchPhysics' Space and Domain classes in \"tp.spaces\" and \"tp.domains\", respectively.\n",
        "Some simple domains are already predefined, which will be sufficient for this tutorial. We need an interval domain, which is an open interval by default. For creating complexer domains please have a look at the [domain-tutorial](https://boschresearch.github.io/torchphysics/tutorial/tutorial_domain_basics.html)."
      ]
    },
    {
      "cell_type": "code",
      "execution_count": 4,
      "id": "6af0dba0-d481-4566-a8b7-244098eee713",
      "metadata": {
        "id": "6af0dba0-d481-4566-a8b7-244098eee713"
      },
      "outputs": [],
      "source": [
        "# Input and output spaces\n",
        "T = tp.spaces.R1('t')\n",
        "U = tp.spaces.R1('u')\n",
        "\n",
        "# Domain\n",
        "I  = tp.domains.Interval(space=T, lower_bound=0, upper_bound=2)"
      ]
    },
    {
      "cell_type": "markdown",
      "id": "a1676bc3-8dab-4ce4-84ff-f8fc29e8b829",
      "metadata": {
        "id": "a1676bc3-8dab-4ce4-84ff-f8fc29e8b829"
      },
      "source": [
        "### Step 2: Define point samplers for different subsets of [0, 2]\n",
        "As mentioned in the PINN recall, it will be necessary to sample points in different subsets of the full domain $I$. TorchPhysics provides this functionality by sampler classes in \"tp.samplers\". For simplicity, we consider only Random Uniform Samplers for the subdomains. However, there are many more possibilities to sample points in TorchPhysics, see also [sampler-tutorial](https://boschresearch.github.io/torchphysics/tutorial/sampler_tutorial.html).\n",
        "\n",
        "The most important inputs of a sampler constructor are the \"domain\" from which points will be sampled, as well as the \"number of points\" drawn every time the sampler is called. It is reasonable to create different sampler objects for the different conditions of the pde problem, simply because the subdomains differ.\n",
        "\n",
        "The ODE condition 1) should hold for points in the domain $I=(0, 2)$. We have defined this domain already in Step 1, so that we can define a point sampler:"
      ]
    },
    {
      "cell_type": "code",
      "execution_count": 5,
      "id": "d020f7f4-c286-466f-928d-1f80ee64c53f",
      "metadata": {
        "id": "d020f7f4-c286-466f-928d-1f80ee64c53f"
      },
      "outputs": [],
      "source": [
        "sampler_ode_condition = tp.samplers.RandomUniformSampler(domain=I, n_points=150)"
      ]
    },
    {
      "cell_type": "markdown",
      "id": "c9f72b70-0e87-466f-a7c0-0e1f194745cc",
      "metadata": {
        "id": "c9f72b70-0e87-466f-a7c0-0e1f194745cc"
      },
      "source": [
        "Next, let us define samplers for the initial condition. This condition should hold on the domain $\\{0\\}$, which is the left boundary of the interval $I=(0,2)$. All tp.domains.Interval objects have the attribute \"left_boundary\", an instance of TorchPhysics BoundaryDomain class, a subclass of the Domain class. This allows to construct a sampler for this initial condition."
      ]
    },
    {
      "cell_type": "code",
      "execution_count": 6,
      "id": "e780f5fa-5ebf-4731-8568-77116ea039f6",
      "metadata": {
        "id": "e780f5fa-5ebf-4731-8568-77116ea039f6"
      },
      "outputs": [],
      "source": [
        "domain_initial_condition = I.boundary_left\n",
        "sampler_initial_condition = tp.samplers.RandomUniformSampler(domain_initial_condition, 50)"
      ]
    },
    {
      "cell_type": "markdown",
      "id": "7750bf6b-30ec-4ca9-8f37-9699439d0d22",
      "metadata": {
        "id": "7750bf6b-30ec-4ca9-8f37-9699439d0d22"
      },
      "source": [
        "For more detailed information on the functionality of TorchPysics samplers, please have a look at the further [tutorials](https://torchphysics.de/tutorial), [examples](https://boschresearch.github.io/torchphysics/examples.html) or the in-depth [sampler-tutorial](https://boschresearch.github.io/torchphysics/tutorial/sampler_tutorial.html)."
      ]
    },
    {
      "cell_type": "markdown",
      "id": "6b1b87f9-b6d6-44ec-8fb5-833ab466d89b",
      "metadata": {
        "id": "6b1b87f9-b6d6-44ec-8fb5-833ab466d89b"
      },
      "source": [
        "### Step 3: Define residual functions\n",
        "As mentioned in the PINNs Recall, we are looking for a neural network $u_\\theta$ for which all of the residual functions $R_1$ and $R_2$ vanish.\n",
        "\n",
        "Let us have a look at $R_1$, the residual for the ODE condition, the way it is defined in the PINNs recall above. The inputs of $R_1$ are the coordinate $t\\in(0,2)$, but also $u_\\theta$, which is itself a function of $t$. In TorchPhysics, the evaluation of the network $u_\\theta$ at $t$ is done before evaluating the residual functions. This means that from now on we consider $R_1$ as well as the other residuals to be functions, whose inputs are tuples $(u, t)$, where $u:=u_\\theta(t)$.\n",
        "\n",
        "More precisely, $u$ will be a torch.tensor of shape (n_points, 1) and $t$ of shape (n_points, 1), where n_points is the number of triples $(u,t)$ for which the residual should be computed.\n",
        "\n",
        "For the residual $R_1$ it is required to compute the first derivative (gradient) of $u$ with respect to $t$. This differential operator, among others - see the [utils-tutorial](https://boschresearch.github.io/torchphysics/tutorial/differentialoperators.html), are pre-implemented and can be found in \"tp.utils\". The intern computation is build upon torch's autograd functionality."
      ]
    },
    {
      "cell_type": "code",
      "execution_count": 7,
      "id": "c29f3f92-d613-470f-ab74-9369e071ea04",
      "metadata": {
        "id": "c29f3f92-d613-470f-ab74-9369e071ea04"
      },
      "outputs": [],
      "source": [
        "def residual_ode_condition(u, t):\n",
        "    return u - tp.utils.grad(u, t)"
      ]
    },
    {
      "cell_type": "markdown",
      "id": "e444a2e5-6fc6-4124-894c-1ba987153241",
      "metadata": {
        "id": "e444a2e5-6fc6-4124-894c-1ba987153241"
      },
      "source": [
        "For the computation of the residual $R_2$ of the initial condition, the coordinate $t\\in \\{0\\}$ is not required, since $u$ is already the evaluation of the network at these sampling points. Therefore, we can conveniently omit them as input parameters."
      ]
    },
    {
      "cell_type": "code",
      "execution_count": 8,
      "id": "65954de9-4c80-4d2a-be6e-0cd16ab82596",
      "metadata": {
        "id": "65954de9-4c80-4d2a-be6e-0cd16ab82596"
      },
      "outputs": [],
      "source": [
        "def residual_initial_condition(u):\n",
        "    return u - u_0"
      ]
    },
    {
      "cell_type": "markdown",
      "id": "0cc89ada-310b-4a84-bcc0-77baa7afca2c",
      "metadata": {
        "id": "0cc89ada-310b-4a84-bcc0-77baa7afca2c"
      },
      "source": [
        "### Step 4: Define Neural Network\n",
        "At this point, let us define the model $u_\\theta:[0,2]\\to \\mathbb{R}$. This task is handled by the TorchPhysics Model class, which is contained in \"tp.models\". It inherits from the torch.nn.Module class from Pytorch, which means that building own models can be achieved in a very similar way, see the [model-tutorial](https://boschresearch.github.io/torchphysics/tutorial/model_creation.html).\n",
        "There are also a bunch of predefined neural networks or single layers available. In this tutorial we consider a very simple neural network, a FNO consisting of three hidden layers with $50, 50$ and $50$ neurons, respectively.:"
      ]
    },
    {
      "cell_type": "code",
      "execution_count": 9,
      "id": "bdef3d80-90e6-47aa-95ce-6d735fd03f36",
      "metadata": {
        "id": "bdef3d80-90e6-47aa-95ce-6d735fd03f36"
      },
      "outputs": [],
      "source": [
        "model = tp.models.FCN(input_space=T, output_space=U, hidden = (50,50,50))"
      ]
    },
    {
      "cell_type": "markdown",
      "id": "17e3f8ab-bd6c-4f4f-94a6-030930458c0c",
      "metadata": {
        "id": "17e3f8ab-bd6c-4f4f-94a6-030930458c0c"
      },
      "source": [
        "### Step 5: Create TorchPhysics Conditions\n",
        "Let us sum up what we have done so far: For the ODE and initial condition, we constructed samplers and residuals on the corresponding domains.\n",
        "Moreover, we have defined a neural network which will later be trained to fulfull each of these conditions.\n",
        "\n",
        "As a final step, we collect these constructions for each condition in an object of the TorchPhysics Condition class, contained in \"tp.conditions\".\n",
        "Since we are interested in applying a PINN approach, we create objects of the subclass PINNCondition, which automatically contains the information that the residuals should be minimized in the squared $l_2$-norm, see again the PINN Recall. For other TorchPhysics Conditions one may need to specify which norm should be taken of the residuals, see [condition-tutorial](https://boschresearch.github.io/torchphysics/tutorial/condition_tutorial.html) for further information."
      ]
    },
    {
      "cell_type": "code",
      "execution_count": 10,
      "id": "008c09a7-81f8-41b5-8c10-3892812740ad",
      "metadata": {
        "id": "008c09a7-81f8-41b5-8c10-3892812740ad"
      },
      "outputs": [],
      "source": [
        "ode_condition      = tp.conditions.PINNCondition(module     =model,\n",
        "                                                 sampler    =sampler_ode_condition,\n",
        "                                                 residual_fn=residual_ode_condition)\n",
        "\n",
        "initial_condition  = tp.conditions.PINNCondition(module     =model,\n",
        "                                                 sampler    =sampler_initial_condition,\n",
        "                                                 residual_fn=residual_initial_condition)"
      ]
    },
    {
      "cell_type": "markdown",
      "id": "5cd77316-3c78-4bf1-b639-9ccb7070af2d",
      "metadata": {
        "id": "5cd77316-3c78-4bf1-b639-9ccb7070af2d"
      },
      "source": [
        "It is to be noted that TorchPhysics' Condition class is a subclass of the torch.nn.Module class and its forward() method returns the current loss of the respective condition.\n",
        "For example, calling forward() of the ode_condition at points $(t_i)_i$ in $I=(0,2)$ will return\n",
        "$$\n",
        "\\begin{align}\n",
        "\\sum_i \\big \\vert R_1(u_\\theta, t_i) \\big \\vert^2,\n",
        "\\end{align}\n",
        "$$\n",
        "where $R_1$ is the residual function for the ODE condition defined in the PINN recall and $u_\\theta$ is the model defined in Step 4."
      ]
    },
    {
      "cell_type": "markdown",
      "id": "2e0fad4c-2cfd-4c10-8e2f-0a3702a2eeac",
      "metadata": {
        "id": "2e0fad4c-2cfd-4c10-8e2f-0a3702a2eeac"
      },
      "source": [
        "The reason that also the model is required for initializing a Condition object is, that it could be desireable in some [cases](https://github.com/boschresearch/torchphysics/blob/main/examples/pinn/interface-jump.ipynb) to train different networks for different conditions of the PDE problem."
      ]
    },
    {
      "cell_type": "markdown",
      "id": "31d80c43-5879-401c-8212-0e4a5fd6514c",
      "metadata": {
        "id": "31d80c43-5879-401c-8212-0e4a5fd6514c"
      },
      "source": [
        "## Training based on Pytorch Lightning\n",
        "In order to train a model, TorchPhysics makes use of the Pytorch Lightning library, which hence must be imported. Further, we import \"os\" so that GPUs can be used for the calculations."
      ]
    },
    {
      "cell_type": "code",
      "execution_count": 11,
      "id": "bb76e892-bf53-4a01-adc5-74dddb770525",
      "metadata": {
        "colab": {
          "base_uri": "https://localhost:8080/"
        },
        "id": "bb76e892-bf53-4a01-adc5-74dddb770525",
        "outputId": "ca750735-3e1e-4fcc-ca59-e020d6131434"
      },
      "outputs": [
        {
          "name": "stdout",
          "output_type": "stream",
          "text": [
            "GPU available: False\n"
          ]
        }
      ],
      "source": [
        "import pytorch_lightning as pl\n",
        "import os\n",
        "os.environ[\"CUDA_VISIBLE_DEVICES\"] = \"1\" if torch.cuda.is_available() else \"0\"\n",
        "\n",
        "print (\"GPU available: \" + str(torch.cuda.is_available()))"
      ]
    },
    {
      "cell_type": "markdown",
      "id": "1639cf38-835b-4571-b0c5-7ef0d130c2df",
      "metadata": {
        "id": "1639cf38-835b-4571-b0c5-7ef0d130c2df"
      },
      "source": [
        "For the training process, i.e. the minimization of the loss function introduced in the PINN recall, TorchPhysics provides the Solver class. It inherits from the pl.LightningModule class and is compatible with the TorchPhysics library. The constructor requires a list of TorchPhysics Conditions, whose parameters should be optimized during the training."
      ]
    },
    {
      "cell_type": "code",
      "execution_count": 12,
      "id": "ea27b608-e319-4fac-85c1-5984f2d043c6",
      "metadata": {
        "id": "ea27b608-e319-4fac-85c1-5984f2d043c6"
      },
      "outputs": [],
      "source": [
        "training_conditions = [ode_condition, initial_condition]"
      ]
    },
    {
      "cell_type": "markdown",
      "id": "e024913e-e10e-4387-b390-165e77c8524b",
      "metadata": {
        "id": "e024913e-e10e-4387-b390-165e77c8524b"
      },
      "source": [
        "By default, the Solver uses the Adam Optimizer from Pytorch with learning rate $lr=0.001$ for optimizing the training_conditions. If a different optimizer or choice of its arguments shall be used, one can collect these information in an object of TorchPhysics' OptimizerSetting class."
      ]
    },
    {
      "cell_type": "code",
      "execution_count": 13,
      "id": "b1848d26-ea33-400c-84be-2291429e8065",
      "metadata": {
        "id": "b1848d26-ea33-400c-84be-2291429e8065"
      },
      "outputs": [],
      "source": [
        "optim = tp.OptimizerSetting(optimizer_class=torch.optim.Adam, lr=0.001)"
      ]
    },
    {
      "cell_type": "markdown",
      "id": "efcd0c8c-1ef2-45a0-bf00-de88201f3d03",
      "metadata": {
        "id": "efcd0c8c-1ef2-45a0-bf00-de88201f3d03"
      },
      "source": [
        "Finally, we are able to create the Solver object, a Pytorch Lightning Module."
      ]
    },
    {
      "cell_type": "code",
      "execution_count": 14,
      "id": "4ea2cb3f-087c-4e03-aeb0-40318f556062",
      "metadata": {
        "id": "4ea2cb3f-087c-4e03-aeb0-40318f556062"
      },
      "outputs": [],
      "source": [
        "solver = tp.solver.Solver(train_conditions=training_conditions, optimizer_setting=optim)"
      ]
    },
    {
      "cell_type": "markdown",
      "id": "53dec402-5dd2-40f9-a405-5170d0cfcbd7",
      "metadata": {
        "id": "53dec402-5dd2-40f9-a405-5170d0cfcbd7"
      },
      "source": [
        "Now, as usual, the training is done with a Pytorch Lightning Trainer object and its fit() method."
      ]
    },
    {
      "cell_type": "code",
      "execution_count": 15,
      "id": "9ea9431a-9ea4-4312-8869-af4c8c4733a4",
      "metadata": {
        "colab": {
          "base_uri": "https://localhost:8080/",
          "height": 347,
          "referenced_widgets": [
            "e9e9c3f6752640deb4d7f2791a8a329e",
            "3b582cb05b834f60b6311fdbde240407",
            "099fcd830e64454093b45f9ec3a9cc4a",
            "d8e62d4fa51c4cedbff580f154dd3a17",
            "fd6826c5f1a54e93ae8b6ab4d3d6e421",
            "5f06b3f84db348c8b32ee48089e01f01",
            "f3ebae78a3674c6c93fd64b3ed3e7542",
            "cd0ca01f50124df0ac6c951d6d31ab85",
            "58dbae958d11454e88b91efedb750d65",
            "8ed5e770686f4cb78a0bc85a39ae4157",
            "c733319a53f94defb4948ab02d05837c",
            "fcd564594edd4d9582d3a4b3e212a3f2",
            "6553e0de7efa42728366a465d83a948f",
            "79b83887a2bb4248ae991970d6a274b1",
            "e0ba190eae4e4d5192b5e1ce501af014",
            "96e31c05ff4c4a87aef91967cf4292e1",
            "1b5ba0b918de430da29cfca2f2a7afbf",
            "b6390043fdd048849050dc7526dbe7df",
            "b321cd7f2e454f21a4e1ea33c7ff4ce3",
            "4250369b168442daa28a85e459fd788e",
            "8f703e85f7aa4729a04a8f8e41a11b5a",
            "4107618f389d48359082d1b9b55d0ef9"
          ]
        },
        "id": "9ea9431a-9ea4-4312-8869-af4c8c4733a4",
        "outputId": "061449fa-76e8-48c2-dbc3-66800d039674"
      },
      "outputs": [
        {
          "name": "stderr",
          "output_type": "stream",
          "text": [
            "INFO:pytorch_lightning.utilities.rank_zero:GPU available: False, used: False\n",
            "INFO:pytorch_lightning.utilities.rank_zero:TPU available: False, using: 0 TPU cores\n",
            "INFO:pytorch_lightning.utilities.rank_zero:HPU available: False, using: 0 HPUs\n",
            "INFO:pytorch_lightning.callbacks.model_summary:\n",
            "  | Name             | Type       | Params | Mode \n",
            "--------------------------------------------------------\n",
            "0 | train_conditions | ModuleList | 5.3 K  | train\n",
            "1 | val_conditions   | ModuleList | 0      | train\n",
            "--------------------------------------------------------\n",
            "5.3 K     Trainable params\n",
            "0         Non-trainable params\n",
            "5.3 K     Total params\n",
            "0.021     Total estimated model params size (MB)\n",
            "13        Modules in train mode\n",
            "0         Modules in eval mode\n"
          ]
        },
        {
          "data": {
            "application/vnd.jupyter.widget-view+json": {
              "model_id": "e9e9c3f6752640deb4d7f2791a8a329e",
              "version_major": 2,
              "version_minor": 0
            },
            "text/plain": [
              "Training: |          | 0/? [00:00<?, ?it/s]"
            ]
          },
          "metadata": {},
          "output_type": "display_data"
        },
        {
          "data": {
            "application/vnd.jupyter.widget-view+json": {
              "model_id": "fcd564594edd4d9582d3a4b3e212a3f2",
              "version_major": 2,
              "version_minor": 0
            },
            "text/plain": [
              "Validation: |          | 0/? [00:00<?, ?it/s]"
            ]
          },
          "metadata": {},
          "output_type": "display_data"
        },
        {
          "name": "stderr",
          "output_type": "stream",
          "text": [
            "INFO:pytorch_lightning.utilities.rank_zero:`Trainer.fit` stopped: `max_steps=1000` reached.\n"
          ]
        }
      ],
      "source": [
        "# Start the training\n",
        "accelerator = \"gpu\" if torch.cuda.is_available() else \"cpu\"\n",
        "\n",
        "trainer = pl.Trainer(devices=1, accelerator=accelerator, # what to use to solve problem and how many devices\n",
        "                     num_sanity_val_steps=0,\n",
        "                     benchmark=True,\n",
        "                     max_steps=1000, # number of training steps\n",
        "                     logger=False,\n",
        "                     enable_checkpointing=False)\n",
        "\n",
        "trainer.fit(solver) # start training"
      ]
    },
    {
      "cell_type": "markdown",
      "id": "c2fa291a-73b1-476b-8302-3aa63c34c61a",
      "metadata": {
        "id": "c2fa291a-73b1-476b-8302-3aa63c34c61a"
      },
      "source": [
        "You can also re-run the last three blocks with a smaller learning rate to further decrease the loss.\n",
        "\n",
        "Of course, the state dictionary of the model can be saved in the common way: torch.save(model.state_dict(), 'sd')"
      ]
    },
    {
      "cell_type": "markdown",
      "id": "bac7c186-2be3-4ce0-a252-527ae5083019",
      "metadata": {
        "id": "bac7c186-2be3-4ce0-a252-527ae5083019"
      },
      "source": [
        "## Visualization\n",
        "Torchphysics provides built-in functionalities for visualizing the outcome of the neural network. We use the plot() function from \"tp.utils\", which is built on the Matplotlib library. The most important inputs are:\n",
        "1) model: The neural network whose output shall be visualized.\n",
        "2) plot_function: Will be applied to the model's output before visualization. E.g. if the output was two-dimensional, the plot_function $u\\mapsto u[:, 0]$ could be used for showing only its first coordinate.\n",
        "3) point_sampler: A sampler creating points the neural network will be evaluated at for creating the plot. More information is provided in the the in-depth [plot-tutorial](https://boschresearch.github.io/torchphysics/tutorial/plotting.html).\n",
        "\n",
        "Let us start with the sampler. The samplers we have seen so far (RandomUniformSampler, GridSampler) plot either on the interior or the boundary of their domain.\n",
        "However, it is desirable to consider both the interior and the boundary points in the visualization. For this, one can use a PlotSampler, which is desined for harmonizing with plotting duties."
      ]
    },
    {
      "cell_type": "code",
      "execution_count": 16,
      "id": "00c3d1e0-aeda-4e15-9ca5-67bbb953bd73",
      "metadata": {
        "id": "00c3d1e0-aeda-4e15-9ca5-67bbb953bd73"
      },
      "outputs": [],
      "source": [
        "plot_sampler = tp.samplers.PlotSampler(plot_domain=I, n_points=100)"
      ]
    },
    {
      "cell_type": "markdown",
      "id": "5f9efe1d-cf26-4274-9ac0-1bba28e04827",
      "metadata": {
        "id": "5f9efe1d-cf26-4274-9ac0-1bba28e04827"
      },
      "source": [
        "In our case, the model's output is a scalar and we do not want to modify it before plotting. Hence, plot_function should be the identity mapping, in Python syntax: lambda u: u."
      ]
    },
    {
      "cell_type": "code",
      "execution_count": 17,
      "id": "3b514990-7c54-4896-b391-9275011df402",
      "metadata": {
        "colab": {
          "base_uri": "https://localhost:8080/",
          "height": 520
        },
        "id": "3b514990-7c54-4896-b391-9275011df402",
        "outputId": "ebd30495-6094-4e68-ead8-250466bc93c7"
      },
      "outputs": [
        {
          "data": {
            "image/png": "[encoded data removed]",
            "text/plain": [
              "<Figure size 640x480 with 1 Axes>"
            ]
          },
          "metadata": {},
          "output_type": "display_data"
        }
      ],
      "source": [
        "fig = tp.utils.plot(model=model, plot_function=lambda u : u, point_sampler=plot_sampler, label='Learned solution')\n",
        "# plot also groundtruth\n",
        "sampling_points = np.linspace(0, 2, 100)\n",
        "plt.plot(sampling_points, 2*np.exp(sampling_points), label=f'Groundtruth $u(t) = u_0e^t$')\n",
        "fig.legend()\n",
        "plt.show()"
      ]
    },
    {
      "cell_type": "code",
      "execution_count": 17,
      "id": "9840aad9",
      "metadata": {
        "id": "9840aad9"
      },
      "outputs": [],
      "source": []
    }
  ],
  "metadata": {
    "colab": {
      "provenance": [],
      "toc_visible": true
    },
    "kernelspec": {
      "display_name": "Python 3 (ipykernel)",
      "language": "python",
      "name": "python3"
    },
    "language_info": {
      "codemirror_mode": {
        "name": "ipython",
        "version": 3
      },
      "file_extension": ".py",
      "mimetype": "text/x-python",
      "name": "python",
      "nbconvert_exporter": "python",
      "pygments_lexer": "ipython3",
      "version": "3.9.19"
    },
    "widgets": {
      "application/vnd.jupyter.widget-state+json": {
        "099fcd830e64454093b45f9ec3a9cc4a": {
          "model_module": "@jupyter-widgets/controls",
          "model_module_version": "1.5.0",
          "model_name": "FloatProgressModel",
          "state": {
            "_dom_classes": [],
            "_model_module": "@jupyter-widgets/controls",
            "_model_module_version": "1.5.0",
            "_model_name": "FloatProgressModel",
            "_view_count": null,
            "_view_module": "@jupyter-widgets/controls",
            "_view_module_version": "1.5.0",
            "_view_name": "ProgressView",
            "bar_style": "success",
            "description": "",
            "description_tooltip": null,
            "layout": "IPY_MODEL_cd0ca01f50124df0ac6c951d6d31ab85",
            "max": 1000,
            "min": 0,
            "orientation": "horizontal",
            "style": "IPY_MODEL_58dbae958d11454e88b91efedb750d65",
            "value": 1000
          }
        },
        "1b5ba0b918de430da29cfca2f2a7afbf": {
          "model_module": "@jupyter-widgets/base",
          "model_module_version": "1.2.0",
          "model_name": "LayoutModel",
          "state": {
            "_model_module": "@jupyter-widgets/base",
            "_model_module_version": "1.2.0",
            "_model_name": "LayoutModel",
            "_view_count": null,
            "_view_module": "@jupyter-widgets/base",
            "_view_module_version": "1.2.0",
            "_view_name": "LayoutView",
            "align_content": null,
            "align_items": null,
            "align_self": null,
            "border": null,
            "bottom": null,
            "display": null,
            "flex": null,
            "flex_flow": null,
            "grid_area": null,
            "grid_auto_columns": null,
            "grid_auto_flow": null,
            "grid_auto_rows": null,
            "grid_column": null,
            "grid_gap": null,
            "grid_row": null,
            "grid_template_areas": null,
            "grid_template_columns": null,
            "grid_template_rows": null,
            "height": null,
            "justify_content": null,
            "justify_items": null,
            "left": null,
            "margin": null,
            "max_height": null,
            "max_width": null,
            "min_height": null,
            "min_width": null,
            "object_fit": null,
            "object_position": null,
            "order": null,
            "overflow": null,
            "overflow_x": null,
            "overflow_y": null,
            "padding": null,
            "right": null,
            "top": null,
            "visibility": null,
            "width": null
          }
        },
        "3b582cb05b834f60b6311fdbde240407": {
          "model_module": "@jupyter-widgets/controls",
          "model_module_version": "1.5.0",
          "model_name": "HTMLModel",
          "state": {
            "_dom_classes": [],
            "_model_module": "@jupyter-widgets/controls",
            "_model_module_version": "1.5.0",
            "_model_name": "HTMLModel",
            "_view_count": null,
            "_view_module": "@jupyter-widgets/controls",
            "_view_module_version": "1.5.0",
            "_view_name": "HTMLView",
            "description": "",
            "description_tooltip": null,
            "layout": "IPY_MODEL_5f06b3f84db348c8b32ee48089e01f01",
            "placeholder": "​",
            "style": "IPY_MODEL_f3ebae78a3674c6c93fd64b3ed3e7542",
            "value": "Epoch 0: 100%"
          }
        },
        "4107618f389d48359082d1b9b55d0ef9": {
          "model_module": "@jupyter-widgets/controls",
          "model_module_version": "1.5.0",
          "model_name": "DescriptionStyleModel",
          "state": {
            "_model_module": "@jupyter-widgets/controls",
            "_model_module_version": "1.5.0",
            "_model_name": "DescriptionStyleModel",
            "_view_count": null,
            "_view_module": "@jupyter-widgets/base",
            "_view_module_version": "1.2.0",
            "_view_name": "StyleView",
            "description_width": ""
          }
        },
        "4250369b168442daa28a85e459fd788e": {
          "model_module": "@jupyter-widgets/controls",
          "model_module_version": "1.5.0",
          "model_name": "ProgressStyleModel",
          "state": {
            "_model_module": "@jupyter-widgets/controls",
            "_model_module_version": "1.5.0",
            "_model_name": "ProgressStyleModel",
            "_view_count": null,
            "_view_module": "@jupyter-widgets/base",
            "_view_module_version": "1.2.0",
            "_view_name": "StyleView",
            "bar_color": null,
            "description_width": ""
          }
        },
        "58dbae958d11454e88b91efedb750d65": {
          "model_module": "@jupyter-widgets/controls",
          "model_module_version": "1.5.0",
          "model_name": "ProgressStyleModel",
          "state": {
            "_model_module": "@jupyter-widgets/controls",
            "_model_module_version": "1.5.0",
            "_model_name": "ProgressStyleModel",
            "_view_count": null,
            "_view_module": "@jupyter-widgets/base",
            "_view_module_version": "1.2.0",
            "_view_name": "StyleView",
            "bar_color": null,
            "description_width": ""
          }
        },
        "5f06b3f84db348c8b32ee48089e01f01": {
          "model_module": "@jupyter-widgets/base",
          "model_module_version": "1.2.0",
          "model_name": "LayoutModel",
          "state": {
            "_model_module": "@jupyter-widgets/base",
            "_model_module_version": "1.2.0",
            "_model_name": "LayoutModel",
            "_view_count": null,
            "_view_module": "@jupyter-widgets/base",
            "_view_module_version": "1.2.0",
            "_view_name": "LayoutView",
            "align_content": null,
            "align_items": null,
            "align_self": null,
            "border": null,
            "bottom": null,
            "display": null,
            "flex": null,
            "flex_flow": null,
            "grid_area": null,
            "grid_auto_columns": null,
            "grid_auto_flow": null,
            "grid_auto_rows": null,
            "grid_column": null,
            "grid_gap": null,
            "grid_row": null,
            "grid_template_areas": null,
            "grid_template_columns": null,
            "grid_template_rows": null,
            "height": null,
            "justify_content": null,
            "justify_items": null,
            "left": null,
            "margin": null,
            "max_height": null,
            "max_width": null,
            "min_height": null,
            "min_width": null,
            "object_fit": null,
            "object_position": null,
            "order": null,
            "overflow": null,
            "overflow_x": null,
            "overflow_y": null,
            "padding": null,
            "right": null,
            "top": null,
            "visibility": null,
            "width": null
          }
        },
        "6553e0de7efa42728366a465d83a948f": {
          "model_module": "@jupyter-widgets/controls",
          "model_module_version": "1.5.0",
          "model_name": "HTMLModel",
          "state": {
            "_dom_classes": [],
            "_model_module": "@jupyter-widgets/controls",
            "_model_module_version": "1.5.0",
            "_model_name": "HTMLModel",
            "_view_count": null,
            "_view_module": "@jupyter-widgets/controls",
            "_view_module_version": "1.5.0",
            "_view_name": "HTMLView",
            "description": "",
            "description_tooltip": null,
            "layout": "IPY_MODEL_1b5ba0b918de430da29cfca2f2a7afbf",
            "placeholder": "​",
            "style": "IPY_MODEL_b6390043fdd048849050dc7526dbe7df",
            "value": "Validation DataLoader 0: 100%"
          }
        },
        "79b83887a2bb4248ae991970d6a274b1": {
          "model_module": "@jupyter-widgets/controls",
          "model_module_version": "1.5.0",
          "model_name": "FloatProgressModel",
          "state": {
            "_dom_classes": [],
            "_model_module": "@jupyter-widgets/controls",
            "_model_module_version": "1.5.0",
            "_model_name": "FloatProgressModel",
            "_view_count": null,
            "_view_module": "@jupyter-widgets/controls",
            "_view_module_version": "1.5.0",
            "_view_name": "ProgressView",
            "bar_style": "",
            "description": "",
            "description_tooltip": null,
            "layout": "IPY_MODEL_b321cd7f2e454f21a4e1ea33c7ff4ce3",
            "max": 1,
            "min": 0,
            "orientation": "horizontal",
            "style": "IPY_MODEL_4250369b168442daa28a85e459fd788e",
            "value": 1
          }
        },
        "8ed5e770686f4cb78a0bc85a39ae4157": {
          "model_module": "@jupyter-widgets/base",
          "model_module_version": "1.2.0",
          "model_name": "LayoutModel",
          "state": {
            "_model_module": "@jupyter-widgets/base",
            "_model_module_version": "1.2.0",
            "_model_name": "LayoutModel",
            "_view_count": null,
            "_view_module": "@jupyter-widgets/base",
            "_view_module_version": "1.2.0",
            "_view_name": "LayoutView",
            "align_content": null,
            "align_items": null,
            "align_self": null,
            "border": null,
            "bottom": null,
            "display": null,
            "flex": null,
            "flex_flow": null,
            "grid_area": null,
            "grid_auto_columns": null,
            "grid_auto_flow": null,
            "grid_auto_rows": null,
            "grid_column": null,
            "grid_gap": null,
            "grid_row": null,
            "grid_template_areas": null,
            "grid_template_columns": null,
            "grid_template_rows": null,
            "height": null,
            "justify_content": null,
            "justify_items": null,
            "left": null,
            "margin": null,
            "max_height": null,
            "max_width": null,
            "min_height": null,
            "min_width": null,
            "object_fit": null,
            "object_position": null,
            "order": null,
            "overflow": null,
            "overflow_x": null,
            "overflow_y": null,
            "padding": null,
            "right": null,
            "top": null,
            "visibility": null,
            "width": null
          }
        },
        "8f703e85f7aa4729a04a8f8e41a11b5a": {
          "model_module": "@jupyter-widgets/base",
          "model_module_version": "1.2.0",
          "model_name": "LayoutModel",
          "state": {
            "_model_module": "@jupyter-widgets/base",
            "_model_module_version": "1.2.0",
            "_model_name": "LayoutModel",
            "_view_count": null,
            "_view_module": "@jupyter-widgets/base",
            "_view_module_version": "1.2.0",
            "_view_name": "LayoutView",
            "align_content": null,
            "align_items": null,
            "align_self": null,
            "border": null,
            "bottom": null,
            "display": null,
            "flex": null,
            "flex_flow": null,
            "grid_area": null,
            "grid_auto_columns": null,
            "grid_auto_flow": null,
            "grid_auto_rows": null,
            "grid_column": null,
            "grid_gap": null,
            "grid_row": null,
            "grid_template_areas": null,
            "grid_template_columns": null,
            "grid_template_rows": null,
            "height": null,
            "justify_content": null,
            "justify_items": null,
            "left": null,
            "margin": null,
            "max_height": null,
            "max_width": null,
            "min_height": null,
            "min_width": null,
            "object_fit": null,
            "object_position": null,
            "order": null,
            "overflow": null,
            "overflow_x": null,
            "overflow_y": null,
            "padding": null,
            "right": null,
            "top": null,
            "visibility": null,
            "width": null
          }
        },
        "96e31c05ff4c4a87aef91967cf4292e1": {
          "model_module": "@jupyter-widgets/base",
          "model_module_version": "1.2.0",
          "model_name": "LayoutModel",
          "state": {
            "_model_module": "@jupyter-widgets/base",
            "_model_module_version": "1.2.0",
            "_model_name": "LayoutModel",
            "_view_count": null,
            "_view_module": "@jupyter-widgets/base",
            "_view_module_version": "1.2.0",
            "_view_name": "LayoutView",
            "align_content": null,
            "align_items": null,
            "align_self": null,
            "border": null,
            "bottom": null,
            "display": "inline-flex",
            "flex": null,
            "flex_flow": "row wrap",
            "grid_area": null,
            "grid_auto_columns": null,
            "grid_auto_flow": null,
            "grid_auto_rows": null,
            "grid_column": null,
            "grid_gap": null,
            "grid_row": null,
            "grid_template_areas": null,
            "grid_template_columns": null,
            "grid_template_rows": null,
            "height": null,
            "justify_content": null,
            "justify_items": null,
            "left": null,
            "margin": null,
            "max_height": null,
            "max_width": null,
            "min_height": null,
            "min_width": null,
            "object_fit": null,
            "object_position": null,
            "order": null,
            "overflow": null,
            "overflow_x": null,
            "overflow_y": null,
            "padding": null,
            "right": null,
            "top": null,
            "visibility": "hidden",
            "width": "100%"
          }
        },
        "b321cd7f2e454f21a4e1ea33c7ff4ce3": {
          "model_module": "@jupyter-widgets/base",
          "model_module_version": "1.2.0",
          "model_name": "LayoutModel",
          "state": {
            "_model_module": "@jupyter-widgets/base",
            "_model_module_version": "1.2.0",
            "_model_name": "LayoutModel",
            "_view_count": null,
            "_view_module": "@jupyter-widgets/base",
            "_view_module_version": "1.2.0",
            "_view_name": "LayoutView",
            "align_content": null,
            "align_items": null,
            "align_self": null,
            "border": null,
            "bottom": null,
            "display": null,
            "flex": "2",
            "flex_flow": null,
            "grid_area": null,
            "grid_auto_columns": null,
            "grid_auto_flow": null,
            "grid_auto_rows": null,
            "grid_column": null,
            "grid_gap": null,
            "grid_row": null,
            "grid_template_areas": null,
            "grid_template_columns": null,
            "grid_template_rows": null,
            "height": null,
            "justify_content": null,
            "justify_items": null,
            "left": null,
            "margin": null,
            "max_height": null,
            "max_width": null,
            "min_height": null,
            "min_width": null,
            "object_fit": null,
            "object_position": null,
            "order": null,
            "overflow": null,
            "overflow_x": null,
            "overflow_y": null,
            "padding": null,
            "right": null,
            "top": null,
            "visibility": null,
            "width": null
          }
        },
        "b6390043fdd048849050dc7526dbe7df": {
          "model_module": "@jupyter-widgets/controls",
          "model_module_version": "1.5.0",
          "model_name": "DescriptionStyleModel",
          "state": {
            "_model_module": "@jupyter-widgets/controls",
            "_model_module_version": "1.5.0",
            "_model_name": "DescriptionStyleModel",
            "_view_count": null,
            "_view_module": "@jupyter-widgets/base",
            "_view_module_version": "1.2.0",
            "_view_name": "StyleView",
            "description_width": ""
          }
        },
        "c733319a53f94defb4948ab02d05837c": {
          "model_module": "@jupyter-widgets/controls",
          "model_module_version": "1.5.0",
          "model_name": "DescriptionStyleModel",
          "state": {
            "_model_module": "@jupyter-widgets/controls",
            "_model_module_version": "1.5.0",
            "_model_name": "DescriptionStyleModel",
            "_view_count": null,
            "_view_module": "@jupyter-widgets/base",
            "_view_module_version": "1.2.0",
            "_view_name": "StyleView",
            "description_width": ""
          }
        },
        "cd0ca01f50124df0ac6c951d6d31ab85": {
          "model_module": "@jupyter-widgets/base",
          "model_module_version": "1.2.0",
          "model_name": "LayoutModel",
          "state": {
            "_model_module": "@jupyter-widgets/base",
            "_model_module_version": "1.2.0",
            "_model_name": "LayoutModel",
            "_view_count": null,
            "_view_module": "@jupyter-widgets/base",
            "_view_module_version": "1.2.0",
            "_view_name": "LayoutView",
            "align_content": null,
            "align_items": null,
            "align_self": null,
            "border": null,
            "bottom": null,
            "display": null,
            "flex": "2",
            "flex_flow": null,
            "grid_area": null,
            "grid_auto_columns": null,
            "grid_auto_flow": null,
            "grid_auto_rows": null,
            "grid_column": null,
            "grid_gap": null,
            "grid_row": null,
            "grid_template_areas": null,
            "grid_template_columns": null,
            "grid_template_rows": null,
            "height": null,
            "justify_content": null,
            "justify_items": null,
            "left": null,
            "margin": null,
            "max_height": null,
            "max_width": null,
            "min_height": null,
            "min_width": null,
            "object_fit": null,
            "object_position": null,
            "order": null,
            "overflow": null,
            "overflow_x": null,
            "overflow_y": null,
            "padding": null,
            "right": null,
            "top": null,
            "visibility": null,
            "width": null
          }
        },
        "d8e62d4fa51c4cedbff580f154dd3a17": {
          "model_module": "@jupyter-widgets/controls",
          "model_module_version": "1.5.0",
          "model_name": "HTMLModel",
          "state": {
            "_dom_classes": [],
            "_model_module": "@jupyter-widgets/controls",
            "_model_module_version": "1.5.0",
            "_model_name": "HTMLModel",
            "_view_count": null,
            "_view_module": "@jupyter-widgets/controls",
            "_view_module_version": "1.5.0",
            "_view_name": "HTMLView",
            "description": "",
            "description_tooltip": null,
            "layout": "IPY_MODEL_8ed5e770686f4cb78a0bc85a39ae4157",
            "placeholder": "​",
            "style": "IPY_MODEL_c733319a53f94defb4948ab02d05837c",
            "value": " 1000/1000 [00:37&lt;00:00, 26.83it/s, train/loss=0.000856]"
          }
        },
        "e0ba190eae4e4d5192b5e1ce501af014": {
          "model_module": "@jupyter-widgets/controls",
          "model_module_version": "1.5.0",
          "model_name": "HTMLModel",
          "state": {
            "_dom_classes": [],
            "_model_module": "@jupyter-widgets/controls",
            "_model_module_version": "1.5.0",
            "_model_name": "HTMLModel",
            "_view_count": null,
            "_view_module": "@jupyter-widgets/controls",
            "_view_module_version": "1.5.0",
            "_view_name": "HTMLView",
            "description": "",
            "description_tooltip": null,
            "layout": "IPY_MODEL_8f703e85f7aa4729a04a8f8e41a11b5a",
            "placeholder": "​",
            "style": "IPY_MODEL_4107618f389d48359082d1b9b55d0ef9",
            "value": " 1/1 [00:00&lt;00:00, 259.10it/s]"
          }
        },
        "e9e9c3f6752640deb4d7f2791a8a329e": {
          "model_module": "@jupyter-widgets/controls",
          "model_module_version": "1.5.0",
          "model_name": "HBoxModel",
          "state": {
            "_dom_classes": [],
            "_model_module": "@jupyter-widgets/controls",
            "_model_module_version": "1.5.0",
            "_model_name": "HBoxModel",
            "_view_count": null,
            "_view_module": "@jupyter-widgets/controls",
            "_view_module_version": "1.5.0",
            "_view_name": "HBoxView",
            "box_style": "",
            "children": [
              "IPY_MODEL_3b582cb05b834f60b6311fdbde240407",
              "IPY_MODEL_099fcd830e64454093b45f9ec3a9cc4a",
              "IPY_MODEL_d8e62d4fa51c4cedbff580f154dd3a17"
            ],
            "layout": "IPY_MODEL_fd6826c5f1a54e93ae8b6ab4d3d6e421"
          }
        },
        "f3ebae78a3674c6c93fd64b3ed3e7542": {
          "model_module": "@jupyter-widgets/controls",
          "model_module_version": "1.5.0",
          "model_name": "DescriptionStyleModel",
          "state": {
            "_model_module": "@jupyter-widgets/controls",
            "_model_module_version": "1.5.0",
            "_model_name": "DescriptionStyleModel",
            "_view_count": null,
            "_view_module": "@jupyter-widgets/base",
            "_view_module_version": "1.2.0",
            "_view_name": "StyleView",
            "description_width": ""
          }
        },
        "fcd564594edd4d9582d3a4b3e212a3f2": {
          "model_module": "@jupyter-widgets/controls",
          "model_module_version": "1.5.0",
          "model_name": "HBoxModel",
          "state": {
            "_dom_classes": [],
            "_model_module": "@jupyter-widgets/controls",
            "_model_module_version": "1.5.0",
            "_model_name": "HBoxModel",
            "_view_count": null,
            "_view_module": "@jupyter-widgets/controls",
            "_view_module_version": "1.5.0",
            "_view_name": "HBoxView",
            "box_style": "",
            "children": [
              "IPY_MODEL_6553e0de7efa42728366a465d83a948f",
              "IPY_MODEL_79b83887a2bb4248ae991970d6a274b1",
              "IPY_MODEL_e0ba190eae4e4d5192b5e1ce501af014"
            ],
            "layout": "IPY_MODEL_96e31c05ff4c4a87aef91967cf4292e1"
          }
        },
        "fd6826c5f1a54e93ae8b6ab4d3d6e421": {
          "model_module": "@jupyter-widgets/base",
          "model_module_version": "1.2.0",
          "model_name": "LayoutModel",
          "state": {
            "_model_module": "@jupyter-widgets/base",
            "_model_module_version": "1.2.0",
            "_model_name": "LayoutModel",
            "_view_count": null,
            "_view_module": "@jupyter-widgets/base",
            "_view_module_version": "1.2.0",
            "_view_name": "LayoutView",
            "align_content": null,
            "align_items": null,
            "align_self": null,
            "border": null,
            "bottom": null,
            "display": "inline-flex",
            "flex": null,
            "flex_flow": "row wrap",
            "grid_area": null,
            "grid_auto_columns": null,
            "grid_auto_flow": null,
            "grid_auto_rows": null,
            "grid_column": null,
            "grid_gap": null,
            "grid_row": null,
            "grid_template_areas": null,
            "grid_template_columns": null,
            "grid_template_rows": null,
            "height": null,
            "justify_content": null,
            "justify_items": null,
            "left": null,
            "margin": null,
            "max_height": null,
            "max_width": null,
            "min_height": null,
            "min_width": null,
            "object_fit": null,
            "object_position": null,
            "order": null,
            "overflow": null,
            "overflow_x": null,
            "overflow_y": null,
            "padding": null,
            "right": null,
            "top": null,
            "visibility": null,
            "width": "100%"
          }
        }
      }
    }
  },
  "nbformat": 4,
  "nbformat_minor": 5
}
