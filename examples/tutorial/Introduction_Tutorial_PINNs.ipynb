{
 "cells": [
  {
   "cell_type": "code",
   "execution_count": 2,
   "id": "1ef6d147-2dd4-4547-9fb6-79b3758d7350",
   "metadata": {
    "id": "1ef6d147-2dd4-4547-9fb6-79b3758d7350"
   },
   "outputs": [],
   "source": [
    "import torchphysics as tp\n",
    "import numpy as np\n",
    "import torch\n",
    "from matplotlib import pyplot as plt"
   ]
  },
  {
   "cell_type": "markdown",
   "id": "7cf51978-f0cb-4331-ba1c-9ee4ca6bf8f0",
   "metadata": {
    "id": "7cf51978-f0cb-4331-ba1c-9ee4ca6bf8f0"
   },
   "source": [
    "# Physics Informed Neural Networks (PINNs) in TorchPhysics\n",
    "In this tutorial we present a first basic example of solving a PDE with boundary constraints in TorchPhysics using a PINN approach.\n",
    "You will also learn about the different components of this library and main steps for finding a neural network that approximates the solution of a PDE.\n",
    "\n",
    "We want to solve the time-dependent heat equation for a perfectly insulated room $\\Omega\\subset \\mathbb{R}^2$ in which a heater is turned on.\n",
    "$$\n",
    "\\begin{cases}\n",
    "\\frac{\\partial}{\\partial t} u(x,t) &= \\Delta_x u(x,t) &&\\text{ on } \\Omega\\times I, \\\\\n",
    "u(x, t) &= u_0 &&\\text{ on } \\Omega\\times \\{0\\},\\\\\n",
    "u(x,t) &= h(t) &&\\text{ at } \\partial\\Omega_{heater}\\times I, \\\\\n",
    "\\nabla_x u(x, t) \\cdot \\overset{\\rightarrow}{n}(x) &= 0 &&\\text{ at } (\\partial \\Omega \\setminus \\partial\\Omega_{heater}) \\times I.\n",
    "\\end{cases}\n",
    "$$\n",
    "The initial room (and heater) temperature is $u_0 = 16$. The time domain is the interval $I = (0, 20)$, whereas the domain of the room is $\\Omega=(5,0) \\times (4,0)$. The heater is located at $\\partial\\Omega_{heater} = [1,3] \\times \\{4\\}$ and the temperature of the heater is described by the function $h$ defined below.\n",
    "The normal vector at some $x\\in \\partial \\Omega$ is denoted by $\\overset{\\rightarrow}{n}(x)$."
   ]
  },
  {
   "cell_type": "code",
   "execution_count": null,
   "id": "d6b5fdd2-67c1-4f7e-a185-9d515fb9f3f8",
   "metadata": {
    "colab": {
     "base_uri": "https://localhost:8080/",
     "height": 430
    },
    "id": "d6b5fdd2-67c1-4f7e-a185-9d515fb9f3f8",
    "outputId": "b6f2faea-b0e8-4af0-dc49-e8312374062b"
   },
   "outputs": [],
   "source": [
    "u_0          = 16 # initial temperature\n",
    "u_heater_max = 40 # maximal temperature of the heater\n",
    "t_heater_max = 5  # time at which the heater reaches its maximal temperature\n",
    "\n",
    "# heater temperature function\n",
    "def h(t):\n",
    "    ht = u_0 + (u_heater_max - u_0) / t_heater_max * t\n",
    "    ht[t>t_heater_max] = u_heater_max\n",
    "    return ht\n",
    "\n",
    "# Visualize h(t)\n",
    "t = np.linspace(0, 20, 200)\n",
    "plt.plot(t, h(t))\n",
    "plt.show()"
   ]
  },
  {
   "cell_type": "markdown",
   "id": "8da6279e-83c2-41ed-a56b-453b21f05d11",
   "metadata": {
    "id": "8da6279e-83c2-41ed-a56b-453b21f05d11"
   },
   "source": [
    "## Recall PINNs\n",
    "The goal is to find a neural network $u_\\theta: \\overline{\\Omega\\times I} \\to \\mathbb{R}$, which approximately satisfies all four conditions of the PDE problem above, where $\\theta$ are the trainable parameters of the neural network.\n",
    "Let us shortly recall the main idea behind PINNs.\n",
    "\n",
    "In our case, there is no data available (e.g. temperature measurements in $\\Omega$), which could be used for training the neural network. Hence, we can only exploit the four conditions listed above.\n",
    "\n",
    "The residuals are denoted by\n",
    "$$\n",
    "\\begin{align}\n",
    "&\\text{1) Residual of pde condition: }      &&R_1(u, x, t) := u(x, t) - \\Delta_x u(x,t) \\\\\n",
    "&\\text{2) Residual of initial condition: }  &&R_2(u, x) := u(x, 0) - u_0\\\\\n",
    "&\\text{3) Residual of dirichlet boundary condition: }  &&R_3(u, x, t) := u(x,t) - h(t)\\\\\n",
    "&\\text{4) Residual of neumann boundary condition: }    &&R_4(u, x, t) :=\\nabla_x u(x,t) \\cdot \\overset{\\rightarrow}{n}(x)\n",
    "\\end{align}\n",
    "$$\n",
    "Continuing with the PINN approach, points are sampled in the domains corresponding to each condition. In our example points\n",
    "$$\n",
    "\\begin{align}\n",
    "&\\text{1) } &&\\big(x^{(1)}_i, t_i^{(1)} \\big)_i &&&\\in \\Omega \\times I,\\\\\n",
    "&\\text{2) } &&\\big(x^{(2)}_j, 0 \\big)_j        &&&\\in \\Omega \\times \\{0\\},\\\\\n",
    "&\\text{3) } &&\\big(x^{(3)}_k, t_k^{(3)} \\big)_k &&&\\in \\partial\\Omega_{heater} \\times I,\\\\\n",
    "&\\text{4) } &&\\big(x^{(4)}_l, t_l^{(4)} \\big)_l &&&\\in (\\partial\\Omega \\setminus \\partial\\Omega_{heater}) \\times I.\n",
    "\\end{align}\n",
    "$$\n",
    "Then, the network $u_\\theta$ is trained by solving the following minimization problem\n",
    "$$\n",
    "\\begin{align}\n",
    "\\min_\\theta \\sum_{i} \\big\\vert R_1(u_\\theta, x^{(1)}_i, t_i^{(1)}) \\big \\vert^2 + \\sum_j \\big\\vert R_2(u_\\theta, x^{(2)}_j) \\big \\vert^2 + \\sum_k \\big\\vert R_3(u_\\theta, x^{(3)}_k, t_k^{(3)}) \\big \\vert^2 + \\sum_l \\big\\vert R_4(u_\\theta, x^{(4)}_l, t_l^{(4)}) \\big \\vert^2,\n",
    "\\end{align}\n",
    "$$\n",
    "that is, the residuals are minimized with respect to the $l_2$-norm.\n",
    "It is to be noted here that if data was available, one could simply add a data loss term to the loss function above."
   ]
  },
  {
   "cell_type": "markdown",
   "id": "8f0db4a0-cace-4d21-845f-f34680880d7d",
   "metadata": {
    "id": "8f0db4a0-cace-4d21-845f-f34680880d7d"
   },
   "source": [
    "## Translating the PDE Problem into the Language of TorchPhysics\n",
    "Translating the PDE problem into the framework of TorchPhysics works in a convenient and intuitive way, as the notation is close to the mathematical formulation. The general procedure can be devided into five steps. Also when solving other problems with TorchPhysics, such as parameter identification or variational problems, the same steps can be applied, see also the further [tutorials](https://boschresearch.github.io/torchphysics/tutorial/tutorial_start.html) or [examples](https://boschresearch.github.io/torchphysics/examples.html)."
   ]
  },
  {
   "cell_type": "markdown",
   "id": "e8fe0433-82b7-4093-8f6f-8adf7e46ff5b",
   "metadata": {
    "id": "e8fe0433-82b7-4093-8f6f-8adf7e46ff5b"
   },
   "source": [
    "### Step 1: Specify spaces and domains\n",
    "The spatial domain $\\Omega$ is a subset of the space $\\mathbb{R}^2$, the time domain $I$ is a subset of $\\mathbb{R}$, whereas the temperature $u(x,t)$ attains values in $\\mathbb{R}$. First, we need to let TorchPhysics know which spaces and domains we are dealing with and how variables/elements within these spaces are denoted by.\n",
    "This is realized by generating objects of TorchPhysics' Space and Domain classes in \"tp.spaces\" and \"tp.domains\", respectively.\n",
    "Some simple domains are already predefined, which will be sufficient for this tutorial. For creating complexer domains please have a look at the [domain-tutorial](https://boschresearch.github.io/torchphysics/tutorial/tutorial_domain_basics.html)."
   ]
  },
  {
   "cell_type": "code",
   "execution_count": null,
   "id": "6af0dba0-d481-4566-a8b7-244098eee713",
   "metadata": {
    "id": "6af0dba0-d481-4566-a8b7-244098eee713"
   },
   "outputs": [],
   "source": [
    "# Input and output spaces\n",
    "X = tp.spaces.R2(variable_name='x')\n",
    "T = tp.spaces.R1('t')\n",
    "U = tp.spaces.R1('u')\n",
    "\n",
    "# Domains\n",
    "Omega = tp.domains.Parallelogram(space=X, origin=[0,0], corner_1=[5,0], corner_2=[0,4])\n",
    "I     = tp.domains.Interval(space=T, lower_bound=0, upper_bound=20)"
   ]
  },
  {
   "cell_type": "code",
   "execution_count": null,
   "id": "1efe92cb-daab-4d21-8a43-5008e3e9248a",
   "metadata": {
    "colab": {
     "base_uri": "https://localhost:8080/",
     "height": 449
    },
    "id": "1efe92cb-daab-4d21-8a43-5008e3e9248a",
    "outputId": "cdb09abd-279c-42b4-b96c-7f244d36d305"
   },
   "outputs": [],
   "source": [
    "# The domain can be visualized by creating a sampler object, see also step 2, and use the scatter plot function from tp.utils.\n",
    "Omega_sampler = tp.samplers.RandomUniformSampler(Omega, n_points=500)\n",
    "plot           = tp.utils.scatter(X, Omega_sampler)"
   ]
  },
  {
   "cell_type": "markdown",
   "id": "a1676bc3-8dab-4ce4-84ff-f8fc29e8b829",
   "metadata": {
    "id": "a1676bc3-8dab-4ce4-84ff-f8fc29e8b829"
   },
   "source": [
    "### Step 2: Define point samplers for different subsets of $\\overline{\\Omega\\times I}$\n",
    "As mentioned in the PINN recall, it will be necessary to sample points in different subsets of the full domain $\\overline{\\Omega\\times I}$. TorchPhysics provides this functionality by sampler classes in \"tp.samplers\". For simplicity, we consider only Random Uniform Samplers for the subdomains. However, there are many more possibilities to sample points in TorchPhysics, see also [sampler-tutorial](https://boschresearch.github.io/torchphysics/tutorial/sampler_tutorial.html).\n",
    "\n",
    "The most important inputs of a sampler constructor are the \"domain\" from which points will be sampled, as well as the \"number of points\" drawn every time the sampler is called. It is reasonable to create different sampler objects for the different conditions of the pde problem, simply because the subdomains differ.\n",
    "\n",
    "For instance, the pde condition 1) should hold for points in the domain $\\Omega \\times I$. We have already created $\\Omega$ and $I$ as TorchPhysics Domains in Step 1. Their cartesian product is simply obtained by the multiplication operator \"$*$\":"
   ]
  },
  {
   "cell_type": "code",
   "execution_count": null,
   "id": "d428cf7f-89ee-4f3f-a1bf-822b82550a7e",
   "metadata": {
    "id": "d428cf7f-89ee-4f3f-a1bf-822b82550a7e"
   },
   "outputs": [],
   "source": [
    "domain_pde_condition = Omega * I"
   ]
  },
  {
   "cell_type": "markdown",
   "id": "8db04580-edb8-45ac-8f48-091450647377",
   "metadata": {
    "id": "8db04580-edb8-45ac-8f48-091450647377"
   },
   "source": [
    "Having the relevant domain on hand, we initialize as follows:"
   ]
  },
  {
   "cell_type": "code",
   "execution_count": null,
   "id": "d020f7f4-c286-466f-928d-1f80ee64c53f",
   "metadata": {
    "id": "d020f7f4-c286-466f-928d-1f80ee64c53f"
   },
   "outputs": [],
   "source": [
    "sampler_pde_condition = tp.samplers.RandomUniformSampler(domain=domain_pde_condition, n_points=1500)"
   ]
  },
  {
   "cell_type": "markdown",
   "id": "ac69b667-1a77-4e8a-8a20-2e0b5a1de2a0",
   "metadata": {
    "id": "ac69b667-1a77-4e8a-8a20-2e0b5a1de2a0"
   },
   "source": [
    "There is an important alternative way of creating a sampler for a cartesian product of domains. Instead of defining the sampler on $\\Omega\\times I$, it is also possible to create samplers on $\\Omega$ and $I$ seperately, and multiply the samplers instead. This might be useful if different resolutions shall be considered, or when using other samplers in TorchPhysics such as a GridSampler, since a GridSampler cannot directly be created on a cartesian product in the way above."
   ]
  },
  {
   "cell_type": "code",
   "execution_count": null,
   "id": "3a1ee851-1bd4-4ee2-83e4-7dca3f883c0f",
   "metadata": {
    "id": "3a1ee851-1bd4-4ee2-83e4-7dca3f883c0f"
   },
   "outputs": [],
   "source": [
    "sampler_Omega                     = tp.samplers.GridSampler(domain=Omega, n_points=1000)\n",
    "sampler_I                         = tp.samplers.RandomUniformSampler(domain=I, n_points=500)\n",
    "alternative_sampler_pde_condition = sampler_Omega * sampler_I"
   ]
  },
  {
   "cell_type": "markdown",
   "id": "c9f72b70-0e87-466f-a7c0-0e1f194745cc",
   "metadata": {
    "id": "c9f72b70-0e87-466f-a7c0-0e1f194745cc"
   },
   "source": [
    "For more detailed information on the functionality of TorchPysics samplers, please have a look at the [examples](https://boschresearch.github.io/torchphysics/examples.html) or [sampler-tutorial](https://boschresearch.github.io/torchphysics/tutorial/sampler_tutorial.html).\n",
    "\n",
    "Next, let us define samplers for the initial and boundary conditions. Regarding the initial condition the domain is $\\Omega \\times \\{0\\}$, so we need access to the left boundary of the time interval $I$. All tp.domains.Interval objects have the attribute \"boundary_left\", an instance of TorchPhysics BoundaryDomain class, a subclass of the Domain class."
   ]
  },
  {
   "cell_type": "code",
   "execution_count": null,
   "id": "e780f5fa-5ebf-4731-8568-77116ea039f6",
   "metadata": {
    "id": "e780f5fa-5ebf-4731-8568-77116ea039f6"
   },
   "outputs": [],
   "source": [
    "domain_initial_condition  = Omega * I.boundary_left\n",
    "sampler_initial_condition    = tp.samplers.RandomUniformSampler(domain_initial_condition, 2500)"
   ]
  },
  {
   "cell_type": "markdown",
   "id": "7750bf6b-30ec-4ca9-8f37-9699439d0d22",
   "metadata": {
    "id": "7750bf6b-30ec-4ca9-8f37-9699439d0d22"
   },
   "source": [
    "Both the  Dirichlet and Neumann boundary conditions should hold on subsets of the boundary $\\partial \\Omega \\times I$. It is easier to use a sampler for the whole boundary and determine later (in Step 3, the definition of the residual functions) whether a sampled point belongs to the domain $\\partial \\Omega_{heater}\\times I$ of the Dirichlet condition, or to the domain $(\\partial \\Omega \\setminus \\partial \\Omega_{heater}) \\times I$ of the Neumann condition."
   ]
  },
  {
   "cell_type": "code",
   "execution_count": null,
   "id": "b627951a-a12b-4333-b965-35a56b8fc396",
   "metadata": {
    "id": "b627951a-a12b-4333-b965-35a56b8fc396"
   },
   "outputs": [],
   "source": [
    "domain_boundary_condition  = Omega.boundary * I\n",
    "sampler_boundary_condition = tp.samplers.RandomUniformSampler(domain_boundary_condition, 2500)"
   ]
  },
  {
   "cell_type": "code",
   "execution_count": null,
   "id": "c23a19e6-4167-4785-8323-984c319e2cb4",
   "metadata": {
    "colab": {
     "base_uri": "https://localhost:8080/",
     "height": 449
    },
    "id": "c23a19e6-4167-4785-8323-984c319e2cb4",
    "outputId": "f47cb4e2-7c58-41e3-8d5b-445b02ec45fa"
   },
   "outputs": [],
   "source": [
    "# Visualization of sampled points at the boundary\n",
    "plot = tp.utils.scatter(X, sampler_boundary_condition)"
   ]
  },
  {
   "cell_type": "markdown",
   "id": "6b1b87f9-b6d6-44ec-8fb5-833ab466d89b",
   "metadata": {
    "id": "6b1b87f9-b6d6-44ec-8fb5-833ab466d89b"
   },
   "source": [
    "### Step 3: Define residual functions\n",
    "As mentioned in the PINNs Recall, we are looking for a neural network $u_\\theta$ for which all of the residual functions $R_1,...,R_4$ vanish.\n",
    "\n",
    "Let us have a look at $R_1$, the residual for the pde condition, the way it is defined in the PINNs Recall above. The inputs of $R_1$ are spatial and temporal coordinates $x\\in \\Omega$, $t\\in I$, but also the temperature $u_\\theta$, which is itself a function of $x$ and $t$. In TorchPhysics, the evaluation of the network $u_\\theta$ at $(x,t)$ is done before evaluating the residual functions. This means that from now on we consider $R_1$ as well as the other residuals to be functions, whose inputs are triples $(u, x, t)$, where $u:=u_\\theta(x,t)$.\n",
    "\n",
    "More precisely, $u$ will be a torch.tensor of shape (n_points, 1), $x$ of shape (n_points, 2) and $t$ of shape (n_points, 1), where n_points is the number of triples $(u,x,t)$ for which the residual should be computed.\n",
    "\n",
    "For the residual $R_1$ it is required to compute the laplacian of $u$ with respect to $x$, as well as the gradient with respect to $t$. These differential operators, among others - see [utils-tutorial](https://boschresearch.github.io/torchphysics/tutorial/differentialoperators.html), are pre-implemented and can be found in \"tp.utils\". The intern computation is build upon torch's autograd functionality."
   ]
  },
  {
   "cell_type": "code",
   "execution_count": null,
   "id": "c29f3f92-d613-470f-ab74-9369e071ea04",
   "metadata": {
    "id": "c29f3f92-d613-470f-ab74-9369e071ea04"
   },
   "outputs": [],
   "source": [
    "def residual_pde_condition(u, x, t):\n",
    "    return tp.utils.laplacian(u, x) - tp.utils.grad(u, t)"
   ]
  },
  {
   "cell_type": "markdown",
   "id": "e444a2e5-6fc6-4124-894c-1ba987153241",
   "metadata": {
    "id": "e444a2e5-6fc6-4124-894c-1ba987153241"
   },
   "source": [
    "For the computation of the residual $R_2$ of the initial condition, the coordinates $x$ and $t$ are not required, since $u$ is already the evaluation of the network at these points. Therefore, we can conveniently omit them as input parameters."
   ]
  },
  {
   "cell_type": "code",
   "execution_count": null,
   "id": "65954de9-4c80-4d2a-be6e-0cd16ab82596",
   "metadata": {
    "id": "65954de9-4c80-4d2a-be6e-0cd16ab82596"
   },
   "outputs": [],
   "source": [
    "def residual_initial_condition(u):\n",
    "    return u - u_0"
   ]
  },
  {
   "cell_type": "markdown",
   "id": "97b9bfba-5cd3-400c-8c5a-4cd48b320c80",
   "metadata": {
    "id": "97b9bfba-5cd3-400c-8c5a-4cd48b320c80"
   },
   "source": [
    "In Step 2, we defined a boundary sampler for $\\partial \\Omega \\times I$, the domain for the boundary conditions. Hence, the sampler does not differ between the domain of the Dirichlet and Neumann boundary conditions. This is why we define a combined residual function $R_b$ for $R_3$ and $R_4$, which will output\n",
    "$$\n",
    "\\begin{align}\n",
    "R_b(u, x, t) = \\begin{cases}\n",
    "R_3(u, x, t) &\\text{ if } &&x \\in \\partial \\Omega_{heater},\\\\\n",
    "R_4(u, x, t) &\\text{ if } &&x \\in \\partial \\Omega \\setminus \\partial \\Omega_{heater}.\n",
    "\\end{cases}\n",
    "\\end{align}\n",
    "$$\n",
    "Let us start with the defintion of the Dirichlet residual $R_3$:"
   ]
  },
  {
   "cell_type": "code",
   "execution_count": null,
   "id": "c97e8bfe-1580-4bb8-bb1b-d4c874ef6244",
   "metadata": {
    "id": "c97e8bfe-1580-4bb8-bb1b-d4c874ef6244"
   },
   "outputs": [],
   "source": [
    "def residual_dirichlet_condition(u, t):\n",
    "    return u - h(t)"
   ]
  },
  {
   "cell_type": "markdown",
   "id": "de441693-0870-43db-8d8d-38777a075432",
   "metadata": {
    "id": "de441693-0870-43db-8d8d-38777a075432"
   },
   "source": [
    "For the Neumann residual $R_4$ we need the normal derivative of $u$ at $x$. This differential operator is also contained in \"tp.utils\", whereas the normal vectors at points $x\\in \\partial \\Omega$ are available by the attribute \"normal\" of the \"boundary\" of the domain $\\Omega$."
   ]
  },
  {
   "cell_type": "code",
   "execution_count": null,
   "id": "17d5e293-57bd-4739-9518-a014f6df2b79",
   "metadata": {
    "id": "17d5e293-57bd-4739-9518-a014f6df2b79"
   },
   "outputs": [],
   "source": [
    "def residual_neumann_condition(u, x):\n",
    "    normal_vectors    = Omega.boundary.normal(x)\n",
    "    normal_derivative = tp.utils.normal_derivative(u, normal_vectors, x)\n",
    "    return normal_derivative"
   ]
  },
  {
   "cell_type": "markdown",
   "id": "463e507e-d33b-4f8d-9149-c45356fdf236",
   "metadata": {
    "id": "463e507e-d33b-4f8d-9149-c45356fdf236"
   },
   "source": [
    "The combined boundary residual $R_b$ is then easily obtained as follows:"
   ]
  },
  {
   "cell_type": "code",
   "execution_count": null,
   "id": "4864c6ed-6f2b-4f80-bd6f-cd8ff3d8a809",
   "metadata": {
    "id": "4864c6ed-6f2b-4f80-bd6f-cd8ff3d8a809"
   },
   "outputs": [],
   "source": [
    "def residual_boundary_condition(u, x, t):\n",
    "    # Create boolean tensor indicating which points x belong to the dirichlet condition (heater location)\n",
    "    heater_location           = (x[:, 0] >= 1 ) & (x[:, 0] <= 3) & (x[:, 1] >= 3.99)\n",
    "    # First compute Neumann residual everywhere, also at the heater position\n",
    "    residual                  = residual_neumann_condition(u, x)\n",
    "    # Now change residual at the heater to the Dirichlet residual\n",
    "    residual_h                = residual_dirichlet_condition(u, t)\n",
    "    residual[heater_location] = residual_h[heater_location]\n",
    "    return residual"
   ]
  },
  {
   "cell_type": "markdown",
   "id": "0cc89ada-310b-4a84-bcc0-77baa7afca2c",
   "metadata": {
    "id": "0cc89ada-310b-4a84-bcc0-77baa7afca2c"
   },
   "source": [
    "### Step 4: Define Neural Network\n",
    "At this point, let us define the model $u_\\theta:\\overline{\\Omega\\times I}\\to \\mathbb{R}$. This task is handled by the TorchPhysics Model class, which is contained in \"tp.models\". It inherits from the torch.nn.Module class from Pytorch, which means that building own models can be achieved in a very similar way, see [model-tutorial](https://boschresearch.github.io/torchphysics/tutorial/model_creation.html).\n",
    "There are also a bunch of predefined neural networks or single layers available, e.g. fully connected networks (FCN) or normalization layers, which are subclasses of TorchPhysics' Model class.\n",
    "In this tutorial we consider a very simple neural network, constructed in the following way:\n",
    "\n",
    "We start with a normalization layer, which maps points $(x,t)\\in \\overline{\\Omega\\times I}\\subset \\mathbb{R}^3$ into the cube $[-1, 1]^3$."
   ]
  },
  {
   "cell_type": "code",
   "execution_count": null,
   "id": "bdef3d80-90e6-47aa-95ce-6d735fd03f36",
   "metadata": {
    "id": "bdef3d80-90e6-47aa-95ce-6d735fd03f36"
   },
   "outputs": [],
   "source": [
    "normalization_layer = tp.models.NormalizationLayer(Omega*I)"
   ]
  },
  {
   "cell_type": "markdown",
   "id": "75e0d506-13f0-4e39-882b-d752c89fe7fc",
   "metadata": {
    "id": "75e0d506-13f0-4e39-882b-d752c89fe7fc"
   },
   "source": [
    "Afterwards, the scaled points will be passed through a fully connected network. The constructor requires to include the input space $X\\times T$, output space $U$ and ouput dimensions of the hidden layers. Remember the definition of the TorchPyhsics spaces $X,T$ and $U$ from Step 1. Similar as for domains, the cartesian product of spaces is obtained by the multiplication operator \"$*$\". Here, we consider a fully connected network with four hidden layers, the latter consisting of $80, 50, 50$ and $50$ neurons, respectively."
   ]
  },
  {
   "cell_type": "code",
   "execution_count": null,
   "id": "fa15606a-a2c7-40bf-9e41-920c8f6a1bc9",
   "metadata": {
    "id": "fa15606a-a2c7-40bf-9e41-920c8f6a1bc9"
   },
   "outputs": [],
   "source": [
    "fcn_layer           = tp.models.FCN(input_space=X*T, output_space=U, hidden = (80,50,50,50))"
   ]
  },
  {
   "cell_type": "markdown",
   "id": "694d8666-170e-4c28-a87a-73aa329e2094",
   "metadata": {
    "id": "694d8666-170e-4c28-a87a-73aa329e2094"
   },
   "source": [
    "Similar to Pytorch, the normalization layer and FCN can be concatenated by the class \"tp.models.Sequential\":"
   ]
  },
  {
   "cell_type": "code",
   "execution_count": null,
   "id": "9b838d6f-1b90-4667-8ecb-9f54b4ec627e",
   "metadata": {
    "id": "9b838d6f-1b90-4667-8ecb-9f54b4ec627e"
   },
   "outputs": [],
   "source": [
    "model               = tp.models.Sequential(normalization_layer, fcn_layer)"
   ]
  },
  {
   "cell_type": "markdown",
   "id": "17e3f8ab-bd6c-4f4f-94a6-030930458c0c",
   "metadata": {
    "id": "17e3f8ab-bd6c-4f4f-94a6-030930458c0c"
   },
   "source": [
    "### Step 5: Create TorchPhysics Conditions\n",
    "Let us sum up what we have done so far: For the pde, initial and combined boundary condition of the PDE problem, we constructed samplers and residuals on the corresponding domains.\n",
    "Moreover, we have defined a neural network which will later be trained to fulfull each of these conditions.\n",
    "\n",
    "As a final step, we collect these constructions for each condition in an object of the TorchPhysics Condition class, contained in \"tp.conditions\".\n",
    "Since we are interested in applying a PINN approach, we create objects of the subclass PINNCondition, which automatically contains the information that the residuals should be minimized in the squared $l_2$-norm, see again the PINN Recall. For other TorchPhysics Conditions one may need to specify which norm should be taken of the residuals, see [condition-tutorial](https://boschresearch.github.io/torchphysics/tutorial/condition_tutorial.html) for further information."
   ]
  },
  {
   "cell_type": "code",
   "execution_count": null,
   "id": "008c09a7-81f8-41b5-8c10-3892812740ad",
   "metadata": {
    "id": "008c09a7-81f8-41b5-8c10-3892812740ad"
   },
   "outputs": [],
   "source": [
    "pde_condition      = tp.conditions.PINNCondition(module     =model,\n",
    "                                                 sampler    =sampler_pde_condition,\n",
    "                                                 residual_fn=residual_pde_condition)\n",
    "\n",
    "initial_condition  = tp.conditions.PINNCondition(module     =model,\n",
    "                                                 sampler    =sampler_initial_condition,\n",
    "                                                 residual_fn=residual_initial_condition)\n",
    "\n",
    "boundary_condition = tp.conditions.PINNCondition(module     =model,\n",
    "                                                 sampler    =sampler_boundary_condition,\n",
    "                                                 residual_fn=residual_boundary_condition)"
   ]
  },
  {
   "cell_type": "markdown",
   "id": "5cd77316-3c78-4bf1-b639-9ccb7070af2d",
   "metadata": {
    "id": "5cd77316-3c78-4bf1-b639-9ccb7070af2d"
   },
   "source": [
    "It is to be noted that TorchPhysics' Condition class is a subclass of the torch.nn.Module class and its forward() method returns the current loss of the respective condition.\n",
    "For example, calling forward() of the pde_condition at points $(x_i, t_i)_i$ in $\\Omega\\times I$ will return\n",
    "$$\n",
    "\\begin{align}\n",
    "\\sum_i \\big \\vert R_1(u_\\theta, x_i, t_i) \\big \\vert^2,\n",
    "\\end{align}\n",
    "$$\n",
    "where $R_1$ is the residual function for the pde condition defined in the PINN recall and $u_\\theta$ is the model defined in Step 4."
   ]
  },
  {
   "cell_type": "markdown",
   "id": "2e0fad4c-2cfd-4c10-8e2f-0a3702a2eeac",
   "metadata": {
    "id": "2e0fad4c-2cfd-4c10-8e2f-0a3702a2eeac"
   },
   "source": [
    "The reason that also the model is required for initializing a Condition object is, that it could be desireable in some [cases](https://github.com/boschresearch/torchphysics/blob/main/examples/pinn/interface-jump.ipynb) to train different networks for different conditions of the PDE problem."
   ]
  },
  {
   "cell_type": "markdown",
   "id": "31d80c43-5879-401c-8212-0e4a5fd6514c",
   "metadata": {
    "id": "31d80c43-5879-401c-8212-0e4a5fd6514c"
   },
   "source": [
    "## Training based on Pytorch Lightning\n",
    "In order to train a model, TorchPhysics makes use of the Pytorch Lightning library, which hence must be imported. Further, we import \"os\" so that GPUs can be used for the calculations."
   ]
  },
  {
   "cell_type": "code",
   "execution_count": null,
   "id": "bb76e892-bf53-4a01-adc5-74dddb770525",
   "metadata": {
    "colab": {
     "base_uri": "https://localhost:8080/"
    },
    "id": "bb76e892-bf53-4a01-adc5-74dddb770525",
    "outputId": "90104470-f0c5-40ab-e922-3c9915202fd6"
   },
   "outputs": [],
   "source": [
    "import pytorch_lightning as pl\n",
    "import os\n",
    "os.environ[\"CUDA_VISIBLE_DEVICES\"] = \"1\" if torch.cuda.is_available() else \"0\"\n",
    "\n",
    "print (\"GPU available: \" + str(torch.cuda.is_available()))"
   ]
  },
  {
   "cell_type": "markdown",
   "id": "1639cf38-835b-4571-b0c5-7ef0d130c2df",
   "metadata": {
    "id": "1639cf38-835b-4571-b0c5-7ef0d130c2df"
   },
   "source": [
    "For the training process, i.e. the minimization of the loss function introduced in the PINN recall, TorchPhysics provides the Solver class. It inherits from the pl.LightningModule class and is compatible with the TorchPhysics library. The constructor requires a list of TorchPhysics Conditions, whose parameters should be optimized during the training."
   ]
  },
  {
   "cell_type": "code",
   "execution_count": null,
   "id": "ea27b608-e319-4fac-85c1-5984f2d043c6",
   "metadata": {
    "id": "ea27b608-e319-4fac-85c1-5984f2d043c6"
   },
   "outputs": [],
   "source": [
    "training_conditions = [pde_condition, initial_condition, boundary_condition]"
   ]
  },
  {
   "cell_type": "markdown",
   "id": "e024913e-e10e-4387-b390-165e77c8524b",
   "metadata": {
    "id": "e024913e-e10e-4387-b390-165e77c8524b"
   },
   "source": [
    "By default, the Solver uses the Adam Optimizer from Pytorch with learning rate $lr=0.001$ for optimizing the training_conditions. If a different optimizer or choice of its arguments shall be used, one can collect these information in an object of TorchPhysics' OptimizerSetting class. Here we choose the Adam Optimizer from Pytorch with a learning rate $lr=0.002$."
   ]
  },
  {
   "cell_type": "code",
   "execution_count": null,
   "id": "b1848d26-ea33-400c-84be-2291429e8065",
   "metadata": {
    "id": "b1848d26-ea33-400c-84be-2291429e8065"
   },
   "outputs": [],
   "source": [
    "optim = tp.OptimizerSetting(optimizer_class=torch.optim.Adam, lr=0.0005)"
   ]
  },
  {
   "cell_type": "markdown",
   "id": "efcd0c8c-1ef2-45a0-bf00-de88201f3d03",
   "metadata": {
    "id": "efcd0c8c-1ef2-45a0-bf00-de88201f3d03"
   },
   "source": [
    "Finally, we are able to create the Solver object, a Pytorch Lightning Module."
   ]
  },
  {
   "cell_type": "code",
   "execution_count": null,
   "id": "4ea2cb3f-087c-4e03-aeb0-40318f556062",
   "metadata": {
    "id": "4ea2cb3f-087c-4e03-aeb0-40318f556062"
   },
   "outputs": [],
   "source": [
    "solver = tp.solver.Solver(train_conditions=training_conditions, optimizer_setting=optim)"
   ]
  },
  {
   "cell_type": "markdown",
   "id": "53dec402-5dd2-40f9-a405-5170d0cfcbd7",
   "metadata": {
    "id": "53dec402-5dd2-40f9-a405-5170d0cfcbd7"
   },
   "source": [
    "Now, as usual, the training is done with a Pytorch Lightning Trainer object and its fit() method."
   ]
  },
  {
   "cell_type": "code",
   "execution_count": null,
   "id": "9ea9431a-9ea4-4312-8869-af4c8c4733a4",
   "metadata": {
    "colab": {
     "base_uri": "https://localhost:8080/",
     "height": 327,
     "referenced_widgets": [
      "c0c85ee450fa4382b8ba6d076bbe15ab",
      "b51fd3c0f34740719b885c8931acb307",
      "b0f8c43fb244435fa250e90aa431a910",
      "b78a8f1dc2f34425b15c9f4b785e59c7",
      "c45982b9a83b47779e614305dbbfc2ac",
      "cafdac53e72d48bba71a7c98538c5354",
      "51d400ec3dab4d3db89d4ae1212e0cce",
      "2a351ae394444086b648b09ffa58c06d",
      "f8c630032aea45f6b3f97e838d7b74de",
      "d66ce69c61594d8c972a49763e91d599",
      "acd31f72a0184f859d18ad08567a61aa",
      "8c926f8700a64539818ed8fe7b54bdea",
      "30a318be130447cea4842d46d887360f",
      "367e26e3fcff4add996e6b9c39cce77c",
      "4a071277015d42e2876abd2fcec77f60",
      "d7106f73c09d4ffc94f9146307913a93",
      "436ad1ff35d841408e32383cd6ce6cb7",
      "9e32d83238be4720909a1606779ce4a1",
      "600a325e05fd4ead94806e30de2dfe91",
      "d8765650eeba4c84be216cf3ffd27b0d",
      "b026dd8e870a4557bc5583b5a509f59e",
      "5a685209ec8e4496831015718305bacb"
     ]
    },
    "id": "9ea9431a-9ea4-4312-8869-af4c8c4733a4",
    "outputId": "6e93ce9c-379c-4f4f-b946-16cf8b9652a5"
   },
   "outputs": [],
   "source": [
    "# Start the training\n",
    "accelerator = \"gpu\" if torch.cuda.is_available() else \"cpu\"\n",
    "\n",
    "trainer = pl.Trainer(devices=1, accelerator=accelerator, # what to use to solve problem and how many devices\n",
    "                     num_sanity_val_steps=0,\n",
    "                     benchmark=True,\n",
    "                     max_steps=5000, # number of training steps\n",
    "                     logger=False,\n",
    "                     enable_checkpointing=False)\n",
    "\n",
    "trainer.fit(solver) # start training"
   ]
  },
  {
   "cell_type": "markdown",
   "id": "c2fa291a-73b1-476b-8302-3aa63c34c61a",
   "metadata": {
    "id": "c2fa291a-73b1-476b-8302-3aa63c34c61a"
   },
   "source": [
    "You can also re-run the last three blocks with a smaller learning rate to further decrease the loss.\n",
    "\n",
    "Of course, the state dictionary of the model can be saved in the common way: torch.save(model.state_dict(), 'sd')"
   ]
  },
  {
   "cell_type": "markdown",
   "id": "bac7c186-2be3-4ce0-a252-527ae5083019",
   "metadata": {
    "id": "bac7c186-2be3-4ce0-a252-527ae5083019"
   },
   "source": [
    "## Visualization\n",
    "Torchphysics provides built-in functionalities for visualizing the outcome of the neural network.\n",
    "As a first step, for the 2D heat equation example one might be interested in creating a contour plot for the heat distribution inside of the room at some fixed time.\n",
    "\n",
    "For this purpose, we use the plot() function from \"tp.utils\", which is built on the Matplotlib library. The most important inputs are:\n",
    "1) model: The neural network whose output shall be visualized.\n",
    "2) plot_function: Will be applied to the model's output before visualization. E.g. if the output was two-dimensional, the plot_function $u\\mapsto u[:, 0]$ could be used for showing only its first coordinate.\n",
    "3) point_sampler: A sampler creating points the neural network will be evaluated at for creating the plot. More information is provided in the the in-depth [plot-tutorial](https://boschresearch.github.io/torchphysics/tutorial/plotting.html).\n",
    "4) plot_type: Specify what kind of plot should be created.\n",
    "\n",
    "Let us start with the sampler. The samplers we have seen so far (RandomUniformSampler, GridSampler) plot either on the interior or the boundary of their domain.\n",
    "However, it is desirable to consider both the interior and the boundary points in the visualization. For this, one can use a PlotSampler, which is desined for harmonizing with plotting duties.\n",
    "\n",
    "We wish to visualize the heat distribution in $\\overline{\\Omega}$ at some fixed time $t'=0$. The latter can be added to the attribute \"data_for_other_variables\" of the PlotSampler."
   ]
  },
  {
   "cell_type": "code",
   "execution_count": null,
   "id": "00c3d1e0-aeda-4e15-9ca5-67bbb953bd73",
   "metadata": {
    "id": "00c3d1e0-aeda-4e15-9ca5-67bbb953bd73"
   },
   "outputs": [],
   "source": [
    "plot_sampler = tp.samplers.PlotSampler(plot_domain=Omega, n_points=600, data_for_other_variables={'t':0.})"
   ]
  },
  {
   "cell_type": "markdown",
   "id": "5f9efe1d-cf26-4274-9ac0-1bba28e04827",
   "metadata": {
    "id": "5f9efe1d-cf26-4274-9ac0-1bba28e04827"
   },
   "source": [
    "In our case, the model's output is a scalar and we do not want to modify it before plotting. Hence, plot_function should be the identity mapping. As we wish to use a colormap/contour plot to visualize the heat in $\\Omega$, we specify the plot_type as 'contour_surface'.\n",
    "\n",
    "Finally, we obtain the desired plot at time $t'=0$ by"
   ]
  },
  {
   "cell_type": "code",
   "execution_count": null,
   "id": "3b514990-7c54-4896-b391-9275011df402",
   "metadata": {
    "colab": {
     "base_uri": "https://localhost:8080/",
     "height": 504
    },
    "id": "3b514990-7c54-4896-b391-9275011df402",
    "outputId": "01713671-0d2c-4230-83c6-e78647e29dd8"
   },
   "outputs": [],
   "source": [
    "vmin = 15 # limits for the axes\n",
    "vmax = 42\n",
    "fig = tp.utils.plot(model        =model,        plot_function=lambda u : u,\n",
    "                    point_sampler=plot_sampler, plot_type    ='contour_surface',\n",
    "                    vmin=vmin, vmax=vmin)"
   ]
  },
  {
   "cell_type": "markdown",
   "id": "54c7788a-d7a0-438c-821e-bef10f3f780f",
   "metadata": {
    "id": "54c7788a-d7a0-438c-821e-bef10f3f780f"
   },
   "source": [
    "Let us visualize the solution of the PDE at further time points."
   ]
  },
  {
   "cell_type": "code",
   "execution_count": null,
   "id": "e9e54d6e-f7a2-4746-a05e-681e3dbee8b7",
   "metadata": {
    "colab": {
     "base_uri": "https://localhost:8080/",
     "height": 449
    },
    "id": "e9e54d6e-f7a2-4746-a05e-681e3dbee8b7",
    "outputId": "bc9feda3-d8bc-4e0a-8e50-7be9a6d8487d"
   },
   "outputs": [],
   "source": [
    "plot_sampler = tp.samplers.PlotSampler(plot_domain=Omega, n_points=600, data_for_other_variables={'t':4.})\n",
    "fig          = tp.utils.plot(model, lambda u : u,\n",
    "                             plot_sampler, plot_type='contour_surface',\n",
    "                             vmin=vmin, vmax=vmax)"
   ]
  },
  {
   "cell_type": "code",
   "execution_count": null,
   "id": "10a7c785-90da-4b62-964f-af7d816ed1bd",
   "metadata": {
    "colab": {
     "base_uri": "https://localhost:8080/",
     "height": 449
    },
    "id": "10a7c785-90da-4b62-964f-af7d816ed1bd",
    "outputId": "249db53f-3a95-4bca-aeff-019f9a9d4dce"
   },
   "outputs": [],
   "source": [
    "plot_sampler = tp.samplers.PlotSampler(plot_domain=Omega, n_points=600, data_for_other_variables={'t':8.})\n",
    "fig          = tp.utils.plot(model, lambda u : u,\n",
    "                             plot_sampler, plot_type='contour_surface',\n",
    "                            vmin=vmin, vmax=vmax)"
   ]
  },
  {
   "cell_type": "code",
   "execution_count": null,
   "id": "c3e6a8cf-6bd5-42d6-a3ac-16c4a64eb22b",
   "metadata": {
    "colab": {
     "base_uri": "https://localhost:8080/",
     "height": 449
    },
    "id": "c3e6a8cf-6bd5-42d6-a3ac-16c4a64eb22b",
    "outputId": "ca72f816-5fba-4edb-8f3c-62a8b624cae6"
   },
   "outputs": [],
   "source": [
    "plot_sampler = tp.samplers.PlotSampler(plot_domain=Omega, n_points=600, data_for_other_variables={'t':12.})\n",
    "fig          = tp.utils.plot(model, lambda u : u, plot_sampler, plot_type='contour_surface',\n",
    "                             vmin=vmin, vmax=vmax)"
   ]
  },
  {
   "cell_type": "markdown",
   "id": "c0cbc22a",
   "metadata": {
    "id": "c0cbc22a"
   },
   "source": [
    "## Manual Visualization"
   ]
  },
  {
   "cell_type": "markdown",
   "id": "9d58e206-c27f-4ee6-8f4d-ddb1415c7221",
   "metadata": {
    "id": "9d58e206-c27f-4ee6-8f4d-ddb1415c7221"
   },
   "source": [
    "It is also possible to evaluate the model manually at torch Tensors. Say, we want to evaluate it on a spatial grid at some fixed time $t'= 6$."
   ]
  },
  {
   "cell_type": "code",
   "execution_count": null,
   "id": "9ccbb9b3-6f6a-4a29-8dc7-c2360b2df7c9",
   "metadata": {
    "id": "9ccbb9b3-6f6a-4a29-8dc7-c2360b2df7c9"
   },
   "outputs": [],
   "source": [
    "x_coords = torch.linspace(0, 5, 100)\n",
    "y_coords = torch.linspace(0, 4, 80)\n",
    "t_coords = torch.linspace(6, 6 , 1)\n",
    "\n",
    "xs, ys, ts = torch.meshgrid([x_coords, y_coords, t_coords])\n",
    "tensors = torch.stack([xs.flatten(), ys.flatten(), ts.flatten()], dim=1)"
   ]
  },
  {
   "cell_type": "markdown",
   "id": "26d9c9ba-77fe-4c21-af35-12e1376b113e",
   "metadata": {
    "id": "26d9c9ba-77fe-4c21-af35-12e1376b113e"
   },
   "source": [
    "The TorchPhysics model cannot be directly evaluated at Pytorch Tensors. Tensors must first be transformed into TorchPhysics Points, which is easy to achieve. We only need to which space the \"tensors\" above belong to. In our case, it belongs to the space $X*T$. ATTENTION: Since the spatial coordinates have been fed into \"tensors\" first, it is important to define the space as $X*T$ and NOT $T*X$!\n",
    "For more information on the Point class please have a look at the [space- and point-tutorial](https://boschresearch.github.io/torchphysics/tutorial/tutorial_spaces_and_points.html)."
   ]
  },
  {
   "cell_type": "code",
   "execution_count": null,
   "id": "67c99cdd-70db-4465-9ec0-8278b7381fa6",
   "metadata": {
    "id": "67c99cdd-70db-4465-9ec0-8278b7381fa6"
   },
   "outputs": [],
   "source": [
    "points = tp.spaces.Points(tensors, space=X*T)"
   ]
  },
  {
   "cell_type": "markdown",
   "id": "ce94a359-75dd-41e7-85b3-2000b2065054",
   "metadata": {
    "id": "ce94a359-75dd-41e7-85b3-2000b2065054"
   },
   "source": [
    "Now the model can be evaluated at those points by its forward() method. In order to use e.g. \"plt.imshow()\", we need to transform the output into a numpy array."
   ]
  },
  {
   "cell_type": "code",
   "execution_count": null,
   "id": "854b969a-96f2-4088-b045-d1ca5cf0db64",
   "metadata": {
    "id": "854b969a-96f2-4088-b045-d1ca5cf0db64"
   },
   "outputs": [],
   "source": [
    "output = model.forward(tp.spaces.Points(tensors, space=X*T))\n",
    "output = output.as_tensor.reshape(100, 80, 1).detach().numpy()"
   ]
  },
  {
   "cell_type": "code",
   "execution_count": null,
   "id": "70d30023-ca42-460a-9906-2bcc736016ce",
   "metadata": {
    "colab": {
     "base_uri": "https://localhost:8080/",
     "height": 433
    },
    "id": "70d30023-ca42-460a-9906-2bcc736016ce",
    "outputId": "a7a3ce2b-18e1-4fce-e1c5-e370e258cc85"
   },
   "outputs": [],
   "source": [
    "plt.imshow(np.rot90(output[:, :]), 'gray', vmin=vmin, vmax=vmax)\n",
    "plt.show()"
   ]
  },
  {
   "cell_type": "code",
   "execution_count": null,
   "id": "9840aad9",
   "metadata": {
    "id": "9840aad9"
   },
   "outputs": [],
   "source": []
  }
 ],
 "metadata": {
  "colab": {
   "provenance": []
  },
  "kernelspec": {
   "display_name": ".venv",
   "language": "python",
   "name": "python3"
  },
  "language_info": {
   "codemirror_mode": {
    "name": "ipython",
    "version": 3
   },
   "file_extension": ".py",
   "mimetype": "text/x-python",
   "name": "python",
   "nbconvert_exporter": "python",
   "pygments_lexer": "ipython3",
   "version": "3.13.3"
  }
 },
 "nbformat": 4,
 "nbformat_minor": 5
}
