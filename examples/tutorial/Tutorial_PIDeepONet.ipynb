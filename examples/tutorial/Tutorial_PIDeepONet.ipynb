{
  "cells": [
    {
      "cell_type": "markdown",
      "metadata": {
        "id": "CzanhsB3YLBe"
      },
      "source": [
        "# Physics-informed DeepONet: Solving a ODE for different right hand sides\n",
        "In this notebook, we present an introduction to the physics-informed DeepONet [(paper)](https://arxiv.org/abs/2103.10974) utilities of TorchPhysics.\n",
        "As an example, we try to learn the integral operator of the ODE:\n",
        "\\begin{align*}\n",
        "    \\partial_t u(t) &= f(t), \\text{ in } [0, 1] \\\\\n",
        "    u(0) &= 0\n",
        "\\end{align*}\n",
        "for different functions $f$. Before describing the implementation in TorchPhysics we give a short recall of DeepONets.\n"
      ]
    },
    {
      "cell_type": "markdown",
      "metadata": {
        "id": "bKeJnQz4Yftw"
      },
      "source": [
        "# Recall of Deep Operator Networks (DeepONets)\n",
        "\n",
        "We wish to learn the solution $u_f:[0,1]\\to \\mathbb{R}$ for many different choices of functions $f:[0,1]\\to \\mathbb{R}$ by a DeepONet $\\varphi_{\\theta}.$\n",
        "The construction of DeepOnets is described in what follows:\n",
        "\n",
        "1) The basic idea is to represent $u_f$ as a linear combination of neural networks $\\varphi_i:[0,1]\\to \\mathbb{R}$\n",
        "$$\n",
        "u_f(t) \\approx \\sum_{i=1}^n c_i(f) \\varphi_i(t),\n",
        "$$\n",
        "where the coefficients $c_i(f)$ depend on the parameter function $f$ that leads to the solution $u_f$ of the ODE above.\n",
        "\n",
        "2) We would wish to replace $c_i(f)$ by a neural network, too. However, we cannot use a function $f$ as an input of a neural network. Instead, we collect finitely many information about $f$ by sampling $f$ at sampling points $t_1, ..., t_k$. These serve as inputs of neural networks $\\psi_i$ for approximating the coefficients\n",
        "$$\n",
        "c_i(f) \\approx \\psi_i( f(t_1), ..., f(t_k) ).\n",
        "$$\n",
        "\n",
        "3) A DeepONet $\\varphi_\\theta$ is hence defined as\n",
        "$$\n",
        "\\varphi_\\theta(f,t) := \\sum_{i=1}^n \\psi_i( f(t_1),...,f(t_k) ) \\varphi_i(t) ≈u_f(t).\n",
        "$$\n",
        "Typically, all $\\psi_i$ are collected within a single neural network, the so-called branch net $\\varphi_{branch}:[0,1] \\to \\mathbb{R}^n$, whose output coordinates just represent the $\\psi_i$. Similarly, the $\\varphi_i$ are represented by a so-called trunk net $\\varphi_{trunk}:[0,1] \\to \\mathbb{R}^n$.\n",
        "So the branch net receives only information about the parameter function $f$, whereas the input of the trunk net is the coordinate $t$ at which the solution $u_f$ is to be approximated.\n",
        "Note that the sampling points $t_1, ..., t_k$ needs to be fixed beforehang and should not be changed for different $f$, simply to not confuse the branch net $\\varphi_{branch}$."
      ]
    },
    {
      "cell_type": "markdown",
      "metadata": {
        "id": "mdaVk2063YCG"
      },
      "source": []
    },
    {
      "cell_type": "markdown",
      "metadata": {
        "id": "ulenDc9tYfv2"
      },
      "source": [
        "# Physics-informed DeepONets in TorchPhysics\n",
        "\n",
        "The general structure of TorchPhysics still holds for DeepONet problems, so we can follow the same step-by-step recipe as in the [PINN-tutorials](https://torchphysics.de/tutorial).\n",
        "However, we need some new concepts to define training functions of $f$. Here we show, how to:\n",
        "\n",
        "- create a function space for different training functions\n",
        "- define a DeepONet-neural-network consisting of trunk and branch net\n",
        "\n",
        "and some additional details one has to consider."
      ]
    },
    {
      "cell_type": "code",
      "execution_count": 2,
      "metadata": {
        "id": "ge4lD3QIYLBf"
      },
      "outputs": [],
      "source": [
        "import os\n",
        "import torch\n",
        "import torchphysics as tp\n",
        "import pytorch_lightning as pl"
      ]
    },
    {
      "cell_type": "markdown",
      "metadata": {
        "id": "-TnwJNYRs0nA"
      },
      "source": [
        "## Step 1: Specify spaces and domains\n",
        "As in the PINN tutorials we need to specify the input and output spaces of the solution functions $u_f:[0,1]\\to \\mathbb{R}$."
      ]
    },
    {
      "cell_type": "code",
      "execution_count": 3,
      "metadata": {
        "id": "0ewY_QuetJmo"
      },
      "outputs": [],
      "source": [
        "# Input and output spaces\n",
        "T = tp.spaces.R1('t') # input variable\n",
        "U = tp.spaces.R1('u') # output variable\n",
        "\n",
        "# Domain of u_f\n",
        "T_int = tp.domains.Interval(T, 0, 1)"
      ]
    },
    {
      "cell_type": "markdown",
      "metadata": {
        "id": "8zhCYNVZtg-5"
      },
      "source": [
        "The DeepONet tries to learn many different $u_f$ for parameter functions $f$. Therefore, we need to define a set of functions $f$ that will be used for training the DeepONet.\n",
        "We consider the function set that consist of the following parameterized functions for $k\\in [0,6]$\n",
        "$$\n",
        "f_1(t, k) = kt,\\\\\n",
        "f_2(t, k) = kt^2,\\\\\n",
        "f_3(t, k) = k\\cos(kt).\n",
        "$$"
      ]
    },
    {
      "cell_type": "code",
      "execution_count": 4,
      "metadata": {
        "id": "LoCmJVNd9vvc"
      },
      "outputs": [],
      "source": [
        "def f1(k, t):\n",
        "    return k*t\n",
        "def f2(k, t):\n",
        "    return k*t**2\n",
        "def f3(k, t):\n",
        "    return k*torch.cos(k*t)"
      ]
    },
    {
      "cell_type": "markdown",
      "metadata": {
        "id": "PzMYI0iX9sXr"
      },
      "source": [
        "In order to construct this function set in TorchPhysics, we need to create input and output spaces for these functions $f_i$, similar to what we did with $u_f$. Here, also the parameter $k$ is treated as an input. Note that for the input variable $t$ we do not specify a space and domain again, as we already did that above."
      ]
    },
    {
      "cell_type": "code",
      "execution_count": 5,
      "metadata": {
        "id": "UzKytihtYLBg"
      },
      "outputs": [],
      "source": [
        "# Input and output spaces for the parameterized functions f_1, f_2, f_3\n",
        "K = tp.spaces.R1('k') # Parameter\n",
        "F = tp.spaces.R1('f') # Function output space name\n",
        "# Domains\n",
        "K_int = tp.domains.Interval(K, 0, 6) # Parameters will be scalar values"
      ]
    },
    {
      "cell_type": "markdown",
      "metadata": {
        "id": "lF6ufyUE8B4M"
      },
      "source": [
        "If different ranges for $k$ were to be used for different $f_i$, one would have needed to create multiple parameter spaces and domains.\n",
        "\n",
        "The function set of all $f_i$ for all $k\\in [0,6]$ is considered as a domain object in TorchPhysics, simply because this set serves as the input for the branch net of the DeepONet. The constructor of CustomFunctionSet(...) receives three inputs:\n",
        "- A function space that specifies the domain and output space of the functions $f_i:[0,1] \\to \\mathbb{R}$;\n",
        "- A sampler for providing different parameters $k$;\n",
        "- The parameterized function $f_i$ that represents the function set.\n",
        "\n",
        "We first create function sets for all $f_i$ individually and afterwards obtain the union by the \"+\" operator."
      ]
    },
    {
      "cell_type": "code",
      "execution_count": 6,
      "metadata": {
        "id": "kNyDfWJ3YLBh"
      },
      "outputs": [],
      "source": [
        "# Defining function set\n",
        "Fn_space = tp.spaces.FunctionSpace(T_int, F)\n",
        "\n",
        "param_sampler = tp.samplers.RandomUniformSampler(K_int, n_points=40)\n",
        "\n",
        "Fn_set_1 = tp.domains.CustomFunctionSet(Fn_space, param_sampler, f1)\n",
        "Fn_set_2 = tp.domains.CustomFunctionSet(Fn_space, param_sampler, f2)\n",
        "Fn_set_3 = tp.domains.CustomFunctionSet(Fn_space, param_sampler, f3)\n",
        "\n",
        "Fn_set = Fn_set_1 + Fn_set_2 + Fn_set_3 # \"+\" computes the union of function sets"
      ]
    },
    {
      "cell_type": "markdown",
      "metadata": {
        "id": "n4e7zKDW-5dz"
      },
      "source": [
        "Mathematically, Fn_set represents the function set\n",
        "$$\n",
        "\\{ f_i(\\cdot , k): \\text{for } i=1,2,3 \\text{ and } k\\in [0,6] \\}.\n",
        "$$"
      ]
    },
    {
      "cell_type": "markdown",
      "metadata": {
        "id": "fM4ALPl13dQW"
      },
      "source": [
        "## Step 2: Define point samplers\n",
        "As in the PINN tutorials we need to define samplers for the ODE condtion and the initial condition."
      ]
    },
    {
      "cell_type": "code",
      "execution_count": 7,
      "metadata": {
        "id": "QVYBUZM0AEjL"
      },
      "outputs": [],
      "source": [
        "sampler_ode_condition = tp.samplers.RandomUniformSampler(T_int, 1000)\n",
        "\n",
        "sampler_initial_condition = tp.samplers.RandomUniformSampler(T_int.boundary_left, 500)"
      ]
    },
    {
      "cell_type": "markdown",
      "metadata": {
        "id": "HOJ31RPpAYd7"
      },
      "source": [
        "## Step 3: Define residual functions\n",
        "Similar to $u$, the parameter function $f$ occuring in the ODE condition will already have been sampled when the residual functions are called. Therefore, we define the residual functions as:"
      ]
    },
    {
      "cell_type": "code",
      "execution_count": 8,
      "metadata": {
        "id": "qhtoY7msAffq"
      },
      "outputs": [],
      "source": [
        "def residual_ode_condition(u, t, f):\n",
        "    return tp.utils.grad(u, t) - f\n",
        "\n",
        "def residual_initial_condition(u):\n",
        "    return u"
      ]
    },
    {
      "cell_type": "markdown",
      "metadata": {
        "id": "PWt7y2vLA2wK"
      },
      "source": [
        "\n",
        "## Step 4: Define DeepONet\n",
        "\n",
        "The branch net in TorchPhysics needs to know the function space the parameter functions $f$ belong to. Further, it needs to know the points $t_1,.,,,t_k$ at which these $f$ are to be sampled. These sampling points can just be obtained by for example a GridSampler. As mentioned in the recall, these sampling points should be fixed and never changed. Therefore, we need to make this sampler static."
      ]
    },
    {
      "cell_type": "code",
      "execution_count": 9,
      "metadata": {
        "id": "hTW3VG7iYLBh"
      },
      "outputs": [],
      "source": [
        "# Branch net\n",
        "branch_input_sampler = tp.samplers.GridSampler(T_int, 50).make_static() # hence, there will be 50 sampling points $t_j$\n",
        "# We choose a fully connected network for the branch net, in TorchPhysics: FCBranchNet(...)\n",
        "branch_net = tp.models.FCBranchNet(Fn_space, hidden=(50, 50), discretization_sampler=branch_input_sampler)"
      ]
    },
    {
      "cell_type": "markdown",
      "metadata": {
        "id": "F_nMeGdYD1rd"
      },
      "source": [
        "Also for the trunk net we choose a fully connected network."
      ]
    },
    {
      "cell_type": "code",
      "execution_count": 10,
      "metadata": {
        "id": "d1PDR5qIDdmr"
      },
      "outputs": [],
      "source": [
        "trunk_net = tp.models.FCTrunkNet(T, hidden=(30, 30))"
      ]
    },
    {
      "cell_type": "markdown",
      "metadata": {
        "id": "_RFcpvASD-qy"
      },
      "source": [
        "The constructor of the DeepONet receives just the trunk net, the branch net, the output space of the solution functions $u_f$, as well as the output dimension $n$ of the branch and trunk nets. We set the output dimension to $50$. Having a look at the DeepONet recall again, this means that the DeepONet can represent a function vector space of dimension $\\leq 50$."
      ]
    },
    {
      "cell_type": "code",
      "execution_count": 11,
      "metadata": {
        "id": "HgFlwDuBD9aT"
      },
      "outputs": [],
      "source": [
        "model = tp.models.DeepONet(trunk_net, branch_net, U, output_neurons=50)"
      ]
    },
    {
      "cell_type": "markdown",
      "metadata": {
        "id": "yCeOL7jFA9sr"
      },
      "source": [
        "## Step 5: Create TorchPhysics Conditions\n",
        "Almost done: We only need to define the TorchPhysics conditions for the ODE and initial condition. Since the DeepONet is to be trained physics-informed, we need to define PIDeepONetConditions."
      ]
    },
    {
      "cell_type": "code",
      "execution_count": 12,
      "metadata": {
        "id": "jOUqZr8vYLBi"
      },
      "outputs": [],
      "source": [
        "# Conditions for the ODE problem\n",
        "ode_condition = tp.conditions.PIDeepONetCondition(deeponet_model=model,\n",
        "                                                  function_set=Fn_set,\n",
        "                                                  input_sampler=sampler_ode_condition,\n",
        "                                                  residual_fn=residual_ode_condition)\n",
        "# Note: If logging via Tensorboard is desired, just add name='ode_condition' as an input of the PIDeepONetCondition. Works also for all other conditions, such as PINNCondition. \n",
        "\n",
        "initial_condition = tp.conditions.PIDeepONetCondition(deeponet_model=model,\n",
        "                                                      function_set=Fn_set,\n",
        "                                                      input_sampler=sampler_initial_condition,\n",
        "                                                      residual_fn=residual_initial_condition)"
      ]
    },
    {
      "cell_type": "markdown",
      "metadata": {
        "id": "7ImcV0W8BZxj"
      },
      "source": [
        "# Training"
      ]
    },
    {
      "cell_type": "code",
      "execution_count": 13,
      "metadata": {
        "colab": {
          "base_uri": "https://localhost:8080/",
          "height": 344,
          "referenced_widgets": [
            "eab3e0cf876e42a9bd7118bbf01417b3",
            "1fbef4dff38943dd9334bcf8f98b9025",
            "96df4b367e0147b4b0873178c2c6ddee",
            "febbf813f7344eea93d68337a3fb3ce4",
            "accbf70574ba461ea61bb62e4e649841",
            "bf5c85326d0746f1a75f5ba124b04b2b",
            "42e76e3b8ed3484f92869e7253b6f65b",
            "035d64de4ffe4480a693d787e4cf3372",
            "b63aa5f44deb4e35bcc74e26f581bb08",
            "bea3f5a98c8d4a3a97b8b946e0cd4d57",
            "d12decf7d62840b79bc0dd22184d2260",
            "cd63d468874441ada619c005aea50780",
            "c18d459cfb3e4e158e7f2944b667144e",
            "40845e140d324680a70af6ff099c5fd0",
            "539d5cad38824eaca6c808263ff39248",
            "2bb0e93f1fcc4557a9e28acbfb1ca5ff",
            "0b5a790579e3404680f9e0eee3a8cff2",
            "cd11a8ea139a42249b0907737559a3ad",
            "0d2180d103794cc8a90a46884fc402cc",
            "e72a8bd17e234b979a6423515ec8676d",
            "392f12bd38d54b40a0a06309f3ddd7fd",
            "e91087442a97426892598e42e19a0368"
          ]
        },
        "id": "CmoY6mXyYLBj",
        "outputId": "e309c69b-b892-4a69-9f5c-f2bae80bfbf2",
        "tags": [
          "outputPrepend"
        ]
      },
      "outputs": [
        {
          "name": "stderr",
          "output_type": "stream",
          "text": [
            "INFO:pytorch_lightning.utilities.rank_zero:GPU available: True (cuda), used: True\n",
            "INFO:pytorch_lightning.utilities.rank_zero:TPU available: False, using: 0 TPU cores\n",
            "INFO:pytorch_lightning.utilities.rank_zero:HPU available: False, using: 0 HPUs\n",
            "INFO:pytorch_lightning.accelerators.cuda:LOCAL_RANK: 0 - CUDA_VISIBLE_DEVICES: [0]\n",
            "INFO:pytorch_lightning.callbacks.model_summary:\n",
            "  | Name             | Type       | Params | Mode \n",
            "--------------------------------------------------------\n",
            "0 | train_conditions | ModuleList | 10.2 K | train\n",
            "1 | val_conditions   | ModuleList | 0      | train\n",
            "--------------------------------------------------------\n",
            "10.2 K    Trainable params\n",
            "0         Non-trainable params\n",
            "10.2 K    Total params\n",
            "0.041     Total estimated model params size (MB)\n",
            "19        Modules in train mode\n",
            "0         Modules in eval mode\n"
          ]
        },
        {
          "data": {
            "application/vnd.jupyter.widget-view+json": {
              "model_id": "eab3e0cf876e42a9bd7118bbf01417b3",
              "version_major": 2,
              "version_minor": 0
            },
            "text/plain": [
              "Training: |          | 0/? [00:00<?, ?it/s]"
            ]
          },
          "metadata": {},
          "output_type": "display_data"
        },
        {
          "data": {
            "application/vnd.jupyter.widget-view+json": {
              "model_id": "cd63d468874441ada619c005aea50780",
              "version_major": 2,
              "version_minor": 0
            },
            "text/plain": [
              "Validation: |          | 0/? [00:00<?, ?it/s]"
            ]
          },
          "metadata": {},
          "output_type": "display_data"
        },
        {
          "name": "stderr",
          "output_type": "stream",
          "text": [
            "INFO:pytorch_lightning.utilities.rank_zero:`Trainer.fit` stopped: `max_steps=3000` reached.\n"
          ]
        }
      ],
      "source": [
        "optim = tp.OptimizerSetting(optimizer_class=torch.optim.Adam, lr=0.0005)\n",
        "\n",
        "solver = tp.solver.Solver([ode_condition, initial_condition], optimizer_setting=optim)\n",
        "\n",
        "trainer = pl.Trainer(devices=1, accelerator=\"gpu\",\n",
        "                     num_sanity_val_steps=0,\n",
        "                     benchmark=True,\n",
        "                     max_steps=3000,\n",
        "                     logger=False,\n",
        "                     enable_checkpointing=False)\n",
        "\n",
        "trainer.fit(solver)"
      ]
    },
    {
      "cell_type": "markdown",
      "metadata": {
        "id": "jQU4_L3mBf5c"
      },
      "source": [
        "If training should be fine-tuned, switch to the LBFGS optimizer."
      ]
    },
    {
      "cell_type": "code",
      "execution_count": 14,
      "metadata": {
        "colab": {
          "base_uri": "https://localhost:8080/",
          "height": 344,
          "referenced_widgets": [
            "78db7ec96e2f499ab2cfc4b64eb9cc10",
            "55eb40429c8d42679f56acda13dbfd66",
            "6711697a1654483d890f42156b351fad",
            "6ab2a2dcd4854df3b2dfa4d63ebe966c",
            "8d95454822ce431f900fe4a9abe1e888",
            "32eb8b6c120549069bdc2a2ab5570f0c",
            "aa7c70173ccd4ec988d6469cbee6fd12",
            "068b4483fbb54147bb9753ffdd51c1c1",
            "2a9cce56300a4a3eb8ddc041286ab630",
            "e39eddbafb9e4fafbfa570935d22a069",
            "fd85806fa29d482398fac840754b79b1",
            "6919e8904d0a4574b49e08468e95a4b6",
            "63ec80f6968844948e2a580fe6c7085c",
            "b0a3ba48d59b42b49310e4f5aeaf1c82",
            "f2db35b38aec40768d37881d8c929a91",
            "661570365b4c4ec99f4272987d1beb8c",
            "cdf450aa05064cf3bcd184e70c67b83c",
            "13e8e28e8b9d4cab9fe843a12e596b57",
            "3179d2e823eb46b9ae9cb5b5b6de0172",
            "06660a07aca242108507da32e1d49d1f",
            "ca253e0ded924533a3adbcec0093ca32",
            "52174dc0567f4d4ea3465918b86d211e"
          ]
        },
        "collapsed": true,
        "id": "GXnQtmjfYLBk",
        "outputId": "a5516f10-a707-4150-a583-986d20c61636"
      },
      "outputs": [
        {
          "name": "stderr",
          "output_type": "stream",
          "text": [
            "INFO:pytorch_lightning.utilities.rank_zero:GPU available: True (cuda), used: True\n",
            "INFO:pytorch_lightning.utilities.rank_zero:TPU available: False, using: 0 TPU cores\n",
            "INFO:pytorch_lightning.utilities.rank_zero:HPU available: False, using: 0 HPUs\n",
            "INFO:pytorch_lightning.accelerators.cuda:LOCAL_RANK: 0 - CUDA_VISIBLE_DEVICES: [0]\n",
            "INFO:pytorch_lightning.callbacks.model_summary:\n",
            "  | Name             | Type       | Params | Mode \n",
            "--------------------------------------------------------\n",
            "0 | train_conditions | ModuleList | 10.2 K | train\n",
            "1 | val_conditions   | ModuleList | 0      | train\n",
            "--------------------------------------------------------\n",
            "10.2 K    Trainable params\n",
            "0         Non-trainable params\n",
            "10.2 K    Total params\n",
            "0.041     Total estimated model params size (MB)\n",
            "19        Modules in train mode\n",
            "0         Modules in eval mode\n"
          ]
        },
        {
          "data": {
            "application/vnd.jupyter.widget-view+json": {
              "model_id": "78db7ec96e2f499ab2cfc4b64eb9cc10",
              "version_major": 2,
              "version_minor": 0
            },
            "text/plain": [
              "Training: |          | 0/? [00:00<?, ?it/s]"
            ]
          },
          "metadata": {},
          "output_type": "display_data"
        },
        {
          "data": {
            "application/vnd.jupyter.widget-view+json": {
              "model_id": "6919e8904d0a4574b49e08468e95a4b6",
              "version_major": 2,
              "version_minor": 0
            },
            "text/plain": [
              "Validation: |          | 0/? [00:00<?, ?it/s]"
            ]
          },
          "metadata": {},
          "output_type": "display_data"
        },
        {
          "name": "stderr",
          "output_type": "stream",
          "text": [
            "INFO:pytorch_lightning.utilities.rank_zero:`Trainer.fit` stopped: `max_steps=2000` reached.\n"
          ]
        }
      ],
      "source": [
        "optim = tp.OptimizerSetting(optimizer_class=torch.optim.LBFGS, lr=0.4,\n",
        "                            optimizer_args={'max_iter':2, 'history_size': 100})\n",
        "\n",
        "# here now use grid points for reducing computation time:\n",
        "ode_condition.input_sampler = tp.samplers.GridSampler(T_int, n_points=4000).make_static()\n",
        "initial_condition.input_sampler = initial_condition.input_sampler.make_static()\n",
        "# also fix parameters for input functions:\n",
        "Fn_set_1.parameter_sampler = Fn_set_1.parameter_sampler.make_static()\n",
        "Fn_set_2.parameter_sampler = Fn_set_2.parameter_sampler.make_static()\n",
        "Fn_set_3.parameter_sampler = Fn_set_3.parameter_sampler.make_static()\n",
        "\n",
        "\n",
        "solver = tp.solver.Solver(train_conditions=[ode_condition, initial_condition], optimizer_setting=optim)\n",
        "\n",
        "trainer = pl.Trainer(devices=1, accelerator=\"gpu\",\n",
        "                     num_sanity_val_steps=0,\n",
        "                     benchmark=True,\n",
        "                     max_steps=2000,\n",
        "                     logger=False,\n",
        "                     enable_checkpointing=False)\n",
        "\n",
        "trainer.fit(solver)"
      ]
    },
    {
      "cell_type": "markdown",
      "metadata": {
        "id": "y_5EIjw5F7tU"
      },
      "source": [
        "# Comparison with ground truth"
      ]
    },
    {
      "cell_type": "code",
      "execution_count": 15,
      "metadata": {
        "colab": {
          "base_uri": "https://localhost:8080/",
          "height": 470
        },
        "id": "ce9-QZcAYLBl",
        "outputId": "6e2106e9-b43b-4264-d253-bbd345499537"
      },
      "outputs": [
        {
          "data": {
            "text/plain": [
              "<matplotlib.legend.Legend at 0x7fa00410a7d0>"
            ]
          },
          "execution_count": 15,
          "metadata": {},
          "output_type": "execute_result"
        },
        {
          "data": {
            "image/png": "[encoded data removed]",
            "text/plain": [
              "<Figure size 640x480 with 1 Axes>"
            ]
          },
          "metadata": {},
          "output_type": "display_data"
        }
      ],
      "source": [
        "import matplotlib.pyplot as plt\n",
        "\n",
        "k0 = 1.16\n",
        "def f(t):\n",
        "    return k0 * t**2\n",
        "\n",
        "def F(t): # ground truth solution u_f\n",
        "    return k0/3.0 * t**3\n",
        "\n",
        "model.fix_branch_input(f)\n",
        "grid_sampler = tp.samplers.GridSampler(T_int, 500)\n",
        "grid_points = grid_sampler.sample_points().as_tensor\n",
        "out = model(tp.spaces.Points(grid_points, T)).as_tensor.detach()[0]\n",
        "\n",
        "grid_p = grid_points\n",
        "plt.plot(grid_p, out)\n",
        "plt.plot(grid_p, F(grid_p))\n",
        "plt.grid()\n",
        "plt.legend(['Network output', 'Analytical solution'])"
      ]
    },
    {
      "cell_type": "code",
      "execution_count": 16,
      "metadata": {
        "colab": {
          "base_uri": "https://localhost:8080/",
          "height": 447
        },
        "id": "5lqtQM9WYLBl",
        "outputId": "24c26ba5-8390-48ef-b2e4-27f6f5b84aca"
      },
      "outputs": [
        {
          "data": {
            "text/plain": [
              "<matplotlib.legend.Legend at 0x7f9ffed89ff0>"
            ]
          },
          "execution_count": 16,
          "metadata": {},
          "output_type": "execute_result"
        },
        {
          "data": {
            "image/png": "[encoded data removed]",
            "text/plain": [
              "<Figure size 640x480 with 1 Axes>"
            ]
          },
          "metadata": {},
          "output_type": "display_data"
        }
      ],
      "source": [
        "k0 = 2.14\n",
        "def f(t):\n",
        "    return k0 * torch.cos(k0*t)\n",
        "\n",
        "def F(t): # ground truth solution u_f\n",
        "    return torch.sin(k0*t)\n",
        "\n",
        "model.fix_branch_input(f)\n",
        "grid_sampler = tp.samplers.GridSampler(T_int, 500)\n",
        "grid_points = grid_sampler.sample_points().as_tensor\n",
        "out = model(tp.spaces.Points(grid_points, T)).as_tensor.detach()[0]\n",
        "\n",
        "grid_p = grid_points\n",
        "plt.plot(grid_p, out)\n",
        "plt.plot(grid_p, F(grid_p))\n",
        "plt.grid()\n",
        "plt.legend(['Network output', 'Analytical solution'])"
      ]
    }
  ],
  "metadata": {
    "accelerator": "GPU",
    "colab": {
      "gpuType": "T4",
      "provenance": []
    },
    "interpreter": {
      "hash": "fb770cb910411e790a99fd848f827dc995ac53be5098d939fbaa56bcec3c9277"
    },
    "kernelspec": {
      "display_name": "Python 3",
      "name": "python3"
    },
    "language_info": {
      "codemirror_mode": {
        "name": "ipython",
        "version": 3
      },
      "file_extension": ".py",
      "mimetype": "text/x-python",
      "name": "python",
      "nbconvert_exporter": "python",
      "pygments_lexer": "ipython3",
      "version": "3.9.15"
    },
    "orig_nbformat": 4,
    "widgets": {
      "application/vnd.jupyter.widget-state+json": {
        "035d64de4ffe4480a693d787e4cf3372": {
          "model_module": "@jupyter-widgets/base",
          "model_module_version": "1.2.0",
          "model_name": "LayoutModel",
          "state": {
            "_model_module": "@jupyter-widgets/base",
            "_model_module_version": "1.2.0",
            "_model_name": "LayoutModel",
            "_view_count": null,
            "_view_module": "@jupyter-widgets/base",
            "_view_module_version": "1.2.0",
            "_view_name": "LayoutView",
            "align_content": null,
            "align_items": null,
            "align_self": null,
            "border": null,
            "bottom": null,
            "display": null,
            "flex": "2",
            "flex_flow": null,
            "grid_area": null,
            "grid_auto_columns": null,
            "grid_auto_flow": null,
            "grid_auto_rows": null,
            "grid_column": null,
            "grid_gap": null,
            "grid_row": null,
            "grid_template_areas": null,
            "grid_template_columns": null,
            "grid_template_rows": null,
            "height": null,
            "justify_content": null,
            "justify_items": null,
            "left": null,
            "margin": null,
            "max_height": null,
            "max_width": null,
            "min_height": null,
            "min_width": null,
            "object_fit": null,
            "object_position": null,
            "order": null,
            "overflow": null,
            "overflow_x": null,
            "overflow_y": null,
            "padding": null,
            "right": null,
            "top": null,
            "visibility": null,
            "width": null
          }
        },
        "06660a07aca242108507da32e1d49d1f": {
          "model_module": "@jupyter-widgets/controls",
          "model_module_version": "1.5.0",
          "model_name": "ProgressStyleModel",
          "state": {
            "_model_module": "@jupyter-widgets/controls",
            "_model_module_version": "1.5.0",
            "_model_name": "ProgressStyleModel",
            "_view_count": null,
            "_view_module": "@jupyter-widgets/base",
            "_view_module_version": "1.2.0",
            "_view_name": "StyleView",
            "bar_color": null,
            "description_width": ""
          }
        },
        "068b4483fbb54147bb9753ffdd51c1c1": {
          "model_module": "@jupyter-widgets/base",
          "model_module_version": "1.2.0",
          "model_name": "LayoutModel",
          "state": {
            "_model_module": "@jupyter-widgets/base",
            "_model_module_version": "1.2.0",
            "_model_name": "LayoutModel",
            "_view_count": null,
            "_view_module": "@jupyter-widgets/base",
            "_view_module_version": "1.2.0",
            "_view_name": "LayoutView",
            "align_content": null,
            "align_items": null,
            "align_self": null,
            "border": null,
            "bottom": null,
            "display": null,
            "flex": "2",
            "flex_flow": null,
            "grid_area": null,
            "grid_auto_columns": null,
            "grid_auto_flow": null,
            "grid_auto_rows": null,
            "grid_column": null,
            "grid_gap": null,
            "grid_row": null,
            "grid_template_areas": null,
            "grid_template_columns": null,
            "grid_template_rows": null,
            "height": null,
            "justify_content": null,
            "justify_items": null,
            "left": null,
            "margin": null,
            "max_height": null,
            "max_width": null,
            "min_height": null,
            "min_width": null,
            "object_fit": null,
            "object_position": null,
            "order": null,
            "overflow": null,
            "overflow_x": null,
            "overflow_y": null,
            "padding": null,
            "right": null,
            "top": null,
            "visibility": null,
            "width": null
          }
        },
        "0b5a790579e3404680f9e0eee3a8cff2": {
          "model_module": "@jupyter-widgets/base",
          "model_module_version": "1.2.0",
          "model_name": "LayoutModel",
          "state": {
            "_model_module": "@jupyter-widgets/base",
            "_model_module_version": "1.2.0",
            "_model_name": "LayoutModel",
            "_view_count": null,
            "_view_module": "@jupyter-widgets/base",
            "_view_module_version": "1.2.0",
            "_view_name": "LayoutView",
            "align_content": null,
            "align_items": null,
            "align_self": null,
            "border": null,
            "bottom": null,
            "display": null,
            "flex": null,
            "flex_flow": null,
            "grid_area": null,
            "grid_auto_columns": null,
            "grid_auto_flow": null,
            "grid_auto_rows": null,
            "grid_column": null,
            "grid_gap": null,
            "grid_row": null,
            "grid_template_areas": null,
            "grid_template_columns": null,
            "grid_template_rows": null,
            "height": null,
            "justify_content": null,
            "justify_items": null,
            "left": null,
            "margin": null,
            "max_height": null,
            "max_width": null,
            "min_height": null,
            "min_width": null,
            "object_fit": null,
            "object_position": null,
            "order": null,
            "overflow": null,
            "overflow_x": null,
            "overflow_y": null,
            "padding": null,
            "right": null,
            "top": null,
            "visibility": null,
            "width": null
          }
        },
        "0d2180d103794cc8a90a46884fc402cc": {
          "model_module": "@jupyter-widgets/base",
          "model_module_version": "1.2.0",
          "model_name": "LayoutModel",
          "state": {
            "_model_module": "@jupyter-widgets/base",
            "_model_module_version": "1.2.0",
            "_model_name": "LayoutModel",
            "_view_count": null,
            "_view_module": "@jupyter-widgets/base",
            "_view_module_version": "1.2.0",
            "_view_name": "LayoutView",
            "align_content": null,
            "align_items": null,
            "align_self": null,
            "border": null,
            "bottom": null,
            "display": null,
            "flex": "2",
            "flex_flow": null,
            "grid_area": null,
            "grid_auto_columns": null,
            "grid_auto_flow": null,
            "grid_auto_rows": null,
            "grid_column": null,
            "grid_gap": null,
            "grid_row": null,
            "grid_template_areas": null,
            "grid_template_columns": null,
            "grid_template_rows": null,
            "height": null,
            "justify_content": null,
            "justify_items": null,
            "left": null,
            "margin": null,
            "max_height": null,
            "max_width": null,
            "min_height": null,
            "min_width": null,
            "object_fit": null,
            "object_position": null,
            "order": null,
            "overflow": null,
            "overflow_x": null,
            "overflow_y": null,
            "padding": null,
            "right": null,
            "top": null,
            "visibility": null,
            "width": null
          }
        },
        "13e8e28e8b9d4cab9fe843a12e596b57": {
          "model_module": "@jupyter-widgets/controls",
          "model_module_version": "1.5.0",
          "model_name": "DescriptionStyleModel",
          "state": {
            "_model_module": "@jupyter-widgets/controls",
            "_model_module_version": "1.5.0",
            "_model_name": "DescriptionStyleModel",
            "_view_count": null,
            "_view_module": "@jupyter-widgets/base",
            "_view_module_version": "1.2.0",
            "_view_name": "StyleView",
            "description_width": ""
          }
        },
        "1fbef4dff38943dd9334bcf8f98b9025": {
          "model_module": "@jupyter-widgets/controls",
          "model_module_version": "1.5.0",
          "model_name": "HTMLModel",
          "state": {
            "_dom_classes": [],
            "_model_module": "@jupyter-widgets/controls",
            "_model_module_version": "1.5.0",
            "_model_name": "HTMLModel",
            "_view_count": null,
            "_view_module": "@jupyter-widgets/controls",
            "_view_module_version": "1.5.0",
            "_view_name": "HTMLView",
            "description": "",
            "description_tooltip": null,
            "layout": "IPY_MODEL_bf5c85326d0746f1a75f5ba124b04b2b",
            "placeholder": "​",
            "style": "IPY_MODEL_42e76e3b8ed3484f92869e7253b6f65b",
            "value": "Epoch 0: 100%"
          }
        },
        "2a9cce56300a4a3eb8ddc041286ab630": {
          "model_module": "@jupyter-widgets/controls",
          "model_module_version": "1.5.0",
          "model_name": "ProgressStyleModel",
          "state": {
            "_model_module": "@jupyter-widgets/controls",
            "_model_module_version": "1.5.0",
            "_model_name": "ProgressStyleModel",
            "_view_count": null,
            "_view_module": "@jupyter-widgets/base",
            "_view_module_version": "1.2.0",
            "_view_name": "StyleView",
            "bar_color": null,
            "description_width": ""
          }
        },
        "2bb0e93f1fcc4557a9e28acbfb1ca5ff": {
          "model_module": "@jupyter-widgets/base",
          "model_module_version": "1.2.0",
          "model_name": "LayoutModel",
          "state": {
            "_model_module": "@jupyter-widgets/base",
            "_model_module_version": "1.2.0",
            "_model_name": "LayoutModel",
            "_view_count": null,
            "_view_module": "@jupyter-widgets/base",
            "_view_module_version": "1.2.0",
            "_view_name": "LayoutView",
            "align_content": null,
            "align_items": null,
            "align_self": null,
            "border": null,
            "bottom": null,
            "display": "inline-flex",
            "flex": null,
            "flex_flow": "row wrap",
            "grid_area": null,
            "grid_auto_columns": null,
            "grid_auto_flow": null,
            "grid_auto_rows": null,
            "grid_column": null,
            "grid_gap": null,
            "grid_row": null,
            "grid_template_areas": null,
            "grid_template_columns": null,
            "grid_template_rows": null,
            "height": null,
            "justify_content": null,
            "justify_items": null,
            "left": null,
            "margin": null,
            "max_height": null,
            "max_width": null,
            "min_height": null,
            "min_width": null,
            "object_fit": null,
            "object_position": null,
            "order": null,
            "overflow": null,
            "overflow_x": null,
            "overflow_y": null,
            "padding": null,
            "right": null,
            "top": null,
            "visibility": "hidden",
            "width": "100%"
          }
        },
        "3179d2e823eb46b9ae9cb5b5b6de0172": {
          "model_module": "@jupyter-widgets/base",
          "model_module_version": "1.2.0",
          "model_name": "LayoutModel",
          "state": {
            "_model_module": "@jupyter-widgets/base",
            "_model_module_version": "1.2.0",
            "_model_name": "LayoutModel",
            "_view_count": null,
            "_view_module": "@jupyter-widgets/base",
            "_view_module_version": "1.2.0",
            "_view_name": "LayoutView",
            "align_content": null,
            "align_items": null,
            "align_self": null,
            "border": null,
            "bottom": null,
            "display": null,
            "flex": "2",
            "flex_flow": null,
            "grid_area": null,
            "grid_auto_columns": null,
            "grid_auto_flow": null,
            "grid_auto_rows": null,
            "grid_column": null,
            "grid_gap": null,
            "grid_row": null,
            "grid_template_areas": null,
            "grid_template_columns": null,
            "grid_template_rows": null,
            "height": null,
            "justify_content": null,
            "justify_items": null,
            "left": null,
            "margin": null,
            "max_height": null,
            "max_width": null,
            "min_height": null,
            "min_width": null,
            "object_fit": null,
            "object_position": null,
            "order": null,
            "overflow": null,
            "overflow_x": null,
            "overflow_y": null,
            "padding": null,
            "right": null,
            "top": null,
            "visibility": null,
            "width": null
          }
        },
        "32eb8b6c120549069bdc2a2ab5570f0c": {
          "model_module": "@jupyter-widgets/base",
          "model_module_version": "1.2.0",
          "model_name": "LayoutModel",
          "state": {
            "_model_module": "@jupyter-widgets/base",
            "_model_module_version": "1.2.0",
            "_model_name": "LayoutModel",
            "_view_count": null,
            "_view_module": "@jupyter-widgets/base",
            "_view_module_version": "1.2.0",
            "_view_name": "LayoutView",
            "align_content": null,
            "align_items": null,
            "align_self": null,
            "border": null,
            "bottom": null,
            "display": null,
            "flex": null,
            "flex_flow": null,
            "grid_area": null,
            "grid_auto_columns": null,
            "grid_auto_flow": null,
            "grid_auto_rows": null,
            "grid_column": null,
            "grid_gap": null,
            "grid_row": null,
            "grid_template_areas": null,
            "grid_template_columns": null,
            "grid_template_rows": null,
            "height": null,
            "justify_content": null,
            "justify_items": null,
            "left": null,
            "margin": null,
            "max_height": null,
            "max_width": null,
            "min_height": null,
            "min_width": null,
            "object_fit": null,
            "object_position": null,
            "order": null,
            "overflow": null,
            "overflow_x": null,
            "overflow_y": null,
            "padding": null,
            "right": null,
            "top": null,
            "visibility": null,
            "width": null
          }
        },
        "392f12bd38d54b40a0a06309f3ddd7fd": {
          "model_module": "@jupyter-widgets/base",
          "model_module_version": "1.2.0",
          "model_name": "LayoutModel",
          "state": {
            "_model_module": "@jupyter-widgets/base",
            "_model_module_version": "1.2.0",
            "_model_name": "LayoutModel",
            "_view_count": null,
            "_view_module": "@jupyter-widgets/base",
            "_view_module_version": "1.2.0",
            "_view_name": "LayoutView",
            "align_content": null,
            "align_items": null,
            "align_self": null,
            "border": null,
            "bottom": null,
            "display": null,
            "flex": null,
            "flex_flow": null,
            "grid_area": null,
            "grid_auto_columns": null,
            "grid_auto_flow": null,
            "grid_auto_rows": null,
            "grid_column": null,
            "grid_gap": null,
            "grid_row": null,
            "grid_template_areas": null,
            "grid_template_columns": null,
            "grid_template_rows": null,
            "height": null,
            "justify_content": null,
            "justify_items": null,
            "left": null,
            "margin": null,
            "max_height": null,
            "max_width": null,
            "min_height": null,
            "min_width": null,
            "object_fit": null,
            "object_position": null,
            "order": null,
            "overflow": null,
            "overflow_x": null,
            "overflow_y": null,
            "padding": null,
            "right": null,
            "top": null,
            "visibility": null,
            "width": null
          }
        },
        "40845e140d324680a70af6ff099c5fd0": {
          "model_module": "@jupyter-widgets/controls",
          "model_module_version": "1.5.0",
          "model_name": "FloatProgressModel",
          "state": {
            "_dom_classes": [],
            "_model_module": "@jupyter-widgets/controls",
            "_model_module_version": "1.5.0",
            "_model_name": "FloatProgressModel",
            "_view_count": null,
            "_view_module": "@jupyter-widgets/controls",
            "_view_module_version": "1.5.0",
            "_view_name": "ProgressView",
            "bar_style": "",
            "description": "",
            "description_tooltip": null,
            "layout": "IPY_MODEL_0d2180d103794cc8a90a46884fc402cc",
            "max": 1,
            "min": 0,
            "orientation": "horizontal",
            "style": "IPY_MODEL_e72a8bd17e234b979a6423515ec8676d",
            "value": 1
          }
        },
        "42e76e3b8ed3484f92869e7253b6f65b": {
          "model_module": "@jupyter-widgets/controls",
          "model_module_version": "1.5.0",
          "model_name": "DescriptionStyleModel",
          "state": {
            "_model_module": "@jupyter-widgets/controls",
            "_model_module_version": "1.5.0",
            "_model_name": "DescriptionStyleModel",
            "_view_count": null,
            "_view_module": "@jupyter-widgets/base",
            "_view_module_version": "1.2.0",
            "_view_name": "StyleView",
            "description_width": ""
          }
        },
        "52174dc0567f4d4ea3465918b86d211e": {
          "model_module": "@jupyter-widgets/controls",
          "model_module_version": "1.5.0",
          "model_name": "DescriptionStyleModel",
          "state": {
            "_model_module": "@jupyter-widgets/controls",
            "_model_module_version": "1.5.0",
            "_model_name": "DescriptionStyleModel",
            "_view_count": null,
            "_view_module": "@jupyter-widgets/base",
            "_view_module_version": "1.2.0",
            "_view_name": "StyleView",
            "description_width": ""
          }
        },
        "539d5cad38824eaca6c808263ff39248": {
          "model_module": "@jupyter-widgets/controls",
          "model_module_version": "1.5.0",
          "model_name": "HTMLModel",
          "state": {
            "_dom_classes": [],
            "_model_module": "@jupyter-widgets/controls",
            "_model_module_version": "1.5.0",
            "_model_name": "HTMLModel",
            "_view_count": null,
            "_view_module": "@jupyter-widgets/controls",
            "_view_module_version": "1.5.0",
            "_view_name": "HTMLView",
            "description": "",
            "description_tooltip": null,
            "layout": "IPY_MODEL_392f12bd38d54b40a0a06309f3ddd7fd",
            "placeholder": "​",
            "style": "IPY_MODEL_e91087442a97426892598e42e19a0368",
            "value": " 1/1 [00:00&lt;00:00, 660.10it/s]"
          }
        },
        "55eb40429c8d42679f56acda13dbfd66": {
          "model_module": "@jupyter-widgets/controls",
          "model_module_version": "1.5.0",
          "model_name": "HTMLModel",
          "state": {
            "_dom_classes": [],
            "_model_module": "@jupyter-widgets/controls",
            "_model_module_version": "1.5.0",
            "_model_name": "HTMLModel",
            "_view_count": null,
            "_view_module": "@jupyter-widgets/controls",
            "_view_module_version": "1.5.0",
            "_view_name": "HTMLView",
            "description": "",
            "description_tooltip": null,
            "layout": "IPY_MODEL_32eb8b6c120549069bdc2a2ab5570f0c",
            "placeholder": "​",
            "style": "IPY_MODEL_aa7c70173ccd4ec988d6469cbee6fd12",
            "value": "Epoch 0: 100%"
          }
        },
        "63ec80f6968844948e2a580fe6c7085c": {
          "model_module": "@jupyter-widgets/controls",
          "model_module_version": "1.5.0",
          "model_name": "HTMLModel",
          "state": {
            "_dom_classes": [],
            "_model_module": "@jupyter-widgets/controls",
            "_model_module_version": "1.5.0",
            "_model_name": "HTMLModel",
            "_view_count": null,
            "_view_module": "@jupyter-widgets/controls",
            "_view_module_version": "1.5.0",
            "_view_name": "HTMLView",
            "description": "",
            "description_tooltip": null,
            "layout": "IPY_MODEL_cdf450aa05064cf3bcd184e70c67b83c",
            "placeholder": "​",
            "style": "IPY_MODEL_13e8e28e8b9d4cab9fe843a12e596b57",
            "value": "Validation DataLoader 0: 100%"
          }
        },
        "661570365b4c4ec99f4272987d1beb8c": {
          "model_module": "@jupyter-widgets/base",
          "model_module_version": "1.2.0",
          "model_name": "LayoutModel",
          "state": {
            "_model_module": "@jupyter-widgets/base",
            "_model_module_version": "1.2.0",
            "_model_name": "LayoutModel",
            "_view_count": null,
            "_view_module": "@jupyter-widgets/base",
            "_view_module_version": "1.2.0",
            "_view_name": "LayoutView",
            "align_content": null,
            "align_items": null,
            "align_self": null,
            "border": null,
            "bottom": null,
            "display": "inline-flex",
            "flex": null,
            "flex_flow": "row wrap",
            "grid_area": null,
            "grid_auto_columns": null,
            "grid_auto_flow": null,
            "grid_auto_rows": null,
            "grid_column": null,
            "grid_gap": null,
            "grid_row": null,
            "grid_template_areas": null,
            "grid_template_columns": null,
            "grid_template_rows": null,
            "height": null,
            "justify_content": null,
            "justify_items": null,
            "left": null,
            "margin": null,
            "max_height": null,
            "max_width": null,
            "min_height": null,
            "min_width": null,
            "object_fit": null,
            "object_position": null,
            "order": null,
            "overflow": null,
            "overflow_x": null,
            "overflow_y": null,
            "padding": null,
            "right": null,
            "top": null,
            "visibility": "hidden",
            "width": "100%"
          }
        },
        "6711697a1654483d890f42156b351fad": {
          "model_module": "@jupyter-widgets/controls",
          "model_module_version": "1.5.0",
          "model_name": "FloatProgressModel",
          "state": {
            "_dom_classes": [],
            "_model_module": "@jupyter-widgets/controls",
            "_model_module_version": "1.5.0",
            "_model_name": "FloatProgressModel",
            "_view_count": null,
            "_view_module": "@jupyter-widgets/controls",
            "_view_module_version": "1.5.0",
            "_view_name": "ProgressView",
            "bar_style": "success",
            "description": "",
            "description_tooltip": null,
            "layout": "IPY_MODEL_068b4483fbb54147bb9753ffdd51c1c1",
            "max": 2000,
            "min": 0,
            "orientation": "horizontal",
            "style": "IPY_MODEL_2a9cce56300a4a3eb8ddc041286ab630",
            "value": 2000
          }
        },
        "6919e8904d0a4574b49e08468e95a4b6": {
          "model_module": "@jupyter-widgets/controls",
          "model_module_version": "1.5.0",
          "model_name": "HBoxModel",
          "state": {
            "_dom_classes": [],
            "_model_module": "@jupyter-widgets/controls",
            "_model_module_version": "1.5.0",
            "_model_name": "HBoxModel",
            "_view_count": null,
            "_view_module": "@jupyter-widgets/controls",
            "_view_module_version": "1.5.0",
            "_view_name": "HBoxView",
            "box_style": "",
            "children": [
              "IPY_MODEL_63ec80f6968844948e2a580fe6c7085c",
              "IPY_MODEL_b0a3ba48d59b42b49310e4f5aeaf1c82",
              "IPY_MODEL_f2db35b38aec40768d37881d8c929a91"
            ],
            "layout": "IPY_MODEL_661570365b4c4ec99f4272987d1beb8c"
          }
        },
        "6ab2a2dcd4854df3b2dfa4d63ebe966c": {
          "model_module": "@jupyter-widgets/controls",
          "model_module_version": "1.5.0",
          "model_name": "HTMLModel",
          "state": {
            "_dom_classes": [],
            "_model_module": "@jupyter-widgets/controls",
            "_model_module_version": "1.5.0",
            "_model_name": "HTMLModel",
            "_view_count": null,
            "_view_module": "@jupyter-widgets/controls",
            "_view_module_version": "1.5.0",
            "_view_name": "HTMLView",
            "description": "",
            "description_tooltip": null,
            "layout": "IPY_MODEL_e39eddbafb9e4fafbfa570935d22a069",
            "placeholder": "​",
            "style": "IPY_MODEL_fd85806fa29d482398fac840754b79b1",
            "value": " 2000/2000 [02:40&lt;00:00, 12.48it/s, train/loss=0.0479]"
          }
        },
        "78db7ec96e2f499ab2cfc4b64eb9cc10": {
          "model_module": "@jupyter-widgets/controls",
          "model_module_version": "1.5.0",
          "model_name": "HBoxModel",
          "state": {
            "_dom_classes": [],
            "_model_module": "@jupyter-widgets/controls",
            "_model_module_version": "1.5.0",
            "_model_name": "HBoxModel",
            "_view_count": null,
            "_view_module": "@jupyter-widgets/controls",
            "_view_module_version": "1.5.0",
            "_view_name": "HBoxView",
            "box_style": "",
            "children": [
              "IPY_MODEL_55eb40429c8d42679f56acda13dbfd66",
              "IPY_MODEL_6711697a1654483d890f42156b351fad",
              "IPY_MODEL_6ab2a2dcd4854df3b2dfa4d63ebe966c"
            ],
            "layout": "IPY_MODEL_8d95454822ce431f900fe4a9abe1e888"
          }
        },
        "8d95454822ce431f900fe4a9abe1e888": {
          "model_module": "@jupyter-widgets/base",
          "model_module_version": "1.2.0",
          "model_name": "LayoutModel",
          "state": {
            "_model_module": "@jupyter-widgets/base",
            "_model_module_version": "1.2.0",
            "_model_name": "LayoutModel",
            "_view_count": null,
            "_view_module": "@jupyter-widgets/base",
            "_view_module_version": "1.2.0",
            "_view_name": "LayoutView",
            "align_content": null,
            "align_items": null,
            "align_self": null,
            "border": null,
            "bottom": null,
            "display": "inline-flex",
            "flex": null,
            "flex_flow": "row wrap",
            "grid_area": null,
            "grid_auto_columns": null,
            "grid_auto_flow": null,
            "grid_auto_rows": null,
            "grid_column": null,
            "grid_gap": null,
            "grid_row": null,
            "grid_template_areas": null,
            "grid_template_columns": null,
            "grid_template_rows": null,
            "height": null,
            "justify_content": null,
            "justify_items": null,
            "left": null,
            "margin": null,
            "max_height": null,
            "max_width": null,
            "min_height": null,
            "min_width": null,
            "object_fit": null,
            "object_position": null,
            "order": null,
            "overflow": null,
            "overflow_x": null,
            "overflow_y": null,
            "padding": null,
            "right": null,
            "top": null,
            "visibility": null,
            "width": "100%"
          }
        },
        "96df4b367e0147b4b0873178c2c6ddee": {
          "model_module": "@jupyter-widgets/controls",
          "model_module_version": "1.5.0",
          "model_name": "FloatProgressModel",
          "state": {
            "_dom_classes": [],
            "_model_module": "@jupyter-widgets/controls",
            "_model_module_version": "1.5.0",
            "_model_name": "FloatProgressModel",
            "_view_count": null,
            "_view_module": "@jupyter-widgets/controls",
            "_view_module_version": "1.5.0",
            "_view_name": "ProgressView",
            "bar_style": "success",
            "description": "",
            "description_tooltip": null,
            "layout": "IPY_MODEL_035d64de4ffe4480a693d787e4cf3372",
            "max": 3000,
            "min": 0,
            "orientation": "horizontal",
            "style": "IPY_MODEL_b63aa5f44deb4e35bcc74e26f581bb08",
            "value": 3000
          }
        },
        "aa7c70173ccd4ec988d6469cbee6fd12": {
          "model_module": "@jupyter-widgets/controls",
          "model_module_version": "1.5.0",
          "model_name": "DescriptionStyleModel",
          "state": {
            "_model_module": "@jupyter-widgets/controls",
            "_model_module_version": "1.5.0",
            "_model_name": "DescriptionStyleModel",
            "_view_count": null,
            "_view_module": "@jupyter-widgets/base",
            "_view_module_version": "1.2.0",
            "_view_name": "StyleView",
            "description_width": ""
          }
        },
        "accbf70574ba461ea61bb62e4e649841": {
          "model_module": "@jupyter-widgets/base",
          "model_module_version": "1.2.0",
          "model_name": "LayoutModel",
          "state": {
            "_model_module": "@jupyter-widgets/base",
            "_model_module_version": "1.2.0",
            "_model_name": "LayoutModel",
            "_view_count": null,
            "_view_module": "@jupyter-widgets/base",
            "_view_module_version": "1.2.0",
            "_view_name": "LayoutView",
            "align_content": null,
            "align_items": null,
            "align_self": null,
            "border": null,
            "bottom": null,
            "display": "inline-flex",
            "flex": null,
            "flex_flow": "row wrap",
            "grid_area": null,
            "grid_auto_columns": null,
            "grid_auto_flow": null,
            "grid_auto_rows": null,
            "grid_column": null,
            "grid_gap": null,
            "grid_row": null,
            "grid_template_areas": null,
            "grid_template_columns": null,
            "grid_template_rows": null,
            "height": null,
            "justify_content": null,
            "justify_items": null,
            "left": null,
            "margin": null,
            "max_height": null,
            "max_width": null,
            "min_height": null,
            "min_width": null,
            "object_fit": null,
            "object_position": null,
            "order": null,
            "overflow": null,
            "overflow_x": null,
            "overflow_y": null,
            "padding": null,
            "right": null,
            "top": null,
            "visibility": null,
            "width": "100%"
          }
        },
        "b0a3ba48d59b42b49310e4f5aeaf1c82": {
          "model_module": "@jupyter-widgets/controls",
          "model_module_version": "1.5.0",
          "model_name": "FloatProgressModel",
          "state": {
            "_dom_classes": [],
            "_model_module": "@jupyter-widgets/controls",
            "_model_module_version": "1.5.0",
            "_model_name": "FloatProgressModel",
            "_view_count": null,
            "_view_module": "@jupyter-widgets/controls",
            "_view_module_version": "1.5.0",
            "_view_name": "ProgressView",
            "bar_style": "",
            "description": "",
            "description_tooltip": null,
            "layout": "IPY_MODEL_3179d2e823eb46b9ae9cb5b5b6de0172",
            "max": 1,
            "min": 0,
            "orientation": "horizontal",
            "style": "IPY_MODEL_06660a07aca242108507da32e1d49d1f",
            "value": 1
          }
        },
        "b63aa5f44deb4e35bcc74e26f581bb08": {
          "model_module": "@jupyter-widgets/controls",
          "model_module_version": "1.5.0",
          "model_name": "ProgressStyleModel",
          "state": {
            "_model_module": "@jupyter-widgets/controls",
            "_model_module_version": "1.5.0",
            "_model_name": "ProgressStyleModel",
            "_view_count": null,
            "_view_module": "@jupyter-widgets/base",
            "_view_module_version": "1.2.0",
            "_view_name": "StyleView",
            "bar_color": null,
            "description_width": ""
          }
        },
        "bea3f5a98c8d4a3a97b8b946e0cd4d57": {
          "model_module": "@jupyter-widgets/base",
          "model_module_version": "1.2.0",
          "model_name": "LayoutModel",
          "state": {
            "_model_module": "@jupyter-widgets/base",
            "_model_module_version": "1.2.0",
            "_model_name": "LayoutModel",
            "_view_count": null,
            "_view_module": "@jupyter-widgets/base",
            "_view_module_version": "1.2.0",
            "_view_name": "LayoutView",
            "align_content": null,
            "align_items": null,
            "align_self": null,
            "border": null,
            "bottom": null,
            "display": null,
            "flex": null,
            "flex_flow": null,
            "grid_area": null,
            "grid_auto_columns": null,
            "grid_auto_flow": null,
            "grid_auto_rows": null,
            "grid_column": null,
            "grid_gap": null,
            "grid_row": null,
            "grid_template_areas": null,
            "grid_template_columns": null,
            "grid_template_rows": null,
            "height": null,
            "justify_content": null,
            "justify_items": null,
            "left": null,
            "margin": null,
            "max_height": null,
            "max_width": null,
            "min_height": null,
            "min_width": null,
            "object_fit": null,
            "object_position": null,
            "order": null,
            "overflow": null,
            "overflow_x": null,
            "overflow_y": null,
            "padding": null,
            "right": null,
            "top": null,
            "visibility": null,
            "width": null
          }
        },
        "bf5c85326d0746f1a75f5ba124b04b2b": {
          "model_module": "@jupyter-widgets/base",
          "model_module_version": "1.2.0",
          "model_name": "LayoutModel",
          "state": {
            "_model_module": "@jupyter-widgets/base",
            "_model_module_version": "1.2.0",
            "_model_name": "LayoutModel",
            "_view_count": null,
            "_view_module": "@jupyter-widgets/base",
            "_view_module_version": "1.2.0",
            "_view_name": "LayoutView",
            "align_content": null,
            "align_items": null,
            "align_self": null,
            "border": null,
            "bottom": null,
            "display": null,
            "flex": null,
            "flex_flow": null,
            "grid_area": null,
            "grid_auto_columns": null,
            "grid_auto_flow": null,
            "grid_auto_rows": null,
            "grid_column": null,
            "grid_gap": null,
            "grid_row": null,
            "grid_template_areas": null,
            "grid_template_columns": null,
            "grid_template_rows": null,
            "height": null,
            "justify_content": null,
            "justify_items": null,
            "left": null,
            "margin": null,
            "max_height": null,
            "max_width": null,
            "min_height": null,
            "min_width": null,
            "object_fit": null,
            "object_position": null,
            "order": null,
            "overflow": null,
            "overflow_x": null,
            "overflow_y": null,
            "padding": null,
            "right": null,
            "top": null,
            "visibility": null,
            "width": null
          }
        },
        "c18d459cfb3e4e158e7f2944b667144e": {
          "model_module": "@jupyter-widgets/controls",
          "model_module_version": "1.5.0",
          "model_name": "HTMLModel",
          "state": {
            "_dom_classes": [],
            "_model_module": "@jupyter-widgets/controls",
            "_model_module_version": "1.5.0",
            "_model_name": "HTMLModel",
            "_view_count": null,
            "_view_module": "@jupyter-widgets/controls",
            "_view_module_version": "1.5.0",
            "_view_name": "HTMLView",
            "description": "",
            "description_tooltip": null,
            "layout": "IPY_MODEL_0b5a790579e3404680f9e0eee3a8cff2",
            "placeholder": "​",
            "style": "IPY_MODEL_cd11a8ea139a42249b0907737559a3ad",
            "value": "Validation DataLoader 0: 100%"
          }
        },
        "ca253e0ded924533a3adbcec0093ca32": {
          "model_module": "@jupyter-widgets/base",
          "model_module_version": "1.2.0",
          "model_name": "LayoutModel",
          "state": {
            "_model_module": "@jupyter-widgets/base",
            "_model_module_version": "1.2.0",
            "_model_name": "LayoutModel",
            "_view_count": null,
            "_view_module": "@jupyter-widgets/base",
            "_view_module_version": "1.2.0",
            "_view_name": "LayoutView",
            "align_content": null,
            "align_items": null,
            "align_self": null,
            "border": null,
            "bottom": null,
            "display": null,
            "flex": null,
            "flex_flow": null,
            "grid_area": null,
            "grid_auto_columns": null,
            "grid_auto_flow": null,
            "grid_auto_rows": null,
            "grid_column": null,
            "grid_gap": null,
            "grid_row": null,
            "grid_template_areas": null,
            "grid_template_columns": null,
            "grid_template_rows": null,
            "height": null,
            "justify_content": null,
            "justify_items": null,
            "left": null,
            "margin": null,
            "max_height": null,
            "max_width": null,
            "min_height": null,
            "min_width": null,
            "object_fit": null,
            "object_position": null,
            "order": null,
            "overflow": null,
            "overflow_x": null,
            "overflow_y": null,
            "padding": null,
            "right": null,
            "top": null,
            "visibility": null,
            "width": null
          }
        },
        "cd11a8ea139a42249b0907737559a3ad": {
          "model_module": "@jupyter-widgets/controls",
          "model_module_version": "1.5.0",
          "model_name": "DescriptionStyleModel",
          "state": {
            "_model_module": "@jupyter-widgets/controls",
            "_model_module_version": "1.5.0",
            "_model_name": "DescriptionStyleModel",
            "_view_count": null,
            "_view_module": "@jupyter-widgets/base",
            "_view_module_version": "1.2.0",
            "_view_name": "StyleView",
            "description_width": ""
          }
        },
        "cd63d468874441ada619c005aea50780": {
          "model_module": "@jupyter-widgets/controls",
          "model_module_version": "1.5.0",
          "model_name": "HBoxModel",
          "state": {
            "_dom_classes": [],
            "_model_module": "@jupyter-widgets/controls",
            "_model_module_version": "1.5.0",
            "_model_name": "HBoxModel",
            "_view_count": null,
            "_view_module": "@jupyter-widgets/controls",
            "_view_module_version": "1.5.0",
            "_view_name": "HBoxView",
            "box_style": "",
            "children": [
              "IPY_MODEL_c18d459cfb3e4e158e7f2944b667144e",
              "IPY_MODEL_40845e140d324680a70af6ff099c5fd0",
              "IPY_MODEL_539d5cad38824eaca6c808263ff39248"
            ],
            "layout": "IPY_MODEL_2bb0e93f1fcc4557a9e28acbfb1ca5ff"
          }
        },
        "cdf450aa05064cf3bcd184e70c67b83c": {
          "model_module": "@jupyter-widgets/base",
          "model_module_version": "1.2.0",
          "model_name": "LayoutModel",
          "state": {
            "_model_module": "@jupyter-widgets/base",
            "_model_module_version": "1.2.0",
            "_model_name": "LayoutModel",
            "_view_count": null,
            "_view_module": "@jupyter-widgets/base",
            "_view_module_version": "1.2.0",
            "_view_name": "LayoutView",
            "align_content": null,
            "align_items": null,
            "align_self": null,
            "border": null,
            "bottom": null,
            "display": null,
            "flex": null,
            "flex_flow": null,
            "grid_area": null,
            "grid_auto_columns": null,
            "grid_auto_flow": null,
            "grid_auto_rows": null,
            "grid_column": null,
            "grid_gap": null,
            "grid_row": null,
            "grid_template_areas": null,
            "grid_template_columns": null,
            "grid_template_rows": null,
            "height": null,
            "justify_content": null,
            "justify_items": null,
            "left": null,
            "margin": null,
            "max_height": null,
            "max_width": null,
            "min_height": null,
            "min_width": null,
            "object_fit": null,
            "object_position": null,
            "order": null,
            "overflow": null,
            "overflow_x": null,
            "overflow_y": null,
            "padding": null,
            "right": null,
            "top": null,
            "visibility": null,
            "width": null
          }
        },
        "d12decf7d62840b79bc0dd22184d2260": {
          "model_module": "@jupyter-widgets/controls",
          "model_module_version": "1.5.0",
          "model_name": "DescriptionStyleModel",
          "state": {
            "_model_module": "@jupyter-widgets/controls",
            "_model_module_version": "1.5.0",
            "_model_name": "DescriptionStyleModel",
            "_view_count": null,
            "_view_module": "@jupyter-widgets/base",
            "_view_module_version": "1.2.0",
            "_view_name": "StyleView",
            "description_width": ""
          }
        },
        "e39eddbafb9e4fafbfa570935d22a069": {
          "model_module": "@jupyter-widgets/base",
          "model_module_version": "1.2.0",
          "model_name": "LayoutModel",
          "state": {
            "_model_module": "@jupyter-widgets/base",
            "_model_module_version": "1.2.0",
            "_model_name": "LayoutModel",
            "_view_count": null,
            "_view_module": "@jupyter-widgets/base",
            "_view_module_version": "1.2.0",
            "_view_name": "LayoutView",
            "align_content": null,
            "align_items": null,
            "align_self": null,
            "border": null,
            "bottom": null,
            "display": null,
            "flex": null,
            "flex_flow": null,
            "grid_area": null,
            "grid_auto_columns": null,
            "grid_auto_flow": null,
            "grid_auto_rows": null,
            "grid_column": null,
            "grid_gap": null,
            "grid_row": null,
            "grid_template_areas": null,
            "grid_template_columns": null,
            "grid_template_rows": null,
            "height": null,
            "justify_content": null,
            "justify_items": null,
            "left": null,
            "margin": null,
            "max_height": null,
            "max_width": null,
            "min_height": null,
            "min_width": null,
            "object_fit": null,
            "object_position": null,
            "order": null,
            "overflow": null,
            "overflow_x": null,
            "overflow_y": null,
            "padding": null,
            "right": null,
            "top": null,
            "visibility": null,
            "width": null
          }
        },
        "e72a8bd17e234b979a6423515ec8676d": {
          "model_module": "@jupyter-widgets/controls",
          "model_module_version": "1.5.0",
          "model_name": "ProgressStyleModel",
          "state": {
            "_model_module": "@jupyter-widgets/controls",
            "_model_module_version": "1.5.0",
            "_model_name": "ProgressStyleModel",
            "_view_count": null,
            "_view_module": "@jupyter-widgets/base",
            "_view_module_version": "1.2.0",
            "_view_name": "StyleView",
            "bar_color": null,
            "description_width": ""
          }
        },
        "e91087442a97426892598e42e19a0368": {
          "model_module": "@jupyter-widgets/controls",
          "model_module_version": "1.5.0",
          "model_name": "DescriptionStyleModel",
          "state": {
            "_model_module": "@jupyter-widgets/controls",
            "_model_module_version": "1.5.0",
            "_model_name": "DescriptionStyleModel",
            "_view_count": null,
            "_view_module": "@jupyter-widgets/base",
            "_view_module_version": "1.2.0",
            "_view_name": "StyleView",
            "description_width": ""
          }
        },
        "eab3e0cf876e42a9bd7118bbf01417b3": {
          "model_module": "@jupyter-widgets/controls",
          "model_module_version": "1.5.0",
          "model_name": "HBoxModel",
          "state": {
            "_dom_classes": [],
            "_model_module": "@jupyter-widgets/controls",
            "_model_module_version": "1.5.0",
            "_model_name": "HBoxModel",
            "_view_count": null,
            "_view_module": "@jupyter-widgets/controls",
            "_view_module_version": "1.5.0",
            "_view_name": "HBoxView",
            "box_style": "",
            "children": [
              "IPY_MODEL_1fbef4dff38943dd9334bcf8f98b9025",
              "IPY_MODEL_96df4b367e0147b4b0873178c2c6ddee",
              "IPY_MODEL_febbf813f7344eea93d68337a3fb3ce4"
            ],
            "layout": "IPY_MODEL_accbf70574ba461ea61bb62e4e649841"
          }
        },
        "f2db35b38aec40768d37881d8c929a91": {
          "model_module": "@jupyter-widgets/controls",
          "model_module_version": "1.5.0",
          "model_name": "HTMLModel",
          "state": {
            "_dom_classes": [],
            "_model_module": "@jupyter-widgets/controls",
            "_model_module_version": "1.5.0",
            "_model_name": "HTMLModel",
            "_view_count": null,
            "_view_module": "@jupyter-widgets/controls",
            "_view_module_version": "1.5.0",
            "_view_name": "HTMLView",
            "description": "",
            "description_tooltip": null,
            "layout": "IPY_MODEL_ca253e0ded924533a3adbcec0093ca32",
            "placeholder": "​",
            "style": "IPY_MODEL_52174dc0567f4d4ea3465918b86d211e",
            "value": " 1/1 [00:00&lt;00:00, 496.13it/s]"
          }
        },
        "fd85806fa29d482398fac840754b79b1": {
          "model_module": "@jupyter-widgets/controls",
          "model_module_version": "1.5.0",
          "model_name": "DescriptionStyleModel",
          "state": {
            "_model_module": "@jupyter-widgets/controls",
            "_model_module_version": "1.5.0",
            "_model_name": "DescriptionStyleModel",
            "_view_count": null,
            "_view_module": "@jupyter-widgets/base",
            "_view_module_version": "1.2.0",
            "_view_name": "StyleView",
            "description_width": ""
          }
        },
        "febbf813f7344eea93d68337a3fb3ce4": {
          "model_module": "@jupyter-widgets/controls",
          "model_module_version": "1.5.0",
          "model_name": "HTMLModel",
          "state": {
            "_dom_classes": [],
            "_model_module": "@jupyter-widgets/controls",
            "_model_module_version": "1.5.0",
            "_model_name": "HTMLModel",
            "_view_count": null,
            "_view_module": "@jupyter-widgets/controls",
            "_view_module_version": "1.5.0",
            "_view_name": "HTMLView",
            "description": "",
            "description_tooltip": null,
            "layout": "IPY_MODEL_bea3f5a98c8d4a3a97b8b946e0cd4d57",
            "placeholder": "​",
            "style": "IPY_MODEL_d12decf7d62840b79bc0dd22184d2260",
            "value": " 3000/3000 [01:03&lt;00:00, 47.27it/s, train/loss=1.770]"
          }
        }
      }
    }
  },
  "nbformat": 4,
  "nbformat_minor": 0
}
