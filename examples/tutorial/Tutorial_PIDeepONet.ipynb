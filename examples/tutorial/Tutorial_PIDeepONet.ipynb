{
 "cells": [
  {
   "cell_type": "markdown",
   "metadata": {
    "id": "CzanhsB3YLBe"
   },
   "source": [
    "# Physics-informed DeepONet: Solving a ODE for different right hand sides\n",
    "In this notebook, we present an introduction to the physics-informed DeepONet [(paper)](https://arxiv.org/abs/2103.10974) utilities of TorchPhysics.\n",
    "As an example, we try to learn the integral operator of the ODE:\n",
    "\\begin{align*}\n",
    "    \\partial_t u(t) &= f(t), \\text{ in } [0, 1] \\\\\n",
    "    u(0) &= 0\n",
    "\\end{align*}\n",
    "for different functions $f$. Before describing the implementation in TorchPhysics we give a short recall of DeepONets.\n"
   ]
  },
  {
   "cell_type": "markdown",
   "metadata": {
    "id": "bKeJnQz4Yftw"
   },
   "source": [
    "# Recall of Deep Operator Networks (DeepONets)\n",
    "\n",
    "We wish to learn the solution $u_f:[0,1]\\to \\mathbb{R}$ for many different choices of functions $f:[0,1]\\to \\mathbb{R}$ by a DeepONet $\\varphi_{\\theta}.$\n",
    "The construction of DeepOnets is described in what follows:\n",
    "\n",
    "1) The basic idea is to represent $u_f$ as a linear combination of neural networks $\\varphi_i:[0,1]\\to \\mathbb{R}$\n",
    "$$\n",
    "u_f(t) \\approx \\sum_{i=1}^n c_i(f) \\varphi_i(t),\n",
    "$$\n",
    "where the coefficients $c_i(f)$ depend on the parameter function $f$ that leads to the solution $u_f$ of the ODE above.\n",
    "\n",
    "2) We would wish to replace $c_i(f)$ by a neural network, too. However, we cannot use a function $f$ as an input of a neural network. Instead, we collect finitely many information about $f$ by sampling $f$ at sampling points $t_1, ..., t_k$. These serve as inputs of neural networks $\\psi_i$ for approximating the coefficients\n",
    "$$\n",
    "c_i(f) \\approx \\psi_i( f(t_1), ..., f(t_k) ).\n",
    "$$\n",
    "\n",
    "3) A DeepONet $\\varphi_\\theta$ is hence defined as\n",
    "$$\n",
    "\\varphi_\\theta(f,t) := \\sum_{i=1}^n \\psi_i( f(t_1),...,f(t_k) ) \\varphi_i(t) ≈u_f(t).\n",
    "$$\n",
    "Typically, all $\\psi_i$ are collected within a single neural network, the so-called branch net $\\varphi_{branch}:[0,1] \\to \\mathbb{R}^n$, whose output coordinates just represent the $\\psi_i$. Similarly, the $\\varphi_i$ are represented by a so-called trunk net $\\varphi_{trunk}:[0,1] \\to \\mathbb{R}^n$.\n",
    "So the branch net receives only information about the parameter function $f$, whereas the input of the trunk net is the coordinate $t$ at which the solution $u_f$ is to be approximated.\n",
    "Note that the sampling points $t_1, ..., t_k$ needs to be fixed beforehang and should not be changed for different $f$, simply to not confuse the branch net $\\varphi_{branch}$."
   ]
  },
  {
   "cell_type": "markdown",
   "metadata": {
    "id": "ulenDc9tYfv2"
   },
   "source": [
    "# Physics-informed DeepONets in TorchPhysics\n",
    "\n",
    "The general structure of TorchPhysics still holds for DeepONet problems, so we can follow the same step-by-step recipe as in the [PINN-tutorials](https://torchphysics.de/tutorial).\n",
    "However, we need some new concepts to define training functions of $f$. Here we show, how to:\n",
    "\n",
    "- create a function space for different training functions\n",
    "- define a DeepONet-neural-network consisting of a trunk and branch net\n",
    "\n",
    "and some additional details one has to consider."
   ]
  },
  {
   "cell_type": "code",
   "execution_count": 76,
   "metadata": {
    "id": "ge4lD3QIYLBf"
   },
   "outputs": [],
   "source": [
    "import os\n",
    "import torch\n",
    "import torchphysics as tp\n",
    "import pytorch_lightning as pl"
   ]
  },
  {
   "cell_type": "markdown",
   "metadata": {
    "id": "-TnwJNYRs0nA"
   },
   "source": [
    "## Step 1: Specify spaces and domains\n",
    "As in the PINN tutorials we need to specify the input and output spaces of the solution functions $u_f:[0,1]\\to \\mathbb{R}$."
   ]
  },
  {
   "cell_type": "code",
   "execution_count": 77,
   "metadata": {
    "id": "0ewY_QuetJmo"
   },
   "outputs": [],
   "source": [
    "# Input and output spaces\n",
    "T = tp.spaces.R1('t') # input variable\n",
    "U = tp.spaces.R1('u') # output variable\n",
    "\n",
    "# Domain of u_f\n",
    "T_interval = tp.domains.Interval(T, 0, 1)"
   ]
  },
  {
   "cell_type": "markdown",
   "metadata": {
    "id": "8zhCYNVZtg-5"
   },
   "source": [
    "The DeepONet tries to learn $u_f$ for many different parameter functions $f$. Therefore, we need to define a set of functions $f$ that will be used for training the DeepONet.\n",
    "We consider the function set that consist of the following parameterized functions for $k\\in [0,6]$\n",
    "$$\n",
    "f_1(t, k) = kt,\\\\\n",
    "f_2(t, k) = kt^2,\\\\\n",
    "f_3(t, k) = k\\cos(kt).\n",
    "$$"
   ]
  },
  {
   "cell_type": "code",
   "execution_count": 78,
   "metadata": {
    "id": "LoCmJVNd9vvc"
   },
   "outputs": [],
   "source": [
    "def f1(k, t):\n",
    "    return k*t\n",
    "def f2(k, t):\n",
    "    return k*t**2\n",
    "def f3(k, t):\n",
    "    return k*torch.cos(k*t)"
   ]
  },
  {
   "cell_type": "markdown",
   "metadata": {
    "id": "PzMYI0iX9sXr"
   },
   "source": [
    "In order to construct this function set in TorchPhysics, we need to create input and output spaces for these functions $f_i$, similar to what we did with $u_f$. Here, also the parameter $k$ is treated as an input. Note that for the input variable $t$ we do not specify a space and domain again, as we already did that above."
   ]
  },
  {
   "cell_type": "code",
   "execution_count": 79,
   "metadata": {
    "id": "UzKytihtYLBg"
   },
   "outputs": [],
   "source": [
    "# Input and output spaces for the parameterized functions f_1, f_2, f_3\n",
    "K = tp.spaces.R1('k') # Parameter\n",
    "F = tp.spaces.R1('f') # Function output space name\n",
    "# Domains\n",
    "K_interval = tp.domains.Interval(K, 0, 6) # Parameters will be scalar values"
   ]
  },
  {
   "cell_type": "markdown",
   "metadata": {
    "id": "lF6ufyUE8B4M"
   },
   "source": [
    "If different ranges for $k$ were to be used for different $f_i$, one would have needed to create multiple parameter spaces and domains.\n",
    "\n",
    "The function set of all $f_i$ for all $k\\in [0,6]$ is considered as a domain object in TorchPhysics, simply because this set serves as the input for the branch net of the DeepONet. The constructor of CustomFunctionSet(...) receives three inputs:\n",
    "- A function space that specifies the input and output spaces of the functions $f_i:[0,1]\\subset \\mathbb{R} \\to \\mathbb{R}$;\n",
    "- A sampler for providing different parameters $k$;\n",
    "- The parameterized function $f_i$ that represents the function set.\n",
    "\n",
    "We first create function sets for all $f_i$ individually and afterwards obtain the union by the \"append()\" method of the FunctionSet class."
   ]
  },
  {
   "cell_type": "code",
   "execution_count": 80,
   "metadata": {
    "id": "kNyDfWJ3YLBh"
   },
   "outputs": [],
   "source": [
    "# Defining function set\n",
    "Fn_space = tp.spaces.FunctionSpace(T, F)\n",
    "\n",
    "param_sampler = tp.samplers.RandomUniformSampler(K_interval, n_points=5000)\n",
    "\n",
    "Fn_set_1 = tp.domains.CustomFunctionSet(Fn_space, param_sampler, f1)\n",
    "Fn_set_2 = tp.domains.CustomFunctionSet(Fn_space, param_sampler, f2)\n",
    "Fn_set_3 = tp.domains.CustomFunctionSet(Fn_space, param_sampler, f3)\n",
    "\n",
    "Fn_set = Fn_set_1.append(Fn_set_2).append(Fn_set_3) # A.append(B) computes the union of the function sets A and B."
   ]
  },
  {
   "cell_type": "markdown",
   "metadata": {
    "id": "n4e7zKDW-5dz"
   },
   "source": [
    "Mathematically, Fn_set represents the function set\n",
    "$$\n",
    "\\{ f_i(\\cdot , k): \\text{for } i=1,2,3 \\text{ and } k\\in [0,6] \\}.\n",
    "$$"
   ]
  },
  {
   "cell_type": "markdown",
   "metadata": {
    "id": "fM4ALPl13dQW"
   },
   "source": [
    "## Step 2: Define point samplers\n",
    "As in the PINN tutorials we need to define samplers for the ODE condtion and the initial condition."
   ]
  },
  {
   "cell_type": "code",
   "execution_count": 81,
   "metadata": {
    "id": "QVYBUZM0AEjL"
   },
   "outputs": [],
   "source": [
    "sampler_ode_condition = tp.samplers.RandomUniformSampler(T_interval, 1000)\n",
    "\n",
    "sampler_initial_condition = tp.samplers.RandomUniformSampler(T_interval.boundary_left, 500)"
   ]
  },
  {
   "cell_type": "markdown",
   "metadata": {},
   "source": [
    "During the training, functions from the functions set \"Fn_set\" need to be selected/sampled. This is done by a \"FunctionSamplerRandomUniform\", which randomly selects functions from the function set."
   ]
  },
  {
   "cell_type": "code",
   "execution_count": 82,
   "metadata": {},
   "outputs": [],
   "source": [
    "# Each time the function sampler is called, we want to randomly select n_functions=5000 functions from the function set Fn_set.\n",
    "# Once created, it may be beneficial to reuse these functions for the next 100 calls of the function sampler before generating new ones\n",
    "# This can simply be achieved by setting specify function_creation_interval=100.\n",
    "function_sampler = tp.samplers.FunctionSamplerRandomUniform(\n",
    "    n_functions=5000, \n",
    "    function_set=Fn_set, \n",
    "    function_creation_interval=100\n",
    "    )"
   ]
  },
  {
   "cell_type": "markdown",
   "metadata": {
    "id": "HOJ31RPpAYd7"
   },
   "source": [
    "## Step 3: Define residual functions\n",
    "Similar to $u$, the parameter function $f$ occuring in the ODE condition will already have been sampled when the residual functions are called. Therefore, we define the residual functions as:"
   ]
  },
  {
   "cell_type": "code",
   "execution_count": 83,
   "metadata": {
    "id": "qhtoY7msAffq"
   },
   "outputs": [],
   "source": [
    "def residual_ode_condition(u, t, f):\n",
    "    return tp.utils.grad(u, t) - f\n",
    "\n",
    "def residual_initial_condition(u):\n",
    "    return u"
   ]
  },
  {
   "cell_type": "markdown",
   "metadata": {
    "id": "PWt7y2vLA2wK"
   },
   "source": [
    "\n",
    "## Step 4: Define DeepONet\n",
    "\n",
    "The branch net in TorchPhysics needs to know the function space the parameter functions $f$ belong to. Further, it needs to know the points $t_1,.,,,t_k$ at which these $f$ are to be sampled. As mentioned in the recall, these sampling points should be fixed and never changed. These sampling points, called \"time_grid\" below, can just be obtained by for example a GridSampler and using the\"sample_points()\" method."
   ]
  },
  {
   "cell_type": "code",
   "execution_count": 84,
   "metadata": {
    "id": "hTW3VG7iYLBh"
   },
   "outputs": [],
   "source": [
    "# Branch net\n",
    "time_grid = tp.samplers.GridSampler(T_interval, 30).sample_points()\n",
    "# We choose a fully connected network for the branch net, in TorchPhysics: FCBranchNet(...)\n",
    "branch_net = tp.models.FCBranchNet(Fn_space, hidden=(20, 20), grid=time_grid)"
   ]
  },
  {
   "cell_type": "markdown",
   "metadata": {
    "id": "F_nMeGdYD1rd"
   },
   "source": [
    "Also for the trunk net we choose a fully connected network."
   ]
  },
  {
   "cell_type": "code",
   "execution_count": 85,
   "metadata": {
    "id": "d1PDR5qIDdmr"
   },
   "outputs": [],
   "source": [
    "trunk_net = tp.models.FCTrunkNet(T, hidden=(10, 10), default_trunk_input=time_grid)"
   ]
  },
  {
   "cell_type": "markdown",
   "metadata": {
    "id": "_RFcpvASD-qy"
   },
   "source": [
    "The constructor of the DeepONet receives just the trunk net, the branch net, the output space of the solution functions $u_f$, as well as the output dimension $n$ of the branch and trunk nets. We set the output dimension to $30$. Having a look at the DeepONet recall again, this means that the DeepONet can represent a function vector space of dimension $\\leq 30$."
   ]
  },
  {
   "cell_type": "code",
   "execution_count": 86,
   "metadata": {
    "id": "HgFlwDuBD9aT"
   },
   "outputs": [],
   "source": [
    "deeponet = tp.models.DeepONet(trunk_net, branch_net, output_space=U, output_neurons=30)"
   ]
  },
  {
   "cell_type": "markdown",
   "metadata": {
    "id": "yCeOL7jFA9sr"
   },
   "source": [
    "## Step 5: Create TorchPhysics Conditions\n",
    "Almost done: We only need to define the TorchPhysics conditions for the ODE and initial condition. Since the DeepONet is to be trained physics-informed, we need to define PIDeepONetConditions.\n",
    "The main inputs for the constructor of such a condition are:\n",
    "- deeponet_model: the model that should be trained on this condition;\n",
    "- branch_function_sampler: the function sampler that generates functions $f_i$ as inputs of the branch net;\n",
    "- trunk_points_sampler: samples points at which the ode condition should be satisfied. These are fed into the trunk networks;\n",
    "- residual_fn: residual function for the respective pde/ode condition."
   ]
  },
  {
   "cell_type": "code",
   "execution_count": 87,
   "metadata": {
    "id": "jOUqZr8vYLBi"
   },
   "outputs": [],
   "source": [
    "# Conditions for the ODE problem\n",
    "ode_condition = tp.conditions.PIDeepONetCondition(deeponet_model=deeponet,\n",
    "                                                  branch_function_sampler=function_sampler,\n",
    "                                                  trunk_points_sampler=sampler_ode_condition,\n",
    "                                                  residual_fn=residual_ode_condition)\n",
    "# Note: If logging via Tensorboard is desired, just add name='ode_condition' as an input of the PIDeepONetCondition. Works also for all other conditions, such as PINNCondition. \n",
    "\n",
    "initial_condition = tp.conditions.PIDeepONetCondition(deeponet_model=deeponet,\n",
    "                                                      branch_function_sampler=function_sampler,\n",
    "                                                      trunk_points_sampler=sampler_initial_condition,\n",
    "                                                      residual_fn=residual_initial_condition)"
   ]
  },
  {
   "cell_type": "markdown",
   "metadata": {
    "id": "7ImcV0W8BZxj"
   },
   "source": [
    "# Training"
   ]
  },
  {
   "cell_type": "code",
   "execution_count": 88,
   "metadata": {
    "colab": {
     "base_uri": "https://localhost:8080/",
     "height": 344,
     "referenced_widgets": [
      "eab3e0cf876e42a9bd7118bbf01417b3",
      "1fbef4dff38943dd9334bcf8f98b9025",
      "96df4b367e0147b4b0873178c2c6ddee",
      "febbf813f7344eea93d68337a3fb3ce4",
      "accbf70574ba461ea61bb62e4e649841",
      "bf5c85326d0746f1a75f5ba124b04b2b",
      "42e76e3b8ed3484f92869e7253b6f65b",
      "035d64de4ffe4480a693d787e4cf3372",
      "b63aa5f44deb4e35bcc74e26f581bb08",
      "bea3f5a98c8d4a3a97b8b946e0cd4d57",
      "d12decf7d62840b79bc0dd22184d2260",
      "cd63d468874441ada619c005aea50780",
      "c18d459cfb3e4e158e7f2944b667144e",
      "40845e140d324680a70af6ff099c5fd0",
      "539d5cad38824eaca6c808263ff39248",
      "2bb0e93f1fcc4557a9e28acbfb1ca5ff",
      "0b5a790579e3404680f9e0eee3a8cff2",
      "cd11a8ea139a42249b0907737559a3ad",
      "0d2180d103794cc8a90a46884fc402cc",
      "e72a8bd17e234b979a6423515ec8676d",
      "392f12bd38d54b40a0a06309f3ddd7fd",
      "e91087442a97426892598e42e19a0368"
     ]
    },
    "id": "CmoY6mXyYLBj",
    "outputId": "e309c69b-b892-4a69-9f5c-f2bae80bfbf2",
    "tags": [
     "outputPrepend"
    ]
   },
   "outputs": [
    {
     "name": "stderr",
     "output_type": "stream",
     "text": [
      "GPU available: True (cuda), used: True\n",
      "TPU available: False, using: 0 TPU cores\n",
      "HPU available: False, using: 0 HPUs\n",
      "/home/s_e8mv8u/anaconda3/envs/torchphysics/lib/python3.9/site-packages/pytorch_lightning/callbacks/model_checkpoint.py:654: Checkpoint directory /home/s_e8mv8u/PhD/torchphysics/examples/tutorial/checkpoints exists and is not empty.\n",
      "LOCAL_RANK: 0 - CUDA_VISIBLE_DEVICES: [0,1,2,3,4,5,6,7]\n",
      "\n",
      "  | Name             | Type       | Params | Mode \n",
      "--------------------------------------------------------\n",
      "0 | train_conditions | ModuleList | 2.1 K  | train\n",
      "1 | val_conditions   | ModuleList | 0      | train\n",
      "--------------------------------------------------------\n",
      "2.1 K     Trainable params\n",
      "0         Non-trainable params\n",
      "2.1 K     Total params\n",
      "0.009     Total estimated model params size (MB)\n",
      "19        Modules in train mode\n",
      "0         Modules in eval mode\n",
      "/home/s_e8mv8u/anaconda3/envs/torchphysics/lib/python3.9/site-packages/pytorch_lightning/trainer/connectors/data_connector.py:424: The 'train_dataloader' does not have many workers which may be a bottleneck. Consider increasing the value of the `num_workers` argument` to `num_workers=254` in the `DataLoader` to improve performance.\n",
      "/home/s_e8mv8u/anaconda3/envs/torchphysics/lib/python3.9/site-packages/pytorch_lightning/trainer/connectors/data_connector.py:424: The 'val_dataloader' does not have many workers which may be a bottleneck. Consider increasing the value of the `num_workers` argument` to `num_workers=254` in the `DataLoader` to improve performance.\n"
     ]
    },
    {
     "data": {
      "application/vnd.jupyter.widget-view+json": {
       "model_id": "d791360d7f534d47812c177e26757678",
       "version_major": 2,
       "version_minor": 0
      },
      "text/plain": [
       "Training: |          | 0/? [00:00<?, ?it/s]"
      ]
     },
     "metadata": {},
     "output_type": "display_data"
    },
    {
     "name": "stderr",
     "output_type": "stream",
     "text": [
      "/home/s_e8mv8u/PhD/torchphysics/src/torchphysics/problem/domains/functionsets/functionset_operations.py:129: UserWarning: To copy construct from a tensor, it is recommended to use sourceTensor.clone().detach() or sourceTensor.clone().detach().requires_grad_(True), rather than torch.tensor(sourceTensor).\n",
      "  self.current_idx = torch.tensor(idx, dtype=torch.long, device=self.device)\n"
     ]
    },
    {
     "data": {
      "application/vnd.jupyter.widget-view+json": {
       "model_id": "0cf28101b79d4e96ad164253274fb535",
       "version_major": 2,
       "version_minor": 0
      },
      "text/plain": [
       "Validation: |          | 0/? [00:00<?, ?it/s]"
      ]
     },
     "metadata": {},
     "output_type": "display_data"
    },
    {
     "name": "stderr",
     "output_type": "stream",
     "text": [
      "`Trainer.fit` stopped: `max_steps=5000` reached.\n"
     ]
    }
   ],
   "source": [
    "optim = tp.OptimizerSetting(optimizer_class=torch.optim.Adam, lr=0.0005)\n",
    "\n",
    "solver = tp.solver.Solver([ode_condition, initial_condition], optimizer_setting=optim)\n",
    "\n",
    "trainer = pl.Trainer(devices=1, accelerator=\"gpu\",\n",
    "                     num_sanity_val_steps=0,\n",
    "                     benchmark=True,\n",
    "                     max_steps=5000, \n",
    "                     logger=False)\n",
    "\n",
    "trainer.fit(solver)"
   ]
  },
  {
   "cell_type": "markdown",
   "metadata": {
    "id": "y_5EIjw5F7tU"
   },
   "source": [
    "# Comparison with ground truth"
   ]
  },
  {
   "cell_type": "code",
   "execution_count": 89,
   "metadata": {
    "colab": {
     "base_uri": "https://localhost:8080/",
     "height": 470
    },
    "id": "ce9-QZcAYLBl",
    "outputId": "6e2106e9-b43b-4264-d253-bbd345499537"
   },
   "outputs": [
    {
     "data": {
      "image/png": "[encoded data removed]",
      "text/plain": [
       "<Figure size 640x480 with 1 Axes>"
      ]
     },
     "metadata": {},
     "output_type": "display_data"
    }
   ],
   "source": [
    "import matplotlib.pyplot as plt\n",
    "\n",
    "k0 = 1.16\n",
    "def f(t):\n",
    "    return k0 * t**2\n",
    "\n",
    "def F(t): # ground truth solution u_f\n",
    "    return k0/3.0 * t**3\n",
    "\n",
    "deeponet.fix_branch_input(f)\n",
    "grid_sampler = tp.samplers.GridSampler(T_interval, 500)\n",
    "grid_points = grid_sampler.sample_points().as_tensor\n",
    "out = deeponet(tp.spaces.Points(grid_points, T)).as_tensor.detach()[0]\n",
    "\n",
    "grid_p = grid_points\n",
    "plt.plot(grid_p, out)\n",
    "plt.plot(grid_p, F(grid_p))\n",
    "plt.grid()\n",
    "plt.legend(['Network output', 'Analytical solution'])\n",
    "plt.show()"
   ]
  },
  {
   "cell_type": "code",
   "execution_count": 90,
   "metadata": {
    "colab": {
     "base_uri": "https://localhost:8080/",
     "height": 447
    },
    "id": "5lqtQM9WYLBl",
    "outputId": "24c26ba5-8390-48ef-b2e4-27f6f5b84aca"
   },
   "outputs": [
    {
     "data": {
      "image/png": "[encoded data removed]",
      "text/plain": [
       "<Figure size 640x480 with 1 Axes>"
      ]
     },
     "metadata": {},
     "output_type": "display_data"
    }
   ],
   "source": [
    "k0 = 2.14\n",
    "def f(t):\n",
    "    return k0 * torch.cos(k0*t)\n",
    "\n",
    "def F(t): # ground truth solution u_f\n",
    "    return torch.sin(k0*t)\n",
    "\n",
    "deeponet.fix_branch_input(f)\n",
    "grid_sampler = tp.samplers.GridSampler(T_interval, 500)\n",
    "grid_points = grid_sampler.sample_points().as_tensor\n",
    "out = deeponet(tp.spaces.Points(grid_points, T)).as_tensor.detach()[0]\n",
    "\n",
    "grid_p = grid_points\n",
    "plt.plot(grid_p, out)\n",
    "plt.plot(grid_p, F(grid_p))\n",
    "plt.grid()\n",
    "plt.legend(['Network output', 'Analytical solution'])\n",
    "plt.show()"
   ]
  },
  {
   "cell_type": "code",
   "execution_count": null,
   "metadata": {},
   "outputs": [],
   "source": []
  }
 ],
 "metadata": {
  "accelerator": "GPU",
  "colab": {
   "gpuType": "T4",
   "provenance": []
  },
  "kernelspec": {
   "display_name": "torchphysics",
   "language": "python",
   "name": "python3"
  },
  "language_info": {
   "codemirror_mode": {
    "name": "ipython",
    "version": 3
   },
   "file_extension": ".py",
   "mimetype": "text/x-python",
   "name": "python",
   "nbconvert_exporter": "python",
   "pygments_lexer": "ipython3",
   "version": "3.9.20"
  }
 },
 "nbformat": 4,
 "nbformat_minor": 0
}
