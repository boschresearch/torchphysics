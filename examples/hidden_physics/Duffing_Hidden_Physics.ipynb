{
 "cells": [
  {
   "cell_type": "markdown",
   "id": "7671ba59",
   "metadata": {},
   "source": [
    "# Deep Hidden Physics Model "
   ]
  },
  {
   "cell_type": "markdown",
   "id": "dd5108eb",
   "metadata": {},
   "source": [
    "### Example-2 "
   ]
  },
  {
   "cell_type": "markdown",
   "id": "98991643",
   "metadata": {},
   "source": [
    "## Duffing oscillator "
   ]
  },
  {
   "cell_type": "markdown",
   "id": "e9766cbf",
   "metadata": {},
   "source": [
    "$\\normalsize{Governing \\ Equation}$ "
   ]
  },
  {
   "cell_type": "markdown",
   "id": "2decc272",
   "metadata": {},
   "source": [
    "$ \\large{\\frac{d^2x}{dt^2} + \\delta \\frac{dx}{dt} + \\alpha x + \\beta x^3 = \\gamma cos(\\omega t)}; \\ \\normalsize{for \\ t \\in [0,T]} $"
   ]
  },
  {
   "cell_type": "markdown",
   "id": "cb959d7a",
   "metadata": {},
   "source": [
    "$\\delta$  $\\rightarrow$ controls the amount of damping,   \n",
    "$\\alpha$ $\\rightarrow$ controls the linear stiffness,   \n",
    "$\\beta$ $\\rightarrow$ controls the amount of non-linearity in the restoring force,  \n",
    "$\\gamma$ $\\rightarrow$ amplitude of the periodic driving force  \n",
    "$\\omega$ $\\rightarrow$ the angular frequency of driving force."
   ]
  },
  {
   "cell_type": "markdown",
   "id": "6e776690",
   "metadata": {},
   "source": [
    "The equation of motion can be written in terms of displacement $(x)$ and velocity $(v)$ as,"
   ]
  },
  {
   "cell_type": "markdown",
   "id": "740c8186",
   "metadata": {},
   "source": [
    "$ \\large{\\frac{dx}{dt} = v}; \\\\ \\large{\\frac{dv}{dt} = - \\delta v - \\alpha x - \\beta x^3 + \\gamma cos(\\omega t)}; $"
   ]
  },
  {
   "cell_type": "markdown",
   "id": "c9ed1337",
   "metadata": {},
   "source": [
    "We consider the governing equation of system is partially known, Our objective is to identify the remaining terms in equation using ${Deep \\ Hidden \\ Physics \\ Model}$. \n",
    "We approximate the solution $(x, v)$ by a neural network and the remaining unknown terms in equation by a second neural network $\\mathcal{N}$."
   ]
  },
  {
   "cell_type": "markdown",
   "id": "c444f64e",
   "metadata": {},
   "source": [
    "We can rewrite equations in the form,"
   ]
  },
  {
   "cell_type": "markdown",
   "id": "cce00332",
   "metadata": {},
   "source": [
    "$ \\large{\\frac{dx}{dt} = v}; \\\\ \\large{\\frac{dv}{dt} = \\mathcal{N}(t,x,v) + \\gamma cos(\\omega t)}; $"
   ]
  },
  {
   "cell_type": "markdown",
   "id": "d3466754",
   "metadata": {},
   "source": [
    "## Importing Libraries"
   ]
  },
  {
   "cell_type": "code",
   "execution_count": null,
   "id": "33625585",
   "metadata": {},
   "outputs": [],
   "source": [
    "import os\n",
    "os.environ[\"CUDA_VISIBLE_DEVICES\"] = \"0\" "
   ]
  },
  {
   "cell_type": "code",
   "execution_count": null,
   "id": "76867067",
   "metadata": {},
   "outputs": [],
   "source": [
    "import torchphysics as tp\n",
    "import numpy as np\n",
    "import torch\n",
    "import pytorch_lightning as pl\n",
    "from scipy.integrate import odeint\n",
    "from matplotlib import pyplot as plt\n",
    "import sys\n",
    "from torchphysics.problem.conditions.condition import  DataCondition, HPM_EquationLoss_at_Sampler"
   ]
  },
  {
   "cell_type": "code",
   "execution_count": null,
   "id": "006416e3",
   "metadata": {},
   "outputs": [],
   "source": [
    "os.environ[\"KMP_DUPLICATE_LIB_OK\"]=\"TRUE\"\n",
    "print('__Python VERSION:', sys.version)\n",
    "print('__pyTorch VERSION:', torch.__version__)\n",
    "print('__CUDA VERSION')\n",
    "print('__CUDNN VERSION:', torch.backends.cudnn.version())\n",
    "print('__Number CUDA Devices:', torch.cuda.device_count())\n",
    "print('__Devices')\n",
    "print('Active CUDA Device: GPU', torch.cuda.current_device())\n",
    "print ('Available devices ', torch.cuda.device_count())\n",
    "print ('Current cuda device ', torch.cuda.current_device())\n",
    "\n",
    "RANDOM_SEED = 2308\n",
    "np.random.seed(RANDOM_SEED)"
   ]
  },
  {
   "cell_type": "markdown",
   "id": "bb92d41d",
   "metadata": {},
   "source": [
    "## Data Generation"
   ]
  },
  {
   "cell_type": "markdown",
   "id": "f8a45a82",
   "metadata": {},
   "source": [
    "### Defining equations to solver"
   ]
  },
  {
   "cell_type": "code",
   "execution_count": null,
   "id": "0e352416",
   "metadata": {},
   "outputs": [],
   "source": [
    "def equation_of_motion(s, t, delta, alpha, beta, gamma, Omega):\n",
    "\n",
    "    x, v = s # position, velocity\n",
    "        \n",
    "    ds_dt = [v, -delta*v - alpha*x - beta*x**3 + gamma*np.cos(Omega*t)] # governing equations\n",
    "\n",
    "    return ds_dt"
   ]
  },
  {
   "cell_type": "code",
   "execution_count": null,
   "id": "0e441233",
   "metadata": {},
   "outputs": [],
   "source": [
    "# ---- control parameters -----\n",
    "\n",
    "delta = 0.3\n",
    "Omega = 1.2\n",
    "alpha = -1.0\n",
    "beta  = 1.0\n",
    "gamma = 0.2\n",
    "\n",
    "# ---- initial condition ----\n",
    "\n",
    "s_initial = [1.0, 0.] # [x initial, v initial]\n",
    "\n",
    "# ------ solver -------\n",
    "\n",
    "t_final = 10*np.pi/Omega # simulation time\n",
    "dt =  0.01 # time step for solver\n",
    "t =  np.arange(0.0,t_final + dt,dt) "
   ]
  },
  {
   "cell_type": "code",
   "execution_count": null,
   "id": "29970716",
   "metadata": {},
   "outputs": [],
   "source": [
    "soln = odeint(equation_of_motion,s_initial,t, args=(delta, alpha, beta, gamma, Omega))        "
   ]
  },
  {
   "cell_type": "code",
   "execution_count": null,
   "id": "e727e920",
   "metadata": {},
   "outputs": [],
   "source": [
    "x_soln = soln[:,0]\n",
    "v_soln = soln[:,1]"
   ]
  },
  {
   "cell_type": "code",
   "execution_count": null,
   "id": "8efe62e0",
   "metadata": {},
   "outputs": [],
   "source": [
    "plt.figure(figsize=(15,4))\n",
    "plt.plot(t, x_soln, 'b', label='$x$')\n",
    "plt.plot(t, v_soln, 'g', label='$v$')\n",
    "plt.xlim(t.min(),t.max())\n",
    "plt.legend(fontsize=14)\n",
    "plt.xlabel('$t$',fontsize=14)\n",
    "plt.xticks(fontsize=14)\n",
    "plt.yticks(fontsize=14)\n",
    "plt.title('Solution',fontsize=14)\n",
    "plt.grid('True')\n",
    "plt.show()"
   ]
  },
  {
   "cell_type": "markdown",
   "id": "6e05515c",
   "metadata": {},
   "source": [
    "### Training data "
   ]
  },
  {
   "cell_type": "code",
   "execution_count": null,
   "id": "1fbfc12c",
   "metadata": {},
   "outputs": [],
   "source": [
    "t_tensor = torch.tensor(t,dtype=torch.float32).reshape(-1,1)\n",
    "x_tensor = torch.tensor(x_soln,dtype=torch.float32).reshape(-1,1)\n",
    "v_tensor = torch.tensor(v_soln,dtype=torch.float32).reshape(-1,1)\n",
    "\n",
    "data_tensor = torch.cat((t_tensor,x_tensor, v_tensor),axis=1) # Reference values for t , x, v\n"
   ]
  },
  {
   "cell_type": "code",
   "execution_count": null,
   "id": "3e845ad2",
   "metadata": {},
   "outputs": [],
   "source": [
    "# ------  Training data  -----------\n",
    "\n",
    "train_points = 100 # no of training data points\n",
    "coll_points = 1000 # no of collocation points to constrain ODE/PDE residual "
   ]
  },
  {
   "cell_type": "code",
   "execution_count": null,
   "id": "4c8b20e4",
   "metadata": {},
   "outputs": [],
   "source": [
    "idx = np.random.choice(len(t), train_points, replace=False)\n",
    "data_train_tensor = data_tensor[idx]"
   ]
  },
  {
   "cell_type": "code",
   "execution_count": null,
   "id": "c6870301",
   "metadata": {},
   "outputs": [],
   "source": [
    "plt.figure(figsize=(15,4))\n",
    "plt.plot(t, x_soln, 'b', label='$x$')\n",
    "plt.plot(t, v_soln, 'g', label='$v$')\n",
    "plt.scatter(data_train_tensor[:,0],data_train_tensor[:,1],c='b',label='$x_{train}$')\n",
    "plt.scatter(data_train_tensor[:,0],data_train_tensor[:,2],c='g',label='$v_{train}$')\n",
    "plt.xlim(t.min(),t.max())\n",
    "plt.legend(fontsize=14)\n",
    "plt.xlabel('$t$',fontsize=14)\n",
    "plt.xticks(fontsize=14)\n",
    "plt.yticks(fontsize=14)\n",
    "plt.title('Training data points',fontsize=14)\n",
    "plt.grid('True')\n",
    "plt.show()"
   ]
  },
  {
   "cell_type": "markdown",
   "id": "1c63a65e",
   "metadata": {},
   "source": [
    "### Defining input-output spaces "
   ]
  },
  {
   "cell_type": "code",
   "execution_count": null,
   "id": "35701405",
   "metadata": {},
   "outputs": [],
   "source": [
    "T = tp.spaces.R1('t') # input space (t)\n",
    "X = tp.spaces.R1('x') # x space\n",
    "V = tp.spaces.R1('v') # v space\n",
    "S =  tp.spaces.R2('s')# output space (x,v)\n",
    "N_phy = tp.spaces.R1('N') # hidden physics output space"
   ]
  },
  {
   "cell_type": "code",
   "execution_count": null,
   "id": "6b49f983",
   "metadata": {},
   "outputs": [],
   "source": [
    "# --------- neural net solution -----------\n",
    "input_space_sol = T\n",
    "output_space_sol = S\n",
    "# ---------- neural net hidden physics ---------\n",
    "input_space_hid_phy = T*X*V # input to hidden network are (t, x, v)\n",
    "output_space_hid_phy = N_phy\n"
   ]
  },
  {
   "cell_type": "markdown",
   "id": "b7c49026",
   "metadata": {},
   "source": [
    "### Sampling collocation points "
   ]
  },
  {
   "cell_type": "code",
   "execution_count": null,
   "id": "41176a8c",
   "metadata": {},
   "outputs": [],
   "source": [
    "T_domain = tp.domains.Interval(space = T, lower_bound=t.min(), upper_bound=t.max())"
   ]
  },
  {
   "cell_type": "code",
   "execution_count": null,
   "id": "2c7d8636",
   "metadata": {},
   "outputs": [],
   "source": [
    "domain_sampler = tp.samplers.RandomUniformSampler(T_domain, n_points=coll_points)\n",
    "#plot  = tp.utils.scatter(T, domain_sampler)"
   ]
  },
  {
   "cell_type": "markdown",
   "id": "7883da3c",
   "metadata": {},
   "source": [
    "### neural net solution "
   ]
  },
  {
   "cell_type": "code",
   "execution_count": null,
   "id": "f8b84f42",
   "metadata": {},
   "outputs": [],
   "source": [
    "normalization_layer = tp.models.NormalizationLayer(T_domain)\n",
    "fcn_layer_sol = tp.models.FCN(input_space=input_space_sol,output_space=output_space_sol, hidden = (64,64,64))\n",
    "model_sol = tp.models.Sequential(normalization_layer, fcn_layer_sol)"
   ]
  },
  {
   "cell_type": "code",
   "execution_count": null,
   "id": "3716d750",
   "metadata": {},
   "outputs": [],
   "source": [
    "device = 'cuda' if torch.cuda.is_available() else 'cpu'"
   ]
  },
  {
   "cell_type": "markdown",
   "id": "ac90af8a",
   "metadata": {},
   "source": [
    "### data condition "
   ]
  },
  {
   "cell_type": "code",
   "execution_count": null,
   "id": "aafe7747",
   "metadata": {},
   "outputs": [],
   "source": [
    "input_train = tp.spaces.Points(torch.column_stack([data_train_tensor[:,0:1]]),input_space_sol)\n",
    "output_train = tp.spaces.Points(torch.column_stack([data_train_tensor[:,1:3]]),output_space_sol)"
   ]
  },
  {
   "cell_type": "code",
   "execution_count": null,
   "id": "d74ffd89",
   "metadata": {},
   "outputs": [],
   "source": [
    "batch_size_data = len(input_train)\n",
    "\n",
    "data_loader = tp.utils.PointsDataLoader((input_train, output_train), batch_size = batch_size_data,shuffle  = False, pin_memory = True)\n",
    "\n",
    "data_condition = DataCondition(module=model_sol,\n",
    "                               dataloader=data_loader, \n",
    "                               norm=2,\n",
    "                               use_full_dataset=False, \n",
    "                               name=\"Data_Condition\",\n",
    "                               weight = 1)\n",
    "                                                        "
   ]
  },
  {
   "cell_type": "markdown",
   "id": "f9755dde",
   "metadata": {},
   "source": [
    "### neural net hidden physics "
   ]
  },
  {
   "cell_type": "code",
   "execution_count": null,
   "id": "53af4961",
   "metadata": {},
   "outputs": [],
   "source": [
    "fcn_layer_hid_phy = tp.models.FCN(input_space=input_space_hid_phy,output_space=output_space_hid_phy,hidden = (128,128))\n",
    "model_hidden_phy = tp.models.Sequential(fcn_layer_hid_phy)"
   ]
  },
  {
   "cell_type": "code",
   "execution_count": null,
   "id": "5c5fd3b0",
   "metadata": {},
   "outputs": [],
   "source": [
    "def hiddenPhysics(t,s):\n",
    "    \n",
    "    x, v = s[:,0:1], s[:,1:2]\n",
    "    input_model_hid = tp.spaces.Points(torch.column_stack((t,x,v)), input_space_hid_phy) \n",
    "    output_model_hid = model_hidden_phy(input_model_hid)\n",
    "    \n",
    "    return output_model_hid.as_tensor\n",
    "\n",
    "\n",
    "def residual_equation(t):\n",
    "    \n",
    "    s = model_sol(tp.spaces.Points(t, T))\n",
    "    s = s.as_tensor \n",
    "    output_hid_phy = hiddenPhysics(t,s)\n",
    "    x = s[:,0:1]\n",
    "    v = s[:,1:2]\n",
    "    grad_x_t = tp.utils.grad(x, t) \n",
    "    grad_v_t = tp.utils.grad(v, t) \n",
    "    residual_x =  grad_x_t - v\n",
    "    residual_v = grad_v_t - output_hid_phy - gamma*torch.cos(Omega*t) \n",
    "\n",
    "    return torch.column_stack((residual_x,residual_v))\n",
    "\n"
   ]
  },
  {
   "cell_type": "markdown",
   "id": "641bfe5b",
   "metadata": {},
   "source": [
    "### hidden physics condition "
   ]
  },
  {
   "cell_type": "code",
   "execution_count": null,
   "id": "d2dbe9d4",
   "metadata": {},
   "outputs": [],
   "source": [
    "hidden_phy_condition =  HPM_EquationLoss_at_Sampler(module=model_hidden_phy,\n",
    "                                           sampler=domain_sampler,\n",
    "                                           residual_fn= residual_equation)"
   ]
  },
  {
   "cell_type": "markdown",
   "id": "cd4cfc7c",
   "metadata": {},
   "source": [
    "### Training model"
   ]
  },
  {
   "cell_type": "code",
   "execution_count": null,
   "id": "0b1e3e71",
   "metadata": {},
   "outputs": [],
   "source": [
    "training_conditions = [data_condition,hidden_phy_condition]\n",
    "optim = tp.OptimizerSetting(optimizer_class=torch.optim.Adam, lr=0.001)\n",
    "solver = tp.solver.Solver(train_conditions=training_conditions, optimizer_setting=optim)"
   ]
  },
  {
   "cell_type": "code",
   "execution_count": null,
   "id": "f81b5a0c",
   "metadata": {},
   "outputs": [],
   "source": [
    "epochs = 10000\n",
    "trainer = pl.Trainer(gpus=1, max_steps=epochs, logger=True,benchmark=True)\n",
    "trainer.fit(solver)"
   ]
  },
  {
   "cell_type": "code",
   "execution_count": null,
   "id": "bb6bb2c2",
   "metadata": {},
   "outputs": [],
   "source": [
    "def output_hidden_physics(t):\n",
    "    \n",
    "    s = model_sol(tp.spaces.Points(t, T))\n",
    "    s = s.as_tensor \n",
    "    output_hid_phy = hiddenPhysics(t,s)\n",
    "    \n",
    "    return output_hid_phy"
   ]
  },
  {
   "cell_type": "code",
   "execution_count": null,
   "id": "4bdf138c",
   "metadata": {},
   "outputs": [],
   "source": [
    "def output_solution(t):\n",
    "    \n",
    "    s = model_sol(tp.spaces.Points(t, T))\n",
    "    s = s.as_tensor \n",
    "    x = s[:,0:1]\n",
    "    v = s[:,1:2]\n",
    "    \n",
    "    return x, v"
   ]
  },
  {
   "cell_type": "markdown",
   "id": "dd65cb7a",
   "metadata": {},
   "source": [
    "### Predictions "
   ]
  },
  {
   "cell_type": "code",
   "execution_count": null,
   "id": "e196e53b",
   "metadata": {},
   "outputs": [],
   "source": [
    "hidden_phy_pred = output_hidden_physics(t_tensor)\n",
    "x_pred, v_pred  = output_solution(t_tensor)"
   ]
  },
  {
   "cell_type": "code",
   "execution_count": null,
   "id": "7032315d",
   "metadata": {},
   "outputs": [],
   "source": [
    "hidden_phy_pred = hidden_phy_pred.detach().numpy()\n",
    "x_pred = x_pred.detach().numpy()\n",
    "v_pred = v_pred.detach().numpy()"
   ]
  },
  {
   "cell_type": "code",
   "execution_count": null,
   "id": "2c83fece",
   "metadata": {},
   "outputs": [],
   "source": [
    "def L2_ERROR(true_val,pred_val):\n",
    "    \n",
    "    return np.linalg.norm(true_val-pred_val,2)/np.linalg.norm(true_val,2)\n"
   ]
  },
  {
   "cell_type": "code",
   "execution_count": null,
   "id": "a4ea0601",
   "metadata": {},
   "outputs": [],
   "source": [
    "l2_error_x = L2_ERROR(x_soln.flatten(),x_pred.flatten())\n",
    "l2_error_v = L2_ERROR(v_soln.flatten(),v_pred.flatten())"
   ]
  },
  {
   "cell_type": "code",
   "execution_count": null,
   "id": "00c18379",
   "metadata": {},
   "outputs": [],
   "source": [
    "print('L2 error x : ',l2_error_x)\n",
    "print('L2 error v : ',l2_error_v)"
   ]
  },
  {
   "cell_type": "code",
   "execution_count": null,
   "id": "b73267ee",
   "metadata": {},
   "outputs": [],
   "source": [
    "plt.figure(figsize=(15,4))\n",
    "plt.plot(t,x_soln.flatten(),label='$x: True$')\n",
    "plt.plot(t,x_pred.flatten(),label='$x: Pred$')\n",
    "plt.xlim(t.min(),t.max())\n",
    "plt.legend(fontsize=14)\n",
    "plt.xlabel('$t$',fontsize=14)\n",
    "plt.xticks(fontsize=14)\n",
    "plt.yticks(fontsize=14)\n",
    "plt.title('Position Prediction',fontsize=14)\n",
    "plt.grid('True')\n",
    "plt.show()"
   ]
  },
  {
   "cell_type": "code",
   "execution_count": null,
   "id": "252f8cab",
   "metadata": {},
   "outputs": [],
   "source": [
    "plt.figure(figsize=(15,4))\n",
    "plt.plot(t,v_soln.flatten(),label='$v: True$')\n",
    "plt.plot(t,v_pred.flatten(),label='$v: Pred$')\n",
    "plt.xlim(t.min(),t.max())\n",
    "plt.legend(fontsize=14)\n",
    "plt.xlabel('$t$',fontsize=14)\n",
    "plt.xticks(fontsize=14)\n",
    "plt.yticks(fontsize=14)\n",
    "plt.title('Velocity Prediction',fontsize=14)\n",
    "plt.grid('True')\n",
    "plt.show()"
   ]
  },
  {
   "cell_type": "code",
   "execution_count": null,
   "id": "cae4e743",
   "metadata": {},
   "outputs": [],
   "source": [
    "actual_phy =  -delta*v_soln - alpha*x_soln - beta*x_soln**3"
   ]
  },
  {
   "cell_type": "code",
   "execution_count": null,
   "id": "b12e411e",
   "metadata": {},
   "outputs": [],
   "source": [
    "plt.figure(figsize=(15,4))\n",
    "plt.plot(t,actual_phy.flatten(),label='$\\mathcal{N}: True$')\n",
    "plt.plot(t,hidden_phy_pred.flatten(),label='$\\mathcal{N}: Pred$')\n",
    "plt.xlim(t.min(),t.max())\n",
    "plt.legend(fontsize=14)\n",
    "plt.xlabel('$t$',fontsize=14)\n",
    "plt.xticks(fontsize=14)\n",
    "plt.yticks(fontsize=14)\n",
    "plt.title('Hidden Physics Prediction',fontsize=14)\n",
    "plt.grid('True')\n",
    "plt.show()"
   ]
  },
  {
   "cell_type": "markdown",
   "id": "d720ece7",
   "metadata": {},
   "source": [
    "$\\large{ \\mathcal{N}(t,x,v) \\approx \\ - \\delta v - \\alpha x - \\beta x^3 }$"
   ]
  }
 ],
 "metadata": {
  "kernelspec": {
   "display_name": "Python [conda env:.conda-torchphysics]",
   "language": "python",
   "name": "conda-env-.conda-torchphysics-py"
  },
  "language_info": {
   "codemirror_mode": {
    "name": "ipython",
    "version": 3
   },
   "file_extension": ".py",
   "mimetype": "text/x-python",
   "name": "python",
   "nbconvert_exporter": "python",
   "pygments_lexer": "ipython3",
   "version": "3.7.16"
  }
 },
 "nbformat": 4,
 "nbformat_minor": 5
}
