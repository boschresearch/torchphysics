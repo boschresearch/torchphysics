{
 "cells": [
  {
   "cell_type": "markdown",
   "metadata": {},
   "source": [
    "### Fourier Neural Operator (FNO): Solving a ODE for different right hand sides\n",
    "In this notebook, we present an introduction to the FNO [(paper)](https://arxiv.org/abs/2010.08895) utilities of TorchPhysics. \n",
    "As an example, we try to learn the integral operator of the ODE:\n",
    "\\begin{align*}\n",
    "    \\partial_t u(t) &= f(t), \\text{ in } [0, 1] \\\\\n",
    "    u(0) &= 0\n",
    "\\end{align*}\n",
    "for different functions $f$. "
   ]
  },
  {
   "cell_type": "code",
   "execution_count": 1,
   "metadata": {},
   "outputs": [],
   "source": [
    "import torch \n",
    "import torchphysics as tp\n",
    "import pytorch_lightning as pl"
   ]
  },
  {
   "cell_type": "markdown",
   "metadata": {},
   "source": [
    "First create the data set we need for training the network.\n",
    "Here we randomly create some oscillating functions and use an explicit euler to compute our training data."
   ]
  },
  {
   "cell_type": "code",
   "execution_count": 2,
   "metadata": {},
   "outputs": [],
   "source": [
    "N_batch = 5000 # Data in trainig set\n",
    "N_time = 100 # resolution of time (or space) interval\n",
    "dt = 1/N_time\n",
    "\n",
    "input_data = torch.zeros((N_batch, N_time, 1))\n",
    "random_data = torch.zeros((N_batch, 3))\n",
    "random_data[:, :1] = torch.randint(0, 24, (N_batch, 1))\n",
    "random_data[:, 1:2] = torch.randint(0, 12, (N_batch, 1))\n",
    "random_data[:, 2:] = torch.randint(0, 6, (N_batch, 1))\n",
    "\n",
    "output_data = torch.zeros((N_batch, N_time, 1))\n",
    "\n",
    "t = 0.0\n",
    "input_data[:, 0, 0] = torch.sin(t * random_data[:, 0]) + 0.5 * torch.cos(t * random_data[:, 1]) \\\n",
    "                        + 2.0 * torch.sin(t * random_data[:, 2])\n",
    "for i in range(1, N_time):\n",
    "    t += dt\n",
    "    input_data[:, i, 0] = torch.sin(t * random_data[:, 0]) + 0.5 * torch.cos(t * random_data[:, 1]) \\\n",
    "                        + 2.0 * torch.sin(t * random_data[:, 2])\n",
    "    output_data[:, i, 0] = output_data[:, i-1, 0] + dt * input_data[:, i, 0]"
   ]
  },
  {
   "cell_type": "markdown",
   "metadata": {},
   "source": [
    "In TorchPhysics we have to define the input and output space like always:"
   ]
  },
  {
   "cell_type": "code",
   "execution_count": 3,
   "metadata": {},
   "outputs": [],
   "source": [
    "F = tp.spaces.R1(\"f\")\n",
    "U = tp.spaces.R1(\"u\")"
   ]
  },
  {
   "cell_type": "markdown",
   "metadata": {},
   "source": [
    "Next we create the network that learns the mapping:"
   ]
  },
  {
   "cell_type": "code",
   "execution_count": 4,
   "metadata": {},
   "outputs": [],
   "source": [
    "hidden_channels = 8\n",
    "\n",
    "model = tp.models.FNO(F, U, \n",
    "                      fourier_layers=3, \n",
    "                      hidden_channels=hidden_channels, \n",
    "                      fourier_modes=8, \n",
    "                      skip_connections=True, \n",
    "                      channel_down_sample_network=torch.nn.Sequential(\n",
    "                          torch.nn.Linear(hidden_channels, hidden_channels),\n",
    "                          torch.nn.Tanh(),\n",
    "                          torch.nn.Linear(hidden_channels, U.dim)\n",
    "                      ))"
   ]
  },
  {
   "cell_type": "markdown",
   "metadata": {},
   "source": [
    "Now we create a data condition to fit the FNO to the data."
   ]
  },
  {
   "cell_type": "code",
   "execution_count": 5,
   "metadata": {},
   "outputs": [],
   "source": [
    "# Transform data to points\n",
    "input_data_points = tp.spaces.Points(input_data, F)\n",
    "output_data_points = tp.spaces.Points(output_data, U)\n",
    "\n",
    "dataloader = tp.utils.PointsDataLoader((input_data_points, output_data_points),\n",
    "                                       batch_size=N_batch)\n",
    "\n",
    "data_condition = tp.conditions.DataCondition(model, dataloader, norm=2)"
   ]
  },
  {
   "cell_type": "markdown",
   "metadata": {},
   "source": [
    "Start training:"
   ]
  },
  {
   "cell_type": "code",
   "execution_count": 6,
   "metadata": {},
   "outputs": [
    {
     "name": "stderr",
     "output_type": "stream",
     "text": [
      "GPU available: True (cuda), used: True\n",
      "TPU available: False, using: 0 TPU cores\n",
      "IPU available: False, using: 0 IPUs\n",
      "HPU available: False, using: 0 HPUs\n",
      "You are using a CUDA device ('GeForce RTX 3090') that has Tensor Cores. To properly utilize them, you should set `torch.set_float32_matmul_precision('medium' | 'high')` which will trade-off precision for performance. For more details, read https://pytorch.org/docs/stable/generated/torch.set_float32_matmul_precision.html#torch.set_float32_matmul_precision\n",
      "LOCAL_RANK: 0 - CUDA_VISIBLE_DEVICES: [0,1,2,3,4,5,6]\n",
      "\n",
      "  | Name             | Type       | Params\n",
      "------------------------------------------------\n",
      "0 | train_conditions | ModuleList | 505   \n",
      "1 | val_conditions   | ModuleList | 0     \n",
      "------------------------------------------------\n",
      "505       Trainable params\n",
      "0         Non-trainable params\n",
      "505       Total params\n",
      "0.002     Total estimated model params size (MB)\n",
      "/home/tomfre/miniconda3/envs/tp_version2/lib/python3.11/site-packages/pytorch_lightning/trainer/connectors/data_connector.py:441: The 'train_dataloader' does not have many workers which may be a bottleneck. Consider increasing the value of the `num_workers` argument` to `num_workers=254` in the `DataLoader` to improve performance.\n",
      "/home/tomfre/miniconda3/envs/tp_version2/lib/python3.11/site-packages/pytorch_lightning/trainer/connectors/data_connector.py:441: The 'val_dataloader' does not have many workers which may be a bottleneck. Consider increasing the value of the `num_workers` argument` to `num_workers=254` in the `DataLoader` to improve performance.\n"
     ]
    },
    {
     "name": "stdout",
     "output_type": "stream",
     "text": [
      "Epoch 0: 100%|██████████| 5000/5000 [00:47<00:00, 104.95it/s, train/loss=0.00127] "
     ]
    },
    {
     "name": "stderr",
     "output_type": "stream",
     "text": [
      "`Trainer.fit` stopped: `max_steps=5000` reached.\n"
     ]
    },
    {
     "name": "stdout",
     "output_type": "stream",
     "text": [
      "Epoch 0: 100%|██████████| 5000/5000 [00:47<00:00, 104.95it/s, train/loss=0.00127]\n"
     ]
    }
   ],
   "source": [
    "optim = tp.OptimizerSetting(optimizer_class=torch.optim.Adam, lr=0.01)\n",
    "solver = tp.solver.Solver([data_condition], optimizer_setting=optim)\n",
    "\n",
    "trainer = pl.Trainer(devices=1, accelerator=\"gpu\",\n",
    "                     num_sanity_val_steps=0,\n",
    "                     benchmark=True,\n",
    "                     max_steps=5000, \n",
    "                     logger=False, \n",
    "                     enable_checkpointing=False)\n",
    "\n",
    "trainer.fit(solver)"
   ]
  },
  {
   "cell_type": "markdown",
   "metadata": {},
   "source": [
    "Decrease learning rate and fine tune some more:"
   ]
  },
  {
   "cell_type": "code",
   "execution_count": 7,
   "metadata": {},
   "outputs": [
    {
     "name": "stderr",
     "output_type": "stream",
     "text": [
      "GPU available: True (cuda), used: True\n",
      "TPU available: False, using: 0 TPU cores\n",
      "IPU available: False, using: 0 IPUs\n",
      "HPU available: False, using: 0 HPUs\n",
      "LOCAL_RANK: 0 - CUDA_VISIBLE_DEVICES: [0,1,2,3,4,5,6]\n"
     ]
    },
    {
     "name": "stderr",
     "output_type": "stream",
     "text": [
      "\n",
      "  | Name             | Type       | Params\n",
      "------------------------------------------------\n",
      "0 | train_conditions | ModuleList | 505   \n",
      "1 | val_conditions   | ModuleList | 0     \n",
      "------------------------------------------------\n",
      "505       Trainable params\n",
      "0         Non-trainable params\n",
      "505       Total params\n",
      "0.002     Total estimated model params size (MB)\n"
     ]
    },
    {
     "name": "stdout",
     "output_type": "stream",
     "text": [
      "Epoch 0: 100%|██████████| 10000/10000 [01:31<00:00, 108.78it/s, train/loss=0.000454]"
     ]
    },
    {
     "name": "stderr",
     "output_type": "stream",
     "text": [
      "`Trainer.fit` stopped: `max_steps=10000` reached.\n"
     ]
    },
    {
     "name": "stdout",
     "output_type": "stream",
     "text": [
      "Epoch 0: 100%|██████████| 10000/10000 [01:31<00:00, 108.78it/s, train/loss=0.000454]\n"
     ]
    }
   ],
   "source": [
    "optim = tp.OptimizerSetting(optimizer_class=torch.optim.Adam, lr=0.001)\n",
    "solver = tp.solver.Solver([data_condition], optimizer_setting=optim)\n",
    "\n",
    "trainer = pl.Trainer(devices=1, accelerator=\"gpu\",\n",
    "                     num_sanity_val_steps=0,\n",
    "                     benchmark=True,\n",
    "                     max_steps=10000, \n",
    "                     logger=False, \n",
    "                     enable_checkpointing=False)\n",
    "\n",
    "trainer.fit(solver)"
   ]
  },
  {
   "cell_type": "markdown",
   "metadata": {},
   "source": [
    "Next we test the network on unseen data. Therefore we create inputs as before and evaluate the model:"
   ]
  },
  {
   "cell_type": "code",
   "execution_count": 8,
   "metadata": {},
   "outputs": [
    {
     "name": "stdout",
     "output_type": "stream",
     "text": [
      "Relative error: 11.572426795959473 %\n"
     ]
    }
   ],
   "source": [
    "N_test = 100\n",
    "N_time = 100\n",
    "dt = 1/N_time\n",
    "\n",
    "test_data = torch.zeros((N_test, N_time, 1))\n",
    "output_data_test = torch.zeros((N_test, N_time, 1))\n",
    "\n",
    "random_data = torch.zeros((N_test, 3))\n",
    "random_data[:, :1] = torch.randint(0, 24, (N_test, 1))\n",
    "random_data[:, 1:2] = torch.randint(0, 12, (N_test, 1))\n",
    "random_data[:, 2:] = torch.randint(0, 6, (N_test, 1))\n",
    "\n",
    "t = 0.0\n",
    "test_data[:, 0, 0] = torch.sin(t * random_data[:, 0]) + 0.5 * torch.cos(t * random_data[:, 1]) \\\n",
    "                        + 2.0 * torch.sin(t * random_data[:, 2])\n",
    "for i in range(1, N_time):\n",
    "    t += dt\n",
    "    test_data[:, i, 0] = torch.sin(t * random_data[:, 0]) + 0.5 * torch.cos(t * random_data[:, 1]) \\\n",
    "                            + 2.0 * torch.sin(t * random_data[:, 2])\n",
    "    output_data_test[:, i, 0] = output_data_test[:, i-1, 0] + dt * test_data[:, i, 0]\n",
    "\n",
    "model_output = model(tp.spaces.Points(test_data, F)).as_tensor\n",
    "\n",
    "rel_error = torch.max(torch.abs(model_output - output_data_test)) / torch.max(output_data_test)\n",
    "\n",
    "print(f\"Relative error: {rel_error*100} %\")"
   ]
  },
  {
   "cell_type": "code",
   "execution_count": 9,
   "metadata": {},
   "outputs": [
    {
     "data": {
      "image/png": "[encoded data removed]",
      "text/plain": [
       "<Figure size 640x480 with 1 Axes>"
      ]
     },
     "metadata": {},
     "output_type": "display_data"
    }
   ],
   "source": [
    "import matplotlib.pyplot as plt\n",
    "\n",
    "example_plot = 6\n",
    "t = torch.linspace(0, 1, N_time)\n",
    "plt.plot(t, model_output[example_plot, :, 0].detach().cpu())\n",
    "plt.plot(t, output_data_test[example_plot, :, 0].detach().cpu())\n",
    "plt.legend([\"FNO Solution\", \"Correct Solution\"])\n",
    "plt.grid()"
   ]
  }
 ],
 "metadata": {
  "kernelspec": {
   "display_name": "bosch",
   "language": "python",
   "name": "python3"
  },
  "language_info": {
   "codemirror_mode": {
    "name": "ipython",
    "version": 3
   },
   "file_extension": ".py",
   "mimetype": "text/x-python",
   "name": "python",
   "nbconvert_exporter": "python",
   "pygments_lexer": "ipython3",
   "version": "3.11.7"
  }
 },
 "nbformat": 4,
 "nbformat_minor": 2
}
