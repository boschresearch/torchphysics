{
 "cells": [
  {
   "attachments": {},
   "cell_type": "markdown",
   "metadata": {},
   "source": [
    "### Inverse DeepONet\n",
    "In this notebook, we present the learning of the inverse operator, that maps solution data to some input data. \n",
    "To keep things simple we again consider the ODE:\n",
    "\\begin{align*}\n",
    "    \\partial_t u(t) &= f(t), \\text{ in } [0, 1] \\\\\n",
    "    u(0) &= 0\n",
    "\\end{align*}\n",
    "for different functions, $f$. Instead of learning the forward (intergal) operator $S:f \\to u$, we aim here to learn the \"inverse\" (differential) operator ${S^{-1}:u \\to f}$. \n",
    "\n",
    "For a DeepONet one needs a data pair of input data and expected solution, for the training of the inverse operator.\n",
    "The training would then consist of a fitting procedure. Where we plug our training data of $u$ into the branch net and the DeepONet should return the corresponding rhs $f$, at the given trunk input.  \n",
    "\n",
    "If we want to include physics into the training's loss, one generally needs some derivatives of the solution (which is only given by discrete values). To compute them, one can either apply some finite difference scheme or use one additional DeepONet to first interpolate the data and then train a second network for the inverse operator using the first DeepONet and a physics loss.\n",
    "\n",
    "Here we demonstrate the first option. The physics informed inverse DeepONet will be shown in a different example.\n"
   ]
  },
  {
   "cell_type": "code",
   "execution_count": 1,
   "metadata": {},
   "outputs": [],
   "source": [
    "import torch\n",
    "import numpy as np\n",
    "import torchphysics as tp\n",
    "import pytorch_lightning as pl"
   ]
  },
  {
   "attachments": {},
   "cell_type": "markdown",
   "metadata": {},
   "source": [
    "The generall parameter and variable definition is the same as in the forward problem:"
   ]
  },
  {
   "cell_type": "code",
   "execution_count": 2,
   "metadata": {},
   "outputs": [],
   "source": [
    "# Spaces \n",
    "T = tp.spaces.R1('t') # input variable\n",
    "U = tp.spaces.R1('u') # function output space name\n",
    "K = tp.spaces.R1('k') # parameter\n",
    "F = tp.spaces.R1('f') # output variable\n",
    "# Domains\n",
    "T_int = tp.domains.Interval(T, 0, 1)\n",
    "K_int = tp.domains.Interval(K, 0, 6) # Parameters will be scalar values (need to create some training data)"
   ]
  },
  {
   "cell_type": "code",
   "execution_count": 3,
   "metadata": {},
   "outputs": [],
   "source": [
    "# Defining function set\n",
    "Fn_space = tp.spaces.FunctionSpace(T_int, U)\n",
    "\n",
    "# Here some rhs functions that we consider in our example and network should output\n",
    "def f1(k, t):\n",
    "    return k*t\n",
    "\n",
    "def f2(k, t):\n",
    "    return k*t**2\n",
    "\n",
    "def f3(k, t):\n",
    "    return k*torch.cos(k*t)"
   ]
  },
  {
   "cell_type": "code",
   "execution_count": 4,
   "metadata": {},
   "outputs": [],
   "source": [
    "# Model\n",
    "dis_sampler = tp.samplers.GridSampler(T_int, 50).make_static()\n",
    "trunk_net = tp.models.FCTrunkNet(T, hidden=(30, 30))\n",
    "branch_net = tp.models.FCBranchNet(Fn_space, hidden=(50, 50), \n",
    "                                   discretization_sampler=dis_sampler)\n",
    "model = tp.models.DeepONet(trunk_net, branch_net, output_space=F, output_neurons=50)"
   ]
  },
  {
   "attachments": {},
   "cell_type": "markdown",
   "metadata": {},
   "source": [
    "Now we create some data, consisting of data functions (the defined **f** above) and the expected solutions of our ODE. For our example, we can compute them analytically.\n",
    "\n",
    "We evaluate both the solution functions only at the points of the discretization sampler, such they can be used as the branch input, while the data functions could be evaluated at arbitrary points in the interval.\n",
    "\n",
    "If the corresponding data would be available in some different kind of manner (e.g. measurements), one would skip this step."
   ]
  },
  {
   "cell_type": "code",
   "execution_count": 5,
   "metadata": {},
   "outputs": [],
   "source": [
    "# create evaluation points\n",
    "eval_points = dis_sampler.sample_points().as_tensor\n",
    "time_sampler = tp.samplers.GridSampler(T_int, n_points=1000)\n",
    "trunk_input_points = time_sampler.sample_points().as_tensor\n",
    "# Define expected solutions for the rhs of cell 3 (the different f functions)\n",
    "def u1(k, t):\n",
    "    return k/2.0 * t**2\n",
    "\n",
    "def u2(k, t):\n",
    "    return k/3.0 * t**3\n",
    "\n",
    "def u3(k, t):\n",
    "    return torch.sin(k*t)\n",
    "\n",
    "# create some dataset:\n",
    "num_data_points = 50000 # number of different data pairs\n",
    "f_list = [f1, f2, f3]\n",
    "u_list = [u1, u2, u3]\n",
    "param_sampler = tp.samplers.RandomUniformSampler(K_int, n_points=num_data_points)\n",
    "u_data_tensor = torch.zeros((num_data_points, len(eval_points), 1)) # tensor for the solution\n",
    "f_data_tensor = torch.zeros((num_data_points, len(trunk_input_points), 1)) # tensor for the rhs\n",
    "\n",
    "param_tensor = param_sampler.sample_points().as_tensor\n",
    "data_idx = 0\n",
    "for param in param_tensor:\n",
    "    rand_idx = np.random.randint(0, 3) # pick one of our the functions\n",
    "    # evaluate the functions\n",
    "    u_data_tensor[data_idx] = u_list[rand_idx](param, eval_points)\n",
    "    f_data_tensor[data_idx] = f_list[rand_idx](param, trunk_input_points)\n",
    "    data_idx += 1"
   ]
  },
  {
   "attachments": {},
   "cell_type": "markdown",
   "metadata": {},
   "source": [
    "Now some data is available, which can be used to train the inverse operator. For a data fitting task the **tp.utils.DeepONetDataLoader** and **tp.conditions.DeepONetDataCondition** are available. \n",
    "\n",
    "The Dataloader needs the data inputs in the follwing structure:\n",
    "\n",
    "   - branch_data: A tensor containing the branch inputs in the shape [number of data functions, input dim of Branchnet, dimension of function space]\n",
    "   - trunk_data: A tensor containing the input data for the trunk network. Here are two different shapes possible:\n",
    "\n",
    "      1) Every branch input function uses the same trunk values, then we can pass in\n",
    "               the shape: [number of trunk points, input dimension of trunk net]\n",
    "               This can speed up the trainings process. And is possible in our case.\n",
    "      2) Or every branch function has different input values for the trunk net, then we \n",
    "         need the shape: \n",
    "         [number of data functions, number of trunk points, input dimension of Trunknet]\n",
    "         If this is the case, remember to set **trunk_input_copied = false** inside\n",
    "         the trunk net, to get the right trainings process.    \n",
    "   - output_data : A tensor containing the expected output of the network. The shape of the data should be: \n",
    "        [number of data functions, number of trunk points, expected output dimension].\n",
    "\n",
    "Our previously created data is already in the correct shape."
   ]
  },
  {
   "cell_type": "code",
   "execution_count": 6,
   "metadata": {},
   "outputs": [],
   "source": [
    "data_loader = tp.utils.DeepONetDataLoader(branch_data=u_data_tensor, trunk_data=trunk_input_points, \n",
    "                                          output_data=f_data_tensor, branch_space=U, trunk_space=T, \n",
    "                                          output_space=F, branch_batch_size=25000, trunk_batch_size=len(eval_points),\n",
    "                                          shuffle_trunk = False)\n",
    "\n",
    "# The DataCondition then handles everything for the training, just like in the PINN case.\n",
    "# Via the keyword \"norm\" and \"root\" we can specify which norm should be used for computing the loss. Here we apply the L2 norm.\n",
    "data_condition = tp.conditions.DeepONetDataCondition(model, data_loader, norm=2, root=2)\n"
   ]
  },
  {
   "attachments": {},
   "cell_type": "markdown",
   "metadata": {},
   "source": [
    "Now we can start the trainig"
   ]
  },
  {
   "cell_type": "code",
   "execution_count": 7,
   "metadata": {
    "tags": []
   },
   "outputs": [
    {
     "name": "stderr",
     "output_type": "stream",
     "text": [
      "GPU available: True, used: True\n",
      "TPU available: False, using: 0 TPU cores\n",
      "LOCAL_RANK: 0 - CUDA_VISIBLE_DEVICES: [1]\n",
      "\n",
      "  | Name             | Type       | Params\n",
      "------------------------------------------------\n",
      "0 | train_conditions | ModuleList | 10.2 K\n",
      "1 | val_conditions   | ModuleList | 0     \n",
      "------------------------------------------------\n",
      "10.2 K    Trainable params\n",
      "0         Non-trainable params\n",
      "10.2 K    Total params\n",
      "0.041     Total estimated model params size (MB)\n",
      "/home/tomfre/miniconda3/envs/bosch/lib/python3.9/site-packages/pytorch_lightning/utilities/distributed.py:69: UserWarning: The dataloader, train dataloader, does not have many workers which may be a bottleneck. Consider increasing the value of the `num_workers` argument` (try 24 which is the number of cpus on this machine) in the `DataLoader` init to improve performance.\n",
      "  warnings.warn(*args, **kwargs)\n",
      "/home/tomfre/miniconda3/envs/bosch/lib/python3.9/site-packages/pytorch_lightning/utilities/distributed.py:69: UserWarning: The dataloader, val dataloader 0, does not have many workers which may be a bottleneck. Consider increasing the value of the `num_workers` argument` (try 24 which is the number of cpus on this machine) in the `DataLoader` init to improve performance.\n",
      "  warnings.warn(*args, **kwargs)\n"
     ]
    },
    {
     "data": {
      "application/vnd.jupyter.widget-view+json": {
       "model_id": "6df74512dbe940048c789d28e5b70794",
       "version_major": 2,
       "version_minor": 0
      },
      "text/plain": [
       "Training: 0it [00:00, ?it/s]"
      ]
     },
     "metadata": {},
     "output_type": "display_data"
    },
    {
     "data": {
      "application/vnd.jupyter.widget-view+json": {
       "model_id": "bdccd39ed3154e2c8fc1240e65c0b356",
       "version_major": 2,
       "version_minor": 0
      },
      "text/plain": [
       "Validating: 0it [00:00, ?it/s]"
      ]
     },
     "metadata": {},
     "output_type": "display_data"
    }
   ],
   "source": [
    "optim = tp.OptimizerSetting(optimizer_class=torch.optim.Adam, lr=0.0005)\n",
    "\n",
    "solver = tp.solver.Solver([data_condition], optimizer_setting=optim)\n",
    "\n",
    "trainer = pl.Trainer(devices=1, accelerator=\"gpu\",\n",
    "                     num_sanity_val_steps=0,\n",
    "                     benchmark=True,\n",
    "                     max_steps=10000, \n",
    "                     logger=False, \n",
    "                     enable_checkpointing=False)\n",
    "\n",
    "trainer.fit(solver)"
   ]
  },
  {
   "cell_type": "code",
   "execution_count": 8,
   "metadata": {},
   "outputs": [
    {
     "name": "stderr",
     "output_type": "stream",
     "text": [
      "GPU available: True, used: True\n",
      "TPU available: False, using: 0 TPU cores\n",
      "LOCAL_RANK: 0 - CUDA_VISIBLE_DEVICES: [1]\n",
      "\n",
      "  | Name             | Type       | Params\n",
      "------------------------------------------------\n",
      "0 | train_conditions | ModuleList | 10.2 K\n",
      "1 | val_conditions   | ModuleList | 0     \n",
      "------------------------------------------------\n",
      "10.2 K    Trainable params\n",
      "0         Non-trainable params\n",
      "10.2 K    Total params\n",
      "0.041     Total estimated model params size (MB)\n"
     ]
    },
    {
     "data": {
      "application/vnd.jupyter.widget-view+json": {
       "model_id": "8ec664fa457e48b195d1f8f19aee774c",
       "version_major": 2,
       "version_minor": 0
      },
      "text/plain": [
       "Training: 0it [00:00, ?it/s]"
      ]
     },
     "metadata": {},
     "output_type": "display_data"
    },
    {
     "data": {
      "application/vnd.jupyter.widget-view+json": {
       "model_id": "113e3bc6b95c4f4798317b9d63eed528",
       "version_major": 2,
       "version_minor": 0
      },
      "text/plain": [
       "Validating: 0it [00:00, ?it/s]"
      ]
     },
     "metadata": {},
     "output_type": "display_data"
    }
   ],
   "source": [
    "optim = tp.OptimizerSetting(optimizer_class=torch.optim.Adam, lr=0.00005)\n",
    "\n",
    "solver = tp.solver.Solver([data_condition], optimizer_setting=optim)\n",
    "\n",
    "trainer = pl.Trainer(devices=1, accelerator=\"gpu\",\n",
    "                     num_sanity_val_steps=0,\n",
    "                     benchmark=True,\n",
    "                     max_steps=1000, \n",
    "                     logger=False, \n",
    "                     enable_checkpointing=False)\n",
    "\n",
    "trainer.fit(solver)"
   ]
  },
  {
   "cell_type": "code",
   "execution_count": 9,
   "metadata": {},
   "outputs": [
    {
     "data": {
      "text/plain": [
       "<matplotlib.legend.Legend at 0x7f34306e8700>"
      ]
     },
     "execution_count": 9,
     "metadata": {},
     "output_type": "execute_result"
    },
    {
     "data": {
      "image/png": "[encoded data removed]",
      "text/plain": [
       "<Figure size 432x288 with 1 Axes>"
      ]
     },
     "metadata": {
      "needs_background": "light"
     },
     "output_type": "display_data"
    }
   ],
   "source": [
    "import matplotlib.pyplot as plt\n",
    "\n",
    "# some parameter value\n",
    "k0 = 1.16\n",
    "def u(t):\n",
    "    return k0/2.0 * t**2\n",
    "\n",
    "def f(t):\n",
    "    return k0 * t\n",
    "\n",
    "model.fix_branch_input(u)\n",
    "grid_sampler = tp.samplers.GridSampler(T_int, 500)\n",
    "grid_points = grid_sampler.sample_points().as_tensor\n",
    "out = model(tp.spaces.Points(grid_points, T)).as_tensor.detach()[0]\n",
    "\n",
    "grid_p = grid_points\n",
    "plt.plot(grid_p, out)\n",
    "plt.plot(grid_p, f(grid_p))\n",
    "plt.grid()\n",
    "plt.legend(['Network output', 'Analytical solution'])"
   ]
  },
  {
   "cell_type": "code",
   "execution_count": 10,
   "metadata": {},
   "outputs": [
    {
     "data": {
      "text/plain": [
       "<matplotlib.legend.Legend at 0x7f34310575e0>"
      ]
     },
     "execution_count": 10,
     "metadata": {},
     "output_type": "execute_result"
    },
    {
     "data": {
      "image/png": "[encoded data removed]",
      "text/plain": [
       "<Figure size 432x288 with 1 Axes>"
      ]
     },
     "metadata": {
      "needs_background": "light"
     },
     "output_type": "display_data"
    }
   ],
   "source": [
    "import matplotlib.pyplot as plt\n",
    "\n",
    "# some parameter value\n",
    "k0 = 5.56\n",
    "def u(t):\n",
    "    return torch.sin(k0 * t)\n",
    "\n",
    "def f(t):\n",
    "    return k0 * torch.cos(k0 * t)\n",
    "\n",
    "model.fix_branch_input(u)\n",
    "grid_sampler = tp.samplers.GridSampler(T_int, 500)\n",
    "grid_points = grid_sampler.sample_points().as_tensor\n",
    "out = model(tp.spaces.Points(grid_points, T)).as_tensor.detach()[0]\n",
    "\n",
    "grid_p = grid_points\n",
    "plt.plot(grid_p, out)\n",
    "plt.plot(grid_p, f(grid_p))\n",
    "plt.grid()\n",
    "plt.legend(['Network output', 'Analytical solution'])"
   ]
  }
 ],
 "metadata": {
  "interpreter": {
   "hash": "fb770cb910411e790a99fd848f827dc995ac53be5098d939fbaa56bcec3c9277"
  },
  "kernelspec": {
   "display_name": "Python 3",
   "language": "python",
   "name": "python3"
  },
  "language_info": {
   "codemirror_mode": {
    "name": "ipython",
    "version": 3
   },
   "file_extension": ".py",
   "mimetype": "text/x-python",
   "name": "python",
   "nbconvert_exporter": "python",
   "pygments_lexer": "ipython3",
   "version": "3.9.15"
  },
  "orig_nbformat": 4
 },
 "nbformat": 4,
 "nbformat_minor": 2
}
