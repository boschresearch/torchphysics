{
 "cells": [
  {
   "cell_type": "code",
   "execution_count": 1,
   "metadata": {},
   "outputs": [],
   "source": [
    "import torchphysics as tp\n",
    "import torch\n",
    "import pytorch_lightning as pl"
   ]
  },
  {
   "cell_type": "code",
   "execution_count": 2,
   "metadata": {},
   "outputs": [],
   "source": [
    "# Problem params:\n",
    "x0 = [0.0, 0.5] # inital position/speed\n",
    "t_end = 10 # sec\n",
    "D = 1\n",
    "omega_0 = 1\n",
    "mu = 0.75\n",
    "# Spaces \n",
    "T = tp.spaces.R1('t') # input variable\n",
    "U = tp.spaces.R1('u') # output variable\n",
    "K1 = tp.spaces.R1('k1') # parameter\n",
    "K2 = tp.spaces.R1('k2') # parameter\n",
    "F = tp.spaces.R1('f') # function output space name\n",
    "# Domains\n",
    "A_t = tp.domains.Interval(T, 0.0, t_end)\n",
    "K_int = tp.domains.Interval(K1, 0, 2)\n",
    "K_int2 = tp.domains.Interval(K2, 5, 10)\n",
    "#Sampler (for inner sampler add the left boundary, else delta right-hand side can't be learned)\n",
    "inner_sampler = tp.samplers.RandomUniformSampler(A_t, n_points = 4000) + tp.samplers.GridSampler(A_t.boundary_left, n_points = 1).make_static()\n",
    "initial_u_sampler = tp.samplers.GridSampler(A_t.boundary_left, n_points = 1).make_static()\n",
    "initial_v_sampler = tp.samplers.GridSampler(A_t.boundary_left, n_points = 1).make_static()"
   ]
  },
  {
   "cell_type": "code",
   "execution_count": 3,
   "metadata": {},
   "outputs": [],
   "source": [
    "# Defining function set\n",
    "Fn_space = tp.spaces.FunctionSpace(A_t, F)\n",
    "\n",
    "def f1(k1, t):\n",
    "    return torch.sin(k1*t)\n",
    "\n",
    "def delta(k2, t):\n",
    "    return k2 * torch.isclose(t, torch.tensor(0.0))\n",
    "\n",
    "param_sampler = tp.samplers.RandomUniformSampler(K_int, n_points=100)\n",
    "param_sampler_delta = tp.samplers.RandomUniformSampler(K_int2, n_points=50)\n",
    "Fn_set_1 = tp.domains.CustomFunctionSet(Fn_space, param_sampler, f1)\n",
    "Fn_set_2 = tp.domains.CustomFunctionSet(Fn_space, param_sampler_delta, delta)\n",
    "Fn_set = Fn_set_1 + Fn_set_2"
   ]
  },
  {
   "cell_type": "code",
   "execution_count": 4,
   "metadata": {},
   "outputs": [],
   "source": [
    "# custom convolution that should be used for the branch,\n",
    "# can also apply some pooling, or something else, if needed.\n",
    "# Just the output dimension and input of the linear layers has to fit\n",
    "class ConvolutionLayers(torch.nn.Module):\n",
    "    def __init__(self):\n",
    "        super().__init__()\n",
    "        self.conv1 = torch.nn.Conv1d(1, 1, 51, padding=25)\n",
    "        self.activation = torch.nn.Tanh()\n",
    "\n",
    "    def forward(self, x):\n",
    "        return self.activation(self.conv1(x))\n",
    "\n",
    "# custom activation, from old notebook\n",
    "class DampedSine(torch.nn.Module):\n",
    "    def __init__(self):\n",
    "        super().__init__()\n",
    "        pass\n",
    "\n",
    "    def forward(self, Tensor):\n",
    "        alpha = 0.1\n",
    "        return torch.exp(-alpha * Tensor) * torch.sin(Tensor)\n",
    "\n",
    "# Model\n",
    "dis_sampler = (tp.samplers.GridSampler(A_t.boundary_left, n_points = 1)\n",
    "                + tp.samplers.GridSampler(A_t, n_points = 800)).make_static()\n",
    "trunk_net = tp.models.FCTrunkNet(T, hidden=(50, 50),\n",
    "                                 xavier_gains=[3/5, 3/5, 0.0])\n",
    "branch_net = tp.models.ConvBranchNet1D(Fn_space, convolutional_network=ConvolutionLayers(),\n",
    "                                       hidden=(600, 500, 250), discretization_sampler=dis_sampler)\n",
    "model = tp.models.DeepONet(trunk_net, branch_net, U, output_neurons=80)"
   ]
  },
  {
   "cell_type": "code",
   "execution_count": 5,
   "metadata": {},
   "outputs": [],
   "source": [
    "def u_constrain(u, t):\n",
    "    return u * t **2 / t_end**2 + x0[1]*t + x0[0]\n",
    "\n",
    "def ode_residual(u, f, t):\n",
    "    u_con = u_constrain(u, t)\n",
    "    u_t = tp.utils.grad(u_con, t)\n",
    "    lhs = tp.utils.grad(u_t, t) + 2*D*u_t + omega_0**2 * (u_con + mu*u_con**3) \n",
    "    return lhs - f\n",
    "\n",
    "ode_cond = tp.conditions.PIDeepONetCondition(deeponet_model=model, \n",
    "                                             function_set=Fn_set, \n",
    "                                             input_sampler=inner_sampler, \n",
    "                                             name='ode_condition',\n",
    "                                             residual_fn=ode_residual)"
   ]
  },
  {
   "cell_type": "code",
   "execution_count": 6,
   "metadata": {},
   "outputs": [
    {
     "data": {
      "text/plain": [
       "'\\ndef initial_residual(u):\\n    return u - x0[0]\\n\\ninitial_cond = tp.conditions.PIDeepONetCondition(deeponet_model=model, \\n                                                 function_set=Fn_set, \\n                                                 input_sampler=initial_u_sampler, \\n                                                 residual_fn=initial_residual, weight=1000)\\n\\ndef initial_speed_residual(u, t):\\n    return tp.utils.grad(u, t) - x0[1]\\n\\ninitial_speed_cond = tp.conditions.PIDeepONetCondition(deeponet_model=model, \\n                                                       function_set=Fn_set, \\n                                                       input_sampler=initial_u_sampler, \\n                                                       residual_fn=initial_residual, weight=1000)\\n'"
      ]
     },
     "execution_count": 6,
     "metadata": {},
     "output_type": "execute_result"
    }
   ],
   "source": [
    "\"\"\"\n",
    "def initial_residual(u):\n",
    "    return u - x0[0]\n",
    "\n",
    "initial_cond = tp.conditions.PIDeepONetCondition(deeponet_model=model, \n",
    "                                                 function_set=Fn_set, \n",
    "                                                 input_sampler=initial_u_sampler, \n",
    "                                                 residual_fn=initial_residual, weight=1000)\n",
    "\n",
    "def initial_speed_residual(u, t):\n",
    "    return tp.utils.grad(u, t) - x0[1]\n",
    "\n",
    "initial_speed_cond = tp.conditions.PIDeepONetCondition(deeponet_model=model, \n",
    "                                                       function_set=Fn_set, \n",
    "                                                       input_sampler=initial_u_sampler, \n",
    "                                                       residual_fn=initial_residual, weight=1000)\n",
    "\"\"\""
   ]
  },
  {
   "cell_type": "code",
   "execution_count": 7,
   "metadata": {},
   "outputs": [
    {
     "name": "stderr",
     "output_type": "stream",
     "text": [
      "GPU available: True, used: True\n",
      "TPU available: False, using: 0 TPU cores\n",
      "LOCAL_RANK: 0 - CUDA_VISIBLE_DEVICES: [3]\n",
      "\n",
      "  | Name             | Type       | Params\n",
      "------------------------------------------------\n",
      "0 | train_conditions | ModuleList | 933 K \n",
      "1 | val_conditions   | ModuleList | 0     \n",
      "------------------------------------------------\n",
      "933 K     Trainable params\n",
      "0         Non-trainable params\n",
      "933 K     Total params\n",
      "3.735     Total estimated model params size (MB)\n",
      "/home/tomfre/miniconda3/envs/bosch/lib/python3.9/site-packages/pytorch_lightning/utilities/distributed.py:69: UserWarning: The dataloader, train dataloader, does not have many workers which may be a bottleneck. Consider increasing the value of the `num_workers` argument` (try 24 which is the number of cpus on this machine) in the `DataLoader` init to improve performance.\n",
      "  warnings.warn(*args, **kwargs)\n",
      "/home/tomfre/miniconda3/envs/bosch/lib/python3.9/site-packages/pytorch_lightning/utilities/distributed.py:69: UserWarning: The dataloader, val dataloader 0, does not have many workers which may be a bottleneck. Consider increasing the value of the `num_workers` argument` (try 24 which is the number of cpus on this machine) in the `DataLoader` init to improve performance.\n",
      "  warnings.warn(*args, **kwargs)\n"
     ]
    },
    {
     "data": {
      "application/vnd.jupyter.widget-view+json": {
       "model_id": "59015f1c25d44d81b08ccf672fc9ad54",
       "version_major": 2,
       "version_minor": 0
      },
      "text/plain": [
       "Training: 0it [00:00, ?it/s]"
      ]
     },
     "metadata": {},
     "output_type": "display_data"
    },
    {
     "data": {
      "application/vnd.jupyter.widget-view+json": {
       "model_id": "460abca5f9a34718afe42d3137125006",
       "version_major": 2,
       "version_minor": 0
      },
      "text/plain": [
       "Validating: 0it [00:00, ?it/s]"
      ]
     },
     "metadata": {},
     "output_type": "display_data"
    }
   ],
   "source": [
    "solver = tp.solver.Solver([ode_cond])\n",
    "\n",
    "trainer = pl.Trainer(devices=1, accelerator=\"gpu\",\n",
    "                     num_sanity_val_steps=0,\n",
    "                     benchmark=True,\n",
    "                     max_steps=30000, \n",
    "                     logger=False, \n",
    "                     enable_checkpointing=False)\n",
    "\n",
    "trainer.fit(solver)"
   ]
  },
  {
   "cell_type": "code",
   "execution_count": 8,
   "metadata": {},
   "outputs": [
    {
     "name": "stderr",
     "output_type": "stream",
     "text": [
      "GPU available: True, used: True\n",
      "TPU available: False, using: 0 TPU cores\n",
      "LOCAL_RANK: 0 - CUDA_VISIBLE_DEVICES: [3]\n",
      "\n",
      "  | Name             | Type       | Params\n",
      "------------------------------------------------\n",
      "0 | train_conditions | ModuleList | 933 K \n",
      "1 | val_conditions   | ModuleList | 0     \n",
      "------------------------------------------------\n",
      "933 K     Trainable params\n",
      "0         Non-trainable params\n",
      "933 K     Total params\n",
      "3.735     Total estimated model params size (MB)\n"
     ]
    },
    {
     "data": {
      "application/vnd.jupyter.widget-view+json": {
       "model_id": "17ef34adef49498bb58127bc9d8151b1",
       "version_major": 2,
       "version_minor": 0
      },
      "text/plain": [
       "Validation sanity check: 0it [00:00, ?it/s]"
      ]
     },
     "metadata": {},
     "output_type": "display_data"
    },
    {
     "data": {
      "application/vnd.jupyter.widget-view+json": {
       "model_id": "d3ed94b3061a4eba88de1a102194739c",
       "version_major": 2,
       "version_minor": 0
      },
      "text/plain": [
       "Training: 0it [00:00, ?it/s]"
      ]
     },
     "metadata": {},
     "output_type": "display_data"
    },
    {
     "data": {
      "application/vnd.jupyter.widget-view+json": {
       "model_id": "df5cb8df26d242d98acf98368734a9de",
       "version_major": 2,
       "version_minor": 0
      },
      "text/plain": [
       "Validating: 0it [00:00, ?it/s]"
      ]
     },
     "metadata": {},
     "output_type": "display_data"
    }
   ],
   "source": [
    "optim = tp.OptimizerSetting(optimizer_class=torch.optim.LBFGS, lr=0.5, \n",
    "                            optimizer_args={'max_iter':2, 'history_size': 100})\n",
    "\n",
    "# here now use grid points:\n",
    "ode_cond.input_sampler = tp.samplers.GridSampler(A_t, n_points=4000).make_static()\n",
    "# also fix parameters for input functions and take some more:\n",
    "Fn_set_1.parameter_sampler.n_points = 120\n",
    "Fn_set_1.parameter_sampler = Fn_set_1.parameter_sampler.make_static()\n",
    "Fn_set_2.parameter_sampler.n_points = 80\n",
    "Fn_set_2.parameter_sampler = Fn_set_2.parameter_sampler.make_static()\n",
    "\n",
    "solver = tp.solver.Solver(train_conditions=[ode_cond], optimizer_setting=optim)\n",
    "\n",
    "trainer = pl.Trainer(devices=1, accelerator=\"gpu\",\n",
    "                     num_sanity_val_steps=0,\n",
    "                     benchmark=True,\n",
    "                     max_steps=2500, \n",
    "                     logger=False, \n",
    "                     enable_checkpointing=False)\n",
    "trainer.fit(solver)"
   ]
  },
  {
   "cell_type": "code",
   "execution_count": 9,
   "metadata": {},
   "outputs": [
    {
     "data": {
      "text/plain": [
       "<matplotlib.legend.Legend at 0x7fd778c357f0>"
      ]
     },
     "execution_count": 9,
     "metadata": {},
     "output_type": "execute_result"
    },
    {
     "data": {
      "image/png": "[encoded data removed]",
      "text/plain": [
       "<Figure size 432x288 with 1 Axes>"
      ]
     },
     "metadata": {
      "needs_background": "light"
     },
     "output_type": "display_data"
    }
   ],
   "source": [
    "import matplotlib.pyplot as plt\n",
    "\n",
    "k0 = 1.8\n",
    "def f(t):\n",
    "    a = torch.sin(k0*t)\n",
    "    return a\n",
    "\n",
    "\n",
    "model.fix_branch_input(f)\n",
    "grid_sampler = tp.samplers.GridSampler(A_t, 2000)\n",
    "grid_points = grid_sampler.sample_points().unsqueeze(0)\n",
    "out = u_constrain(model(grid_points).as_tensor.detach()[0], grid_points.as_tensor.squeeze(0))\n",
    "# euler:\n",
    "grid_p = grid_points.as_tensor.squeeze(0)\n",
    "dis_f = f(grid_p).squeeze(0)\n",
    "delta_t = grid_p[1] - grid_p[0]\n",
    "u, v = torch.zeros_like(dis_f), torch.zeros_like(dis_f)\n",
    "u[0] = x0[0]\n",
    "v[0] = x0[1]\n",
    "for i in range(len(u)-1):\n",
    "    v[i+1] = v[i] + delta_t * (dis_f[i] - 2*D*v[i] - omega_0**2*(u[i] + mu * u[i]**3))\n",
    "    u[i+1] = u[i] + delta_t * v[i]\n",
    "plt.plot(grid_p, out)\n",
    "plt.plot(grid_p, u)\n",
    "plt.grid()\n",
    "plt.legend(['Network output', 'Euler solution'])"
   ]
  },
  {
   "cell_type": "code",
   "execution_count": 10,
   "metadata": {},
   "outputs": [
    {
     "data": {
      "text/plain": [
       "<matplotlib.legend.Legend at 0x7fd778c355e0>"
      ]
     },
     "execution_count": 10,
     "metadata": {},
     "output_type": "execute_result"
    },
    {
     "data": {
      "image/png": "[encoded data removed]",
      "text/plain": [
       "<Figure size 432x288 with 1 Axes>"
      ]
     },
     "metadata": {
      "needs_background": "light"
     },
     "output_type": "display_data"
    }
   ],
   "source": [
    "import matplotlib.pyplot as plt\n",
    "\n",
    "k0 = 5.0\n",
    "def f(t):\n",
    "    a = k0 * torch.isclose(t, torch.tensor(0.0))\n",
    "    return a\n",
    "\n",
    "\n",
    "model.fix_branch_input(f)\n",
    "grid_sampler = tp.samplers.GridSampler(A_t.boundary_left, 1) + tp.samplers.GridSampler(A_t, 2000)\n",
    "grid_points = grid_sampler.sample_points()\n",
    "out = u_constrain(model(grid_points).as_tensor.detach()[0], grid_points.as_tensor)\n",
    "# euler:\n",
    "grid_p = grid_points.as_tensor\n",
    "dis_f = f(grid_p).squeeze(0)\n",
    "delta_t = grid_p[1] - grid_p[0]\n",
    "u, v = torch.zeros_like(dis_f), torch.zeros_like(dis_f)\n",
    "u[0] = x0[0]\n",
    "v[0] = x0[1]\n",
    "for i in range(len(u)-1):\n",
    "    v[i+1] = v[i] + delta_t * (dis_f[i] - 2*D*v[i] - omega_0**2*(u[i] + mu * u[i]**3))\n",
    "    u[i+1] = u[i] + delta_t * v[i]\n",
    "plt.plot(grid_p, out)\n",
    "plt.plot(grid_p, u)\n",
    "plt.grid()\n",
    "plt.legend(['Network output', 'Euler solution'])"
   ]
  }
 ],
 "metadata": {
  "interpreter": {
   "hash": "fb770cb910411e790a99fd848f827dc995ac53be5098d939fbaa56bcec3c9277"
  },
  "kernelspec": {
   "display_name": "Python 3.9.4 64-bit ('bosch': conda)",
   "language": "python",
   "name": "python3"
  },
  "language_info": {
   "codemirror_mode": {
    "name": "ipython",
    "version": 3
   },
   "file_extension": ".py",
   "mimetype": "text/x-python",
   "name": "python",
   "nbconvert_exporter": "python",
   "pygments_lexer": "ipython3",
   "version": "3.11.7"
  },
  "orig_nbformat": 4
 },
 "nbformat": 4,
 "nbformat_minor": 2
}
